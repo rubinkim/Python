{
  "nbformat": 4,
  "nbformat_minor": 0,
  "metadata": {
    "colab": {
      "name": "u32_람다함수.ipynb",
      "provenance": [],
      "collapsed_sections": []
    },
    "kernelspec": {
      "name": "python3",
      "display_name": "Python 3"
    },
    "language_info": {
      "name": "python"
    }
  },
  "cells": [
    {
      "cell_type": "markdown",
      "metadata": {
        "id": "xLaSR2Ksg2Oh"
      },
      "source": [
        "# Unit 32. 람다 함수 - 익명(Anonymous)함수\n"
      ]
    },
    {
      "cell_type": "code",
      "metadata": {
        "id": "4uQF7JiKbx7g"
      },
      "source": [
        "def plus_ten(x):\n",
        "    return x + 10"
      ],
      "execution_count": 1,
      "outputs": []
    },
    {
      "cell_type": "code",
      "metadata": {
        "colab": {
          "base_uri": "https://localhost:8080/"
        },
        "id": "N8SYikIghby_",
        "outputId": "767fc156-8bf3-45e3-fc5d-9641f61f764b"
      },
      "source": [
        "plus_ten(4)"
      ],
      "execution_count": 2,
      "outputs": [
        {
          "output_type": "execute_result",
          "data": {
            "text/plain": [
              "14"
            ]
          },
          "metadata": {
            "tags": []
          },
          "execution_count": 2
        }
      ]
    },
    {
      "cell_type": "code",
      "metadata": {
        "colab": {
          "base_uri": "https://localhost:8080/"
        },
        "id": "yT9nGnxOhj62",
        "outputId": "631adaeb-42e1-49d4-f88c-9f29df4d5475"
      },
      "source": [
        "plus_ten2 = lambda x : x + 10  # : 왼쪽은 매개변수, 오른쪽은 리턴값\n",
        "plus_ten2(4)"
      ],
      "execution_count": 4,
      "outputs": [
        {
          "output_type": "execute_result",
          "data": {
            "text/plain": [
              "14"
            ]
          },
          "metadata": {
            "tags": []
          },
          "execution_count": 4
        }
      ]
    },
    {
      "cell_type": "code",
      "metadata": {
        "colab": {
          "base_uri": "https://localhost:8080/"
        },
        "id": "bSo7sRWBiM8p",
        "outputId": "5704bda3-30fd-45b0-f1ae-4c9af63414f7"
      },
      "source": [
        "(lambda x : x + 10)(4)   # 굳이 변수명을 지정할 필요가 없다"
      ],
      "execution_count": 6,
      "outputs": [
        {
          "output_type": "execute_result",
          "data": {
            "text/plain": [
              "14"
            ]
          },
          "metadata": {
            "tags": []
          },
          "execution_count": 6
        }
      ]
    },
    {
      "cell_type": "code",
      "metadata": {
        "colab": {
          "base_uri": "https://localhost:8080/"
        },
        "id": "6JU9bDjwihZg",
        "outputId": "a994f4c4-260c-499c-fa3f-07b4babd76d8"
      },
      "source": [
        "list(map(lambda x : int(x) + 10, input().split()))"
      ],
      "execution_count": 7,
      "outputs": [
        {
          "output_type": "stream",
          "text": [
            "2 5 10\n"
          ],
          "name": "stdout"
        },
        {
          "output_type": "execute_result",
          "data": {
            "text/plain": [
              "[12, 15, 20]"
            ]
          },
          "metadata": {
            "tags": []
          },
          "execution_count": 7
        }
      ]
    },
    {
      "cell_type": "code",
      "metadata": {
        "colab": {
          "base_uri": "https://localhost:8080/"
        },
        "id": "XwkR4mqui6-k",
        "outputId": "a62be8ae-1304-4670-f1b4-f22a802fd805"
      },
      "source": [
        "def plus_ten(x):\n",
        "    return int(x) + 10\n",
        "list(map(plus_ten, input().split()))"
      ],
      "execution_count": 8,
      "outputs": [
        {
          "output_type": "stream",
          "text": [
            "2 5 10\n"
          ],
          "name": "stdout"
        },
        {
          "output_type": "execute_result",
          "data": {
            "text/plain": [
              "[12, 15, 20]"
            ]
          },
          "metadata": {
            "tags": []
          },
          "execution_count": 8
        }
      ]
    },
    {
      "cell_type": "code",
      "metadata": {
        "colab": {
          "base_uri": "https://localhost:8080/"
        },
        "id": "wuQF4wAzjQD2",
        "outputId": "d2ad235f-6fd6-428e-fe0d-cfcb21cea9f6"
      },
      "source": [
        "list(map(lambda x : 2 ** int(x), input().split()))"
      ],
      "execution_count": 9,
      "outputs": [
        {
          "output_type": "stream",
          "text": [
            "2 5 10\n"
          ],
          "name": "stdout"
        },
        {
          "output_type": "execute_result",
          "data": {
            "text/plain": [
              "[4, 32, 1024]"
            ]
          },
          "metadata": {
            "tags": []
          },
          "execution_count": 9
        }
      ]
    },
    {
      "cell_type": "markdown",
      "metadata": {
        "id": "ns9jCPrsj3ra"
      },
      "source": [
        "### 제약사항\n"
      ]
    },
    {
      "cell_type": "code",
      "metadata": {
        "colab": {
          "base_uri": "https://localhost:8080/",
          "height": 135
        },
        "id": "V39YvpTbjxy5",
        "outputId": "8a82d526-5df3-403c-85c9-c83dd753a846"
      },
      "source": [
        "# 람다함수에서 변수를 만들 수 없음\n",
        "(lambda x : y = 10; x + y)(3)"
      ],
      "execution_count": 11,
      "outputs": [
        {
          "output_type": "error",
          "ename": "SyntaxError",
          "evalue": "ignored",
          "traceback": [
            "\u001b[0;36m  File \u001b[0;32m\"<ipython-input-11-946ede63f22e>\"\u001b[0;36m, line \u001b[0;32m2\u001b[0m\n\u001b[0;31m    (lambda x : y = 10; x + y)(3)\u001b[0m\n\u001b[0m                  ^\u001b[0m\n\u001b[0;31mSyntaxError\u001b[0m\u001b[0;31m:\u001b[0m invalid syntax\n"
          ]
        }
      ]
    },
    {
      "cell_type": "code",
      "metadata": {
        "colab": {
          "base_uri": "https://localhost:8080/"
        },
        "id": "63ackepEkANd",
        "outputId": "b072a048-7a11-4ea1-e378-7632da96b51b"
      },
      "source": [
        "(lambda x, y : x + y)(3, 10)"
      ],
      "execution_count": 12,
      "outputs": [
        {
          "output_type": "execute_result",
          "data": {
            "text/plain": [
              "13"
            ]
          },
          "metadata": {
            "tags": []
          },
          "execution_count": 12
        }
      ]
    },
    {
      "cell_type": "markdown",
      "metadata": {
        "id": "yiI-FqU7ktBw"
      },
      "source": [
        "### 조건부 함수\n",
        "- 3항 연산자 elif는 사용할 수 없고 if가 나오면 반드시 그다음엔 else가 나와야 한다"
      ]
    },
    {
      "cell_type": "code",
      "metadata": {
        "colab": {
          "base_uri": "https://localhost:8080/"
        },
        "id": "-igBOxwKkQEJ",
        "outputId": "6cb7b157-c0ad-4dcb-a6e0-1f4ec02e76a7"
      },
      "source": [
        "# 리스트 a에서 3의 배수를 문자열로 변환\n",
        "a = list(range(1,11))\n",
        "list(map(lambda x : str(x) if x % 3 == 0 else x , a))"
      ],
      "execution_count": 15,
      "outputs": [
        {
          "output_type": "execute_result",
          "data": {
            "text/plain": [
              "[1, 2, '3', 4, 5, '6', 7, 8, '9', 10]"
            ]
          },
          "metadata": {
            "tags": []
          },
          "execution_count": 15
        }
      ]
    },
    {
      "cell_type": "code",
      "metadata": {
        "colab": {
          "base_uri": "https://localhost:8080/"
        },
        "id": "ooyat74blUvo",
        "outputId": "71dd7fcc-5de7-4aad-c4f0-4b69ac9ba18d"
      },
      "source": [
        "# 리스트 a에서 3의 배수는 문자열로 , 5의 배수는 실수로 변환\n",
        "list(map(lambda x : str(x) if x % 3 == 0 else float(x) if x % 5 == 0 else x, a))"
      ],
      "execution_count": 16,
      "outputs": [
        {
          "output_type": "execute_result",
          "data": {
            "text/plain": [
              "[1, 2, '3', 4, 5.0, '6', 7, 8, '9', 10.0]"
            ]
          },
          "metadata": {
            "tags": []
          },
          "execution_count": 16
        }
      ]
    },
    {
      "cell_type": "markdown",
      "metadata": {
        "id": "NFd6c-F4ntTy"
      },
      "source": [
        "### map에 여러개의 객체 넣기"
      ]
    },
    {
      "cell_type": "code",
      "metadata": {
        "colab": {
          "base_uri": "https://localhost:8080/"
        },
        "id": "RouAFNkcmYIQ",
        "outputId": "79d44cb3-deea-4353-ee78-724d8d9c76f2"
      },
      "source": [
        "a = [1,2,3,4,5]\n",
        "b = [6,7,8,9,10]\n",
        "list(map(lambda x, y : x * y, a, b))"
      ],
      "execution_count": 18,
      "outputs": [
        {
          "output_type": "execute_result",
          "data": {
            "text/plain": [
              "[6, 14, 24, 36, 50]"
            ]
          },
          "metadata": {
            "tags": []
          },
          "execution_count": 18
        }
      ]
    },
    {
      "cell_type": "markdown",
      "metadata": {
        "id": "rVeqFlSvoOGH"
      },
      "source": [
        "### filter\n",
        "- DataFrame에서 row에서 사용하지 실제로 lambda에서는 잘 안쓴다"
      ]
    },
    {
      "cell_type": "code",
      "metadata": {
        "colab": {
          "base_uri": "https://localhost:8080/"
        },
        "id": "4TKIlugMoC8K",
        "outputId": "fc9018b6-bd71-4ab1-e8db-fb5fb2b713e9"
      },
      "source": [
        "a = list(range(1,11))\n",
        "list(map(lambda x : 4 <= x < 8, a))"
      ],
      "execution_count": 19,
      "outputs": [
        {
          "output_type": "execute_result",
          "data": {
            "text/plain": [
              "[False, False, False, True, True, True, True, False, False, False]"
            ]
          },
          "metadata": {
            "tags": []
          },
          "execution_count": 19
        }
      ]
    },
    {
      "cell_type": "code",
      "metadata": {
        "colab": {
          "base_uri": "https://localhost:8080/"
        },
        "id": "kiX5QFYboprw",
        "outputId": "f8f75481-7b49-449d-b5e5-c65693826a67"
      },
      "source": [
        "a = list(range(1,11))\n",
        "list(filter(lambda x : 4 <= x < 8, a))"
      ],
      "execution_count": 20,
      "outputs": [
        {
          "output_type": "execute_result",
          "data": {
            "text/plain": [
              "[4, 5, 6, 7]"
            ]
          },
          "metadata": {
            "tags": []
          },
          "execution_count": 20
        }
      ]
    },
    {
      "cell_type": "code",
      "metadata": {
        "id": "r304iceAo3VB"
      },
      "source": [
        ""
      ],
      "execution_count": null,
      "outputs": []
    }
  ]
}