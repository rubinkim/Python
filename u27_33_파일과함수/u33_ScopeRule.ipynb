{
  "nbformat": 4,
  "nbformat_minor": 0,
  "metadata": {
    "colab": {
      "name": "u33_ScopeRule.ipynb",
      "provenance": [],
      "collapsed_sections": []
    },
    "kernelspec": {
      "name": "python3",
      "display_name": "Python 3"
    },
    "language_info": {
      "name": "python"
    }
  },
  "cells": [
    {
      "cell_type": "markdown",
      "metadata": {
        "id": "_AWvY11RrnTj"
      },
      "source": [
        "# Unit33. 변수의 사용범위(Scope Rule)"
      ]
    },
    {
      "cell_type": "code",
      "metadata": {
        "colab": {
          "base_uri": "https://localhost:8080/"
        },
        "id": "eB4WcuV8rdOo",
        "outputId": "176004af-60e4-4253-9545-f15781d6d12c"
      },
      "source": [
        "x = 10        # 전역(global) 변수 함수 바깥에서 지정된 변수\n",
        "def foo():\n",
        "    print(x)\n",
        "\n",
        "foo()\n",
        "print(x)"
      ],
      "execution_count": 1,
      "outputs": [
        {
          "output_type": "stream",
          "text": [
            "10\n",
            "10\n"
          ],
          "name": "stdout"
        }
      ]
    },
    {
      "cell_type": "code",
      "metadata": {
        "colab": {
          "base_uri": "https://localhost:8080/"
        },
        "id": "H5wAbLPZr4nK",
        "outputId": "c3e1ca28-2884-42fe-e78e-362fd6ec9656"
      },
      "source": [
        "def foo():\n",
        "    y = 10    # 지역(local) 변수 함수안에서 지정된 변수\n",
        "    print(y)\n",
        "\n",
        "foo()"
      ],
      "execution_count": 3,
      "outputs": [
        {
          "output_type": "stream",
          "text": [
            "10\n"
          ],
          "name": "stdout"
        }
      ]
    },
    {
      "cell_type": "code",
      "metadata": {
        "colab": {
          "base_uri": "https://localhost:8080/",
          "height": 171
        },
        "id": "FywnKPl6sJMw",
        "outputId": "3ad2f701-5570-4b73-c844-2cd4a2a8a206"
      },
      "source": [
        "# 항상 매개변수를 통해서 함수 안밖을 왔다 갔다 할 수 있도록 코딩해라.\n",
        "# 매개변수를 통해서 값을 전달하고 리턴값으로 결과값받고 이것이 코딩의 정석이다.\n",
        "print(y)  # foo 함수바깥에서는 사용할 수 없다."
      ],
      "execution_count": 4,
      "outputs": [
        {
          "output_type": "error",
          "ename": "NameError",
          "evalue": "ignored",
          "traceback": [
            "\u001b[0;31m---------------------------------------------------------------------------\u001b[0m",
            "\u001b[0;31mNameError\u001b[0m                                 Traceback (most recent call last)",
            "\u001b[0;32m<ipython-input-4-d9183e048de3>\u001b[0m in \u001b[0;36m<module>\u001b[0;34m()\u001b[0m\n\u001b[0;32m----> 1\u001b[0;31m \u001b[0mprint\u001b[0m\u001b[0;34m(\u001b[0m\u001b[0my\u001b[0m\u001b[0;34m)\u001b[0m\u001b[0;34m\u001b[0m\u001b[0;34m\u001b[0m\u001b[0m\n\u001b[0m",
            "\u001b[0;31mNameError\u001b[0m: name 'y' is not defined"
          ]
        }
      ]
    },
    {
      "cell_type": "markdown",
      "metadata": {
        "id": "voAq3Q2Otq7y"
      },
      "source": [
        "## 함수 안에서 전역 변수 변경하기"
      ]
    },
    {
      "cell_type": "code",
      "metadata": {
        "colab": {
          "base_uri": "https://localhost:8080/"
        },
        "id": "3y3TVxkSsbKV",
        "outputId": "e606b2d4-3b7a-4d3e-f957-63cc2bba41c9"
      },
      "source": [
        "# 두개의 x는 이름만 같고 기억장소는 완전히 다르다.\n",
        "x = 10           # 전역 변수  \n",
        "def foo():\n",
        "    x = 20       # 로컬 변수 이변수의 수명은 함수 안이다.\n",
        "    print(x)\n",
        "\n",
        "foo()\n",
        "print(x)"
      ],
      "execution_count": 5,
      "outputs": [
        {
          "output_type": "stream",
          "text": [
            "20\n",
            "10\n"
          ],
          "name": "stdout"
        }
      ]
    },
    {
      "cell_type": "code",
      "metadata": {
        "colab": {
          "base_uri": "https://localhost:8080/"
        },
        "id": "cNYP7H-3t-jM",
        "outputId": "6b6d44c8-0d2a-49cb-9a3c-174e44129d89"
      },
      "source": [
        "# \n",
        "x = 10           # 전역 변수  \n",
        "def foo():\n",
        "    global x     # x를 global변수로 한다\n",
        "    x = 20       \n",
        "    print(x)\n",
        "\n",
        "foo()\n",
        "print(x)"
      ],
      "execution_count": 6,
      "outputs": [
        {
          "output_type": "stream",
          "text": [
            "20\n",
            "20\n"
          ],
          "name": "stdout"
        }
      ]
    },
    {
      "cell_type": "code",
      "metadata": {
        "colab": {
          "base_uri": "https://localhost:8080/"
        },
        "id": "TyJVLzxPuks-",
        "outputId": "b05d9096-c696-4759-f53a-e978ab0638b7"
      },
      "source": [
        "def foo():\n",
        "    global z \n",
        "    z = 10\n",
        "    print(z)\n",
        "\n",
        "foo()\n",
        "print(z)   # 함수 안에서 global로 했기 때문에 찍힌다"
      ],
      "execution_count": 8,
      "outputs": [
        {
          "output_type": "stream",
          "text": [
            "10\n",
            "10\n"
          ],
          "name": "stdout"
        }
      ]
    },
    {
      "cell_type": "code",
      "metadata": {
        "id": "47S5FAymvC_W"
      },
      "source": [
        ""
      ],
      "execution_count": null,
      "outputs": []
    }
  ]
}