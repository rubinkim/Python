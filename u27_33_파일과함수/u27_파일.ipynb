{
  "nbformat": 4,
  "nbformat_minor": 0,
  "metadata": {
    "colab": {
      "name": "u27_파일.ipynb",
      "provenance": [],
      "collapsed_sections": []
    },
    "kernelspec": {
      "name": "python3",
      "display_name": "Python 3"
    },
    "language_info": {
      "name": "python"
    }
  },
  "cells": [
    {
      "cell_type": "markdown",
      "metadata": {
        "id": "FoSgUh9Bk0VL"
      },
      "source": [
        "# Unit 27. 파일"
      ]
    },
    {
      "cell_type": "code",
      "metadata": {
        "id": "Nr9bDJ_s5vNj",
        "colab": {
          "base_uri": "https://localhost:8080/"
        },
        "outputId": "ad8cfee8-19a8-42ea-f510-d2b574af770b"
      },
      "source": [
        "ls -l sample_data/"
      ],
      "execution_count": null,
      "outputs": [
        {
          "output_type": "stream",
          "text": [
            "total 55504\n",
            "-rwxr-xr-x 1 root root     1697 Jan  1  2000 \u001b[0m\u001b[01;32manscombe.json\u001b[0m*\n",
            "-rw-r--r-- 1 root root   301141 Jul 16 13:20 california_housing_test.csv\n",
            "-rw-r--r-- 1 root root  1706430 Jul 16 13:20 california_housing_train.csv\n",
            "-rw-r--r-- 1 root root 18289443 Jul 16 13:20 mnist_test.csv\n",
            "-rw-r--r-- 1 root root 36523880 Jul 16 13:20 mnist_train_small.csv\n",
            "-rwxr-xr-x 1 root root      930 Jan  1  2000 \u001b[01;32mREADME.md\u001b[0m*\n"
          ],
          "name": "stdout"
        }
      ]
    },
    {
      "cell_type": "markdown",
      "metadata": {
        "id": "tse-TCIqmtRH"
      },
      "source": [
        "## 27.1 문자열 쓰기, 읽기"
      ]
    },
    {
      "cell_type": "code",
      "metadata": {
        "id": "fNkd4eoQmMXP"
      },
      "source": [
        "file = open('hello.txt', 'w')  \n",
        "file.write('Hello, jiyoung!')\n",
        "file.close()"
      ],
      "execution_count": null,
      "outputs": []
    },
    {
      "cell_type": "code",
      "metadata": {
        "colab": {
          "base_uri": "https://localhost:8080/"
        },
        "id": "yhbTTNlcnEM2",
        "outputId": "beccb94a-c802-48ed-e0fd-f464472b3df1"
      },
      "source": [
        "!cat hello.txt  # cat은 unix 명령어(windows에서는 type이다)"
      ],
      "execution_count": null,
      "outputs": [
        {
          "output_type": "stream",
          "text": [
            "Hello, jiyoung!"
          ],
          "name": "stdout"
        }
      ]
    },
    {
      "cell_type": "code",
      "metadata": {
        "colab": {
          "base_uri": "https://localhost:8080/"
        },
        "id": "Bk4MW4I-nL26",
        "outputId": "eb3f8113-820f-45b9-cd69-cd67b28be677"
      },
      "source": [
        "file = open('hello.txt', 'r') # 'r' mode가 default\n",
        "s = file.read()\n",
        "print(s)\n",
        "file.close()"
      ],
      "execution_count": null,
      "outputs": [
        {
          "output_type": "stream",
          "text": [
            "Hello, jiyoung!\n"
          ],
          "name": "stdout"
        }
      ]
    },
    {
      "cell_type": "markdown",
      "metadata": {
        "id": "oVkznM4vphwZ"
      },
      "source": [
        "### 파이썬 스타일"
      ]
    },
    {
      "cell_type": "code",
      "metadata": {
        "colab": {
          "base_uri": "https://localhost:8080/"
        },
        "id": "s_Ug7ts6oVIs",
        "outputId": "7246f48b-dfe4-496b-eb58-903a9306f9f8"
      },
      "source": [
        "with open('hello.txt') as file:\n",
        "    s = file.read()   # 들여쓰기가 끝나는 시점에 자동적으로 close된다\n",
        "print(s)"
      ],
      "execution_count": null,
      "outputs": [
        {
          "output_type": "stream",
          "text": [
            "Hello, jiyoung!\n"
          ],
          "name": "stdout"
        }
      ]
    },
    {
      "cell_type": "markdown",
      "metadata": {
        "id": "h9enouYkqJrg"
      },
      "source": [
        "## 27.2 문자열 여러줄"
      ]
    },
    {
      "cell_type": "code",
      "metadata": {
        "id": "jqCo69ropxrN"
      },
      "source": [
        "with open('hello.txt', 'w') as file:\n",
        "    for i in range(3):\n",
        "        file.write(f'Hello, world! {i+1}\\n')"
      ],
      "execution_count": null,
      "outputs": []
    },
    {
      "cell_type": "code",
      "metadata": {
        "colab": {
          "base_uri": "https://localhost:8080/"
        },
        "id": "JqxKBDTlqwbT",
        "outputId": "2700c288-b88a-41e7-801b-7744c60d442e"
      },
      "source": [
        "! cat hello.txt"
      ],
      "execution_count": null,
      "outputs": [
        {
          "output_type": "stream",
          "text": [
            "Hello, world! 1\n",
            "Hello, world! 2\n",
            "Hello, world! 3\n"
          ],
          "name": "stdout"
        }
      ]
    },
    {
      "cell_type": "code",
      "metadata": {
        "id": "qgNwYcGrq14j"
      },
      "source": [
        "lines = ['안녕하세요.\\n', '파이썬\\n', '코딩도장입니다.\\n']   # 여러줄의 데이터가 리스트 형태로 있는 경우\n",
        "with open('hello.txt', 'a', encoding='utf-8') as file:  # a : 계속 뒤에 붙인다\n",
        "    file.writelines(lines)   # 리스트에서 한줄씩 빼준다"
      ],
      "execution_count": null,
      "outputs": []
    },
    {
      "cell_type": "code",
      "metadata": {
        "colab": {
          "base_uri": "https://localhost:8080/"
        },
        "id": "xe3P0YT4rwP6",
        "outputId": "c2146d7c-2140-4ee8-f086-8f048cb626cf"
      },
      "source": [
        "!cat hello.txt"
      ],
      "execution_count": null,
      "outputs": [
        {
          "output_type": "stream",
          "text": [
            "Hello, world! 1\n",
            "Hello, world! 2\n",
            "Hello, world! 3\n",
            "안녕하세요.\n",
            "파이썬\n",
            "코딩도장입니다.\n"
          ],
          "name": "stdout"
        }
      ]
    },
    {
      "cell_type": "code",
      "metadata": {
        "id": "RQziRJDtrzN6"
      },
      "source": [
        "s = '''안녕하세요.\n",
        "파이썬\n",
        "코딩도장입니다.'''\n",
        "\n",
        "with open('hello.txt', 'w') as file:\n",
        "    file.write(s)"
      ],
      "execution_count": null,
      "outputs": []
    },
    {
      "cell_type": "code",
      "metadata": {
        "colab": {
          "base_uri": "https://localhost:8080/"
        },
        "id": "23cQ1Kdqs78R",
        "outputId": "9e4e007a-a428-4180-f91d-42c5ba719f5c"
      },
      "source": [
        "with open('hello.txt') as file:\n",
        "    s = file.read()\n",
        "\n",
        "print(s)"
      ],
      "execution_count": null,
      "outputs": [
        {
          "output_type": "stream",
          "text": [
            "안녕하세요.\n",
            "파이썬\n",
            "코딩도장입니다.\n"
          ],
          "name": "stdout"
        }
      ]
    },
    {
      "cell_type": "code",
      "metadata": {
        "colab": {
          "base_uri": "https://localhost:8080/"
        },
        "id": "Y0xWnWFGtWgv",
        "outputId": "bd4329c5-2d8a-40a6-b703-f0778ab5a271"
      },
      "source": [
        "with open('hello.txt') as file:\n",
        "    s = file.readline()   # 줄단위로 읽는다\n",
        "print(s)"
      ],
      "execution_count": null,
      "outputs": [
        {
          "output_type": "stream",
          "text": [
            "안녕하세요.\n",
            "\n"
          ],
          "name": "stdout"
        }
      ]
    },
    {
      "cell_type": "code",
      "metadata": {
        "colab": {
          "base_uri": "https://localhost:8080/"
        },
        "id": "jOTrQcNbte6o",
        "outputId": "e82d87a7-e58c-4353-ed00-039a37685cbb"
      },
      "source": [
        "# 몇줄인지 모르므로 while을 쓴다\n",
        "with open('hello.txt') as file:\n",
        "    line = None\n",
        "    while line != '':  # line이 null일때\n",
        "        line = file.readline()   # 줄단위로 읽는다\n",
        "        print(line.strip('\\n'))"
      ],
      "execution_count": null,
      "outputs": [
        {
          "output_type": "stream",
          "text": [
            "안녕하세요.\n",
            "파이썬\n",
            "코딩도장입니다.\n",
            "\n"
          ],
          "name": "stdout"
        }
      ]
    },
    {
      "cell_type": "code",
      "metadata": {
        "colab": {
          "base_uri": "https://localhost:8080/"
        },
        "id": "lY4vHMThtC_Y",
        "outputId": "d62e575d-8636-43ea-8ccd-726e02c12e1c"
      },
      "source": [
        "with open('hello.txt') as file:\n",
        "    s = file.readlines()   # 줄단위로 읽는다\n",
        "print(s)"
      ],
      "execution_count": null,
      "outputs": [
        {
          "output_type": "stream",
          "text": [
            "['안녕하세요.\\n', '파이썬\\n', '코딩도장입니다.']\n"
          ],
          "name": "stdout"
        }
      ]
    },
    {
      "cell_type": "code",
      "metadata": {
        "colab": {
          "base_uri": "https://localhost:8080/"
        },
        "id": "lV6aqgsvtQ4r",
        "outputId": "c3e9d202-1675-454f-909c-727f7ed55c6f"
      },
      "source": [
        "with open('hello.txt') as file:\n",
        "    for line in file:  # 파일객체는 iterator이다 __iter__이 있으면 반복가능하다\n",
        "        print(line)"
      ],
      "execution_count": null,
      "outputs": [
        {
          "output_type": "stream",
          "text": [
            "안녕하세요.\n",
            "\n",
            "파이썬\n",
            "\n",
            "코딩도장입니다.\n"
          ],
          "name": "stdout"
        }
      ]
    },
    {
      "cell_type": "code",
      "metadata": {
        "colab": {
          "base_uri": "https://localhost:8080/"
        },
        "id": "_KOKrzx5xB2d",
        "outputId": "75759510-6919-44d6-f710-0bad65e772aa"
      },
      "source": [
        "with open('hello.txt') as file:\n",
        "    for line in file:\n",
        "        print(line.strip('\\n'))"
      ],
      "execution_count": null,
      "outputs": [
        {
          "output_type": "stream",
          "text": [
            "안녕하세요.\n",
            "파이썬\n",
            "코딩도장입니다.\n"
          ],
          "name": "stdout"
        }
      ]
    },
    {
      "cell_type": "code",
      "metadata": {
        "colab": {
          "base_uri": "https://localhost:8080/"
        },
        "id": "Nmz3jYhUxazG",
        "outputId": "977bd30b-6d75-4ad1-8dfa-ff6f3653574f"
      },
      "source": [
        "x = {'a':10, 'b':20}\n",
        "print(dir(x))   # dir을 이용하면 속성과 메쏘드를 볼 수 있는데 __iter__가 있으면 for loop을 사용할 수 있다\n",
        "\n",
        "for a in x.keys():\n",
        "    print(a)"
      ],
      "execution_count": null,
      "outputs": [
        {
          "output_type": "stream",
          "text": [
            "['__class__', '__contains__', '__delattr__', '__delitem__', '__dir__', '__doc__', '__eq__', '__format__', '__ge__', '__getattribute__', '__getitem__', '__gt__', '__hash__', '__init__', '__init_subclass__', '__iter__', '__le__', '__len__', '__lt__', '__ne__', '__new__', '__reduce__', '__reduce_ex__', '__repr__', '__setattr__', '__setitem__', '__sizeof__', '__str__', '__subclasshook__', 'clear', 'copy', 'fromkeys', 'get', 'items', 'keys', 'pop', 'popitem', 'setdefault', 'update', 'values']\n",
            "a\n",
            "b\n"
          ],
          "name": "stdout"
        }
      ]
    },
    {
      "cell_type": "code",
      "metadata": {
        "colab": {
          "base_uri": "https://localhost:8080/"
        },
        "id": "bAZ7kDDxxqtD",
        "outputId": "d8a1eaee-d9fa-40b1-fa6e-f01aea7bee0e"
      },
      "source": [
        "with open('hello.txt') as file:\n",
        "    s = file.read(9)    # 10글자만 읽어라\n",
        "print(s)"
      ],
      "execution_count": null,
      "outputs": [
        {
          "output_type": "stream",
          "text": [
            "안녕하세요.\n",
            "파이\n"
          ],
          "name": "stdout"
        }
      ]
    },
    {
      "cell_type": "markdown",
      "metadata": {
        "id": "0OvYL1QtyzYA"
      },
      "source": [
        "### append"
      ]
    },
    {
      "cell_type": "code",
      "metadata": {
        "id": "qZA7HOX2ykem"
      },
      "source": [
        "with open('hello.txt', 'a') as file:      # a를 주면 이어붙이기\n",
        "    file.write('Append\\n')"
      ],
      "execution_count": null,
      "outputs": []
    },
    {
      "cell_type": "code",
      "metadata": {
        "colab": {
          "base_uri": "https://localhost:8080/"
        },
        "id": "ow7u62KXzKYF",
        "outputId": "cd13b413-cec1-4fd2-8aa7-666e5ce6b41d"
      },
      "source": [
        "!cat hello.txt"
      ],
      "execution_count": null,
      "outputs": [
        {
          "output_type": "stream",
          "text": [
            "안녕하세요.\n",
            "파이썬\n",
            "코딩도장입니다.Append\n"
          ],
          "name": "stdout"
        }
      ]
    },
    {
      "cell_type": "markdown",
      "metadata": {
        "id": "G6d6JBSZzbR4"
      },
      "source": [
        "### binary mode"
      ]
    },
    {
      "cell_type": "code",
      "metadata": {
        "colab": {
          "base_uri": "https://localhost:8080/"
        },
        "id": "qvp1285XzM6X",
        "outputId": "e3efcc3b-c2ff-4f0a-dc83-f4cf27811b51"
      },
      "source": [
        "with open('losAngeles.jpg', 'rb') as bin:  # rb를 이용해야 한다\n",
        "    x = bin.read(10)\n",
        "print(x)"
      ],
      "execution_count": null,
      "outputs": [
        {
          "output_type": "stream",
          "text": [
            "b'\\xff\\xd8\\xff\\xe1\\x15\\xf1Exif'\n"
          ],
          "name": "stdout"
        }
      ]
    },
    {
      "cell_type": "markdown",
      "metadata": {
        "id": "vSUMYpin09HE"
      },
      "source": [
        "## 27.3 파이썬 객체 읽고 쓰기"
      ]
    },
    {
      "cell_type": "code",
      "metadata": {
        "id": "RM64KSNEz2hC"
      },
      "source": [
        "# 모델을 파일에 저장하는 경우 pickle을 사용하기도 한다\n",
        "import pickle\n",
        "\n",
        "scores = {'kor': 90, 'eng':90, 'mat':80}\n",
        "with open('binary.pkl', 'wb') as file:\n",
        "    pickle.dump(scores, file)"
      ],
      "execution_count": null,
      "outputs": []
    },
    {
      "cell_type": "code",
      "metadata": {
        "colab": {
          "base_uri": "https://localhost:8080/"
        },
        "id": "bEOQblDu1pZU",
        "outputId": "aebd0e5d-e3bb-486a-dbb2-29ffefbbaffc"
      },
      "source": [
        "!cat binary.pkl"
      ],
      "execution_count": null,
      "outputs": [
        {
          "output_type": "stream",
          "text": [
            "�\u0003}q\u0000(X\u0003\u0000\u0000\u0000korq\u0001KZX\u0003\u0000\u0000\u0000engq\u0002KZX\u0003\u0000\u0000\u0000matq\u0003KPu."
          ],
          "name": "stdout"
        }
      ]
    },
    {
      "cell_type": "code",
      "metadata": {
        "colab": {
          "base_uri": "https://localhost:8080/"
        },
        "id": "haBuSIrR1sv-",
        "outputId": "7509ab91-8229-4622-b3c9-21c190cb2b8d"
      },
      "source": [
        "with open('binary.pkl', 'rb') as file:\n",
        "    new_scores = pickle.load(file)\n",
        "print(new_scores)"
      ],
      "execution_count": null,
      "outputs": [
        {
          "output_type": "stream",
          "text": [
            "{'kor': 90, 'eng': 90, 'mat': 80}\n"
          ],
          "name": "stdout"
        }
      ]
    },
    {
      "cell_type": "code",
      "metadata": {
        "id": "aXVIBsS31421"
      },
      "source": [
        ""
      ],
      "execution_count": null,
      "outputs": []
    }
  ]
}