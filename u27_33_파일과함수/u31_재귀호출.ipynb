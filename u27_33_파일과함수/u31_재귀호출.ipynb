{
  "nbformat": 4,
  "nbformat_minor": 0,
  "metadata": {
    "colab": {
      "name": "u31_재귀호출.ipynb",
      "provenance": [],
      "collapsed_sections": []
    },
    "kernelspec": {
      "name": "python3",
      "display_name": "Python 3"
    },
    "language_info": {
      "name": "python"
    }
  },
  "cells": [
    {
      "cell_type": "markdown",
      "metadata": {
        "id": "cWgqGzMPuDiy"
      },
      "source": [
        "# Unint 31. 재귀호출(Recursive Call)"
      ]
    },
    {
      "cell_type": "markdown",
      "metadata": {
        "id": "4d2l3In_ubA1"
      },
      "source": [
        "## factorial 함수를 재귀호출로 구현"
      ]
    },
    {
      "cell_type": "code",
      "metadata": {
        "id": "kJnp1cTut-9g"
      },
      "source": [
        "def factorial(n):\n",
        "    if n ==0:    # n==1 도 오케이이지만 수학적으로는 n==0가 의미가 있다.\n",
        "        return 1\n",
        "    return n * factorial(n-1)  # 위에 return이 있으니까 else 구문을 쓸 필요가 없다"
      ],
      "execution_count": 3,
      "outputs": []
    },
    {
      "cell_type": "code",
      "metadata": {
        "colab": {
          "base_uri": "https://localhost:8080/"
        },
        "id": "4OxbVaVXu-KF",
        "outputId": "45339393-1f9e-42d4-ed18-e27c4d582d4a"
      },
      "source": [
        "factorial(5)"
      ],
      "execution_count": 2,
      "outputs": [
        {
          "output_type": "execute_result",
          "data": {
            "text/plain": [
              "120"
            ]
          },
          "metadata": {
            "tags": []
          },
          "execution_count": 2
        }
      ]
    },
    {
      "cell_type": "markdown",
      "metadata": {
        "id": "NKPl6QGwwpDJ"
      },
      "source": [
        "### fibonacci 수열\n",
        "- f(n) = f(n-1) + f(n-2), n>=3일때\n",
        "- f(1) = f(2) = 1"
      ]
    },
    {
      "cell_type": "code",
      "metadata": {
        "id": "vVzZXuud0bdw"
      },
      "source": [
        "def fibo(n):\n",
        "    if n == 1 or n == 2:\n",
        "        return 1\n",
        "    return fibo(n-1) + fibo(n-2)"
      ],
      "execution_count": 4,
      "outputs": []
    },
    {
      "cell_type": "code",
      "metadata": {
        "colab": {
          "base_uri": "https://localhost:8080/"
        },
        "id": "pvbkC8a60pQ5",
        "outputId": "4e28fdf3-f5e1-43e8-d21c-6ae4a9898225"
      },
      "source": [
        "[fibo(i) for i in range(1, 11)]"
      ],
      "execution_count": 5,
      "outputs": [
        {
          "output_type": "execute_result",
          "data": {
            "text/plain": [
              "[1, 1, 2, 3, 5, 8, 13, 21, 34, 55]"
            ]
          },
          "metadata": {
            "tags": []
          },
          "execution_count": 5
        }
      ]
    },
    {
      "cell_type": "code",
      "metadata": {
        "id": "hk8PemrN0uc2"
      },
      "source": [
        ""
      ],
      "execution_count": null,
      "outputs": []
    }
  ]
}