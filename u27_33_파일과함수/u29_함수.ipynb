{
  "nbformat": 4,
  "nbformat_minor": 0,
  "metadata": {
    "colab": {
      "name": "u29_함수.ipynb",
      "provenance": [],
      "collapsed_sections": []
    },
    "kernelspec": {
      "name": "python3",
      "display_name": "Python 3"
    },
    "language_info": {
      "name": "python"
    }
  },
  "cells": [
    {
      "cell_type": "markdown",
      "metadata": {
        "id": "Tl8we_zGMKd4"
      },
      "source": [
        "# Unit 29.함수"
      ]
    },
    {
      "cell_type": "markdown",
      "metadata": {
        "id": "i5FhaULnMO4B"
      },
      "source": [
        "## 29.1 함수 만들기"
      ]
    },
    {
      "cell_type": "code",
      "metadata": {
        "id": "zyuSCo_PCm88"
      },
      "source": [
        "def hello():\n",
        "    print('Hello, world!')"
      ],
      "execution_count": 1,
      "outputs": []
    },
    {
      "cell_type": "code",
      "metadata": {
        "colab": {
          "base_uri": "https://localhost:8080/"
        },
        "id": "AqaZejNoO069",
        "outputId": "59a4911c-6358-4b45-cb0b-a4c0b64bd8b5"
      },
      "source": [
        "hello()"
      ],
      "execution_count": 2,
      "outputs": [
        {
          "output_type": "stream",
          "text": [
            "Hello, world!\n"
          ],
          "name": "stdout"
        }
      ]
    },
    {
      "cell_type": "code",
      "metadata": {
        "id": "wdxYjHvwO2qJ"
      },
      "source": [
        "def hello():\n",
        "    pass        # pass를 안하면 계속해서 반복한다"
      ],
      "execution_count": 3,
      "outputs": []
    },
    {
      "cell_type": "markdown",
      "metadata": {
        "id": "k0leIX5-Ptgx"
      },
      "source": [
        "## 29.2 덧셈 함수"
      ]
    },
    {
      "cell_type": "code",
      "metadata": {
        "id": "etv24KD6Pq1r"
      },
      "source": [
        "def add(a, b):  # a, b : argument, parameter(매개변수)\n",
        "    print(a + b)"
      ],
      "execution_count": 4,
      "outputs": []
    },
    {
      "cell_type": "code",
      "metadata": {
        "colab": {
          "base_uri": "https://localhost:8080/"
        },
        "id": "mvb6SWEAP_Ye",
        "outputId": "76fd3e0a-439c-4ce3-9c4e-c401669acebd"
      },
      "source": [
        "add(3.5, 4.7)"
      ],
      "execution_count": 5,
      "outputs": [
        {
          "output_type": "stream",
          "text": [
            "8.2\n"
          ],
          "name": "stdout"
        }
      ]
    },
    {
      "cell_type": "code",
      "metadata": {
        "id": "GQ83UU8uQC-r"
      },
      "source": [
        "# Docstrings : 함수를 설명해주는 글\n",
        "# Signature : 함수명(매개변수)\n",
        "def add(a, b): \n",
        "    \"\"\"\n",
        "    이 함수는 a와 b를 더한 뒤 결과를 반환하는 함수입니다.\n",
        "    \"\"\"\n",
        "    print(a + b)"
      ],
      "execution_count": 6,
      "outputs": []
    },
    {
      "cell_type": "code",
      "metadata": {
        "id": "Qh8e9-JAQ5u2"
      },
      "source": [
        "# 도움말 호출 class에도 동일하게 사용된다\n",
        "add?"
      ],
      "execution_count": 8,
      "outputs": []
    },
    {
      "cell_type": "markdown",
      "metadata": {
        "id": "e7Ej30nCRXl7"
      },
      "source": [
        "## 29.3 결과값 반환"
      ]
    },
    {
      "cell_type": "code",
      "metadata": {
        "id": "eIA6PnlhQ8ND"
      },
      "source": [
        "def add(a, b):\n",
        "    return a + b"
      ],
      "execution_count": 9,
      "outputs": []
    },
    {
      "cell_type": "code",
      "metadata": {
        "colab": {
          "base_uri": "https://localhost:8080/"
        },
        "id": "sA1B7E2RRmyt",
        "outputId": "8f17f5b6-5b8f-4c77-f6d0-bd40f0787ece"
      },
      "source": [
        "add(5.6, 2.1), add(4, 5)"
      ],
      "execution_count": 10,
      "outputs": [
        {
          "output_type": "execute_result",
          "data": {
            "text/plain": [
              "(7.699999999999999, 9)"
            ]
          },
          "metadata": {
            "tags": []
          },
          "execution_count": 10
        }
      ]
    },
    {
      "cell_type": "code",
      "metadata": {
        "colab": {
          "base_uri": "https://localhost:8080/"
        },
        "id": "0NiwKLORRrn2",
        "outputId": "de30ebb4-e3b3-4cbe-e49a-564128a7cfeb"
      },
      "source": [
        "x = add(23, 45)\n",
        "x"
      ],
      "execution_count": 11,
      "outputs": [
        {
          "output_type": "execute_result",
          "data": {
            "text/plain": [
              "68"
            ]
          },
          "metadata": {
            "tags": []
          },
          "execution_count": 11
        }
      ]
    },
    {
      "cell_type": "code",
      "metadata": {
        "id": "ljpiCxAAR5Jp"
      },
      "source": [
        "def is_ten(x):\n",
        "    return x == 10"
      ],
      "execution_count": 12,
      "outputs": []
    },
    {
      "cell_type": "code",
      "metadata": {
        "colab": {
          "base_uri": "https://localhost:8080/"
        },
        "id": "jsGE5us-SFlh",
        "outputId": "b771467d-c913-4561-9f7f-4b314da57bf6"
      },
      "source": [
        "is_ten(10), is_ten(1), is_ten(0), is_ten(101//10)"
      ],
      "execution_count": 14,
      "outputs": [
        {
          "output_type": "execute_result",
          "data": {
            "text/plain": [
              "(True, False, False, True)"
            ]
          },
          "metadata": {
            "tags": []
          },
          "execution_count": 14
        }
      ]
    },
    {
      "cell_type": "code",
      "metadata": {
        "id": "cAhZi-1bSJQJ"
      },
      "source": [
        "def not_ten(x):\n",
        "    if x == 10:\n",
        "        return     \n",
        "    else:\n",
        "        print('It is not 10.')"
      ],
      "execution_count": 17,
      "outputs": []
    },
    {
      "cell_type": "code",
      "metadata": {
        "colab": {
          "base_uri": "https://localhost:8080/"
        },
        "id": "6JPULm0gSbvF",
        "outputId": "2942243d-3266-46d2-b30d-e4a5840af072"
      },
      "source": [
        "not_ten(5)"
      ],
      "execution_count": 20,
      "outputs": [
        {
          "output_type": "stream",
          "text": [
            "It is not 10.\n"
          ],
          "name": "stdout"
        }
      ]
    },
    {
      "cell_type": "code",
      "metadata": {
        "id": "df52htvhSeyk"
      },
      "source": [
        "not_ten(101 // 10)"
      ],
      "execution_count": 21,
      "outputs": []
    },
    {
      "cell_type": "code",
      "metadata": {
        "id": "BWAS9IWWSzCH"
      },
      "source": [
        "def not_ten(x):\n",
        "    if x == 10:\n",
        "        return   # return 하게 되면 그 밑을 더이상 실행하지 않고 원래 프로그램으로 돌아간다. 함수가 끝이 난다\n",
        "    print('It is not 10.')"
      ],
      "execution_count": 25,
      "outputs": []
    },
    {
      "cell_type": "code",
      "metadata": {
        "colab": {
          "base_uri": "https://localhost:8080/"
        },
        "id": "4NMEpUuJTEjO",
        "outputId": "b52f28e8-f05b-4bc3-f24c-bb9f1ac3c5d6"
      },
      "source": [
        "not_ten(5)"
      ],
      "execution_count": 26,
      "outputs": [
        {
          "output_type": "stream",
          "text": [
            "It is not 10.\n"
          ],
          "name": "stdout"
        }
      ]
    },
    {
      "cell_type": "code",
      "metadata": {
        "id": "CJx7qMihTHAQ"
      },
      "source": [
        "not_ten(10)"
      ],
      "execution_count": 27,
      "outputs": []
    },
    {
      "cell_type": "markdown",
      "metadata": {
        "id": "Sul18yFZThr-"
      },
      "source": [
        "## 29.4 여러개의 결과값 반환\n",
        "- tuple unpacking으로 python에서만 가능하다"
      ]
    },
    {
      "cell_type": "code",
      "metadata": {
        "id": "VXC6JsNsTdF7"
      },
      "source": [
        "def add_sub(a, b):\n",
        "    return a+b, a-b"
      ],
      "execution_count": 29,
      "outputs": []
    },
    {
      "cell_type": "code",
      "metadata": {
        "colab": {
          "base_uri": "https://localhost:8080/"
        },
        "id": "6yHzQdQ2TrMl",
        "outputId": "41a2a5be-fa61-4216-d22f-119b226a45ed"
      },
      "source": [
        "x, y = add_sub(15, 7)\n",
        "x, y"
      ],
      "execution_count": 31,
      "outputs": [
        {
          "output_type": "execute_result",
          "data": {
            "text/plain": [
              "(22, 8)"
            ]
          },
          "metadata": {
            "tags": []
          },
          "execution_count": 31
        }
      ]
    },
    {
      "cell_type": "markdown",
      "metadata": {
        "id": "aVhY4feAUGbC"
      },
      "source": [
        "## 29.5 함수의 호출 과정"
      ]
    },
    {
      "cell_type": "code",
      "metadata": {
        "id": "d3Lw2FNgT8QK"
      },
      "source": [
        "# 스택을 이용한다\n"
      ],
      "execution_count": null,
      "outputs": []
    },
    {
      "cell_type": "markdown",
      "metadata": {
        "id": "TM55PggvVSN9"
      },
      "source": [
        "## 연습문제\n",
        "- 3자리수 정수 두개를 곱해서 나온 결과가 팔린드롬(Pallindrome)이 되도록 할때 가장 큰 숫자는?"
      ]
    },
    {
      "cell_type": "code",
      "metadata": {
        "id": "SppFWPNNbyW2"
      },
      "source": [
        "def is_pallindrome(x):\n",
        "    s = str(x)\n",
        "    return s == s[::-1]"
      ],
      "execution_count": 38,
      "outputs": []
    },
    {
      "cell_type": "code",
      "metadata": {
        "colab": {
          "base_uri": "https://localhost:8080/"
        },
        "id": "neynqoGzdFCi",
        "outputId": "c240fd61-e5be-4897-d366-24bbf15e9a6b"
      },
      "source": [
        "is_pallindrome(12345), is_pallindrome(9066609)"
      ],
      "execution_count": 39,
      "outputs": [
        {
          "output_type": "execute_result",
          "data": {
            "text/plain": [
              "(False, True)"
            ]
          },
          "metadata": {
            "tags": []
          },
          "execution_count": 39
        }
      ]
    },
    {
      "cell_type": "code",
      "metadata": {
        "colab": {
          "base_uri": "https://localhost:8080/"
        },
        "id": "ZXSzTP9mXr3A",
        "outputId": "faa92fa9-fad2-4650-ab0f-84df9e7573c1"
      },
      "source": [
        "max_pal, m, n = 0, 0, 0\n",
        "for i in range(100, 1000):\n",
        "    for k in range(100, 1000):\n",
        "        if is_pallindrome(i*k):\n",
        "            if i*k > max_pal:\n",
        "                max_pal = i*k \n",
        "                m = i\n",
        "                n = k    \n",
        "\n",
        "print(f'{m} x {n} = {max_pal}')"
      ],
      "execution_count": 43,
      "outputs": [
        {
          "output_type": "stream",
          "text": [
            "913 x 993 = 906609\n"
          ],
          "name": "stdout"
        }
      ]
    },
    {
      "cell_type": "code",
      "metadata": {
        "id": "FxPRzecTezb7"
      },
      "source": [
        ""
      ],
      "execution_count": null,
      "outputs": []
    }
  ]
}