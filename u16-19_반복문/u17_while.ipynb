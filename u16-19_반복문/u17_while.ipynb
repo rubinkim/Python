{
  "nbformat": 4,
  "nbformat_minor": 0,
  "metadata": {
    "colab": {
      "name": "u17_while.ipynb",
      "provenance": [],
      "collapsed_sections": []
    },
    "kernelspec": {
      "name": "python3",
      "display_name": "Python 3"
    },
    "language_info": {
      "name": "python"
    }
  },
  "cells": [
    {
      "cell_type": "markdown",
      "metadata": {
        "id": "LMb-C24xA1Nx"
      },
      "source": [
        "# Unit 17. while 반복문"
      ]
    },
    {
      "cell_type": "markdown",
      "metadata": {
        "id": "GsQWliTYA7SH"
      },
      "source": [
        "## 17.1 while 반복문\n",
        "- while True:\n",
        "- 조건이 참인동안 loop을 반복\n",
        "- 조건을 변경하는 코드가 반드시 있어야 한다\n",
        "- 조건이 만족하면 loop 탈출\n",
        "- 반복회수가 정해져 있으면 사용하지 마라(for문을 이용)\n"
      ]
    },
    {
      "cell_type": "markdown",
      "metadata": {
        "id": "54nOYPBdCE4N"
      },
      "source": [
        "## 17.2 반복회수가 없는 while 반복문"
      ]
    },
    {
      "cell_type": "code",
      "metadata": {
        "id": "dervpOdTAtI_"
      },
      "source": [
        "import random"
      ],
      "execution_count": 3,
      "outputs": []
    },
    {
      "cell_type": "code",
      "metadata": {
        "colab": {
          "base_uri": "https://localhost:8080/"
        },
        "id": "DC2NDFIRCV4I",
        "outputId": "aa0bec9e-136d-4e0b-e5ad-f538ef954871"
      },
      "source": [
        "random.random()"
      ],
      "execution_count": 4,
      "outputs": [
        {
          "output_type": "execute_result",
          "data": {
            "text/plain": [
              "0.021030994481922805"
            ]
          },
          "metadata": {
            "tags": []
          },
          "execution_count": 4
        }
      ]
    },
    {
      "cell_type": "code",
      "metadata": {
        "colab": {
          "base_uri": "https://localhost:8080/"
        },
        "id": "pz1p2hMBCYbb",
        "outputId": "e05e2ad2-0f34-4929-dc74-c1075362cade"
      },
      "source": [
        "random.randint(1,6)  # 1에서 6을 포함한 정수 하나를 선택"
      ],
      "execution_count": 7,
      "outputs": [
        {
          "output_type": "execute_result",
          "data": {
            "text/plain": [
              "5"
            ]
          },
          "metadata": {
            "tags": []
          },
          "execution_count": 7
        }
      ]
    },
    {
      "cell_type": "code",
      "metadata": {
        "colab": {
          "base_uri": "https://localhost:8080/"
        },
        "id": "fbJGwrX3CgAm",
        "outputId": "407ccf13-e59e-4e4e-98db-6f330e3c9b81"
      },
      "source": [
        "# 주사위의 눈이 3이 나오면 출력\n",
        "i = 0\n",
        "while i != 3:\n",
        "  i = random.randint(1,6)\n",
        "  print(i)"
      ],
      "execution_count": 9,
      "outputs": [
        {
          "output_type": "stream",
          "text": [
            "4\n",
            "4\n",
            "3\n"
          ],
          "name": "stdout"
        }
      ]
    },
    {
      "cell_type": "code",
      "metadata": {
        "colab": {
          "base_uri": "https://localhost:8080/"
        },
        "id": "I-tYh_LODEWp",
        "outputId": "35e685e4-b966-4e5d-b6cb-a0bddde71496"
      },
      "source": [
        "i = 0\n",
        "dice = list(range(1,7))\n",
        "while i != 3:\n",
        "  i = random.choice(dice)\n",
        "  print(i)"
      ],
      "execution_count": 10,
      "outputs": [
        {
          "output_type": "stream",
          "text": [
            "6\n",
            "4\n",
            "6\n",
            "1\n",
            "4\n",
            "3\n"
          ],
          "name": "stdout"
        }
      ]
    },
    {
      "cell_type": "code",
      "metadata": {
        "colab": {
          "base_uri": "https://localhost:8080/"
        },
        "id": "qhKW538oD6CF",
        "outputId": "ebd41814-eb65-4bc8-8465-19196df9a968"
      },
      "source": [
        "random.sample(dice, 6)"
      ],
      "execution_count": 16,
      "outputs": [
        {
          "output_type": "execute_result",
          "data": {
            "text/plain": [
              "[6, 4, 3, 5, 2, 1]"
            ]
          },
          "metadata": {
            "tags": []
          },
          "execution_count": 16
        }
      ]
    },
    {
      "cell_type": "code",
      "metadata": {
        "colab": {
          "base_uri": "https://localhost:8080/"
        },
        "id": "e0F1J-z6DYaD",
        "outputId": "cc1a9f5d-ef4f-4285-b870-78379eaa10c6"
      },
      "source": [
        "import numpy as np\n",
        "np.random.choice(dice, 3, False)"
      ],
      "execution_count": 13,
      "outputs": [
        {
          "output_type": "execute_result",
          "data": {
            "text/plain": [
              "array([1, 4, 5])"
            ]
          },
          "metadata": {
            "tags": []
          },
          "execution_count": 13
        }
      ]
    },
    {
      "cell_type": "code",
      "metadata": {
        "id": "USrq7s9RDu05"
      },
      "source": [
        ""
      ],
      "execution_count": null,
      "outputs": []
    }
  ]
}