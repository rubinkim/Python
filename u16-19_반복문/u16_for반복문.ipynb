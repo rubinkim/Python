{
  "nbformat": 4,
  "nbformat_minor": 0,
  "metadata": {
    "colab": {
      "name": "u16_for반복문.ipynb",
      "provenance": [],
      "collapsed_sections": []
    },
    "kernelspec": {
      "name": "python3",
      "display_name": "Python 3"
    },
    "language_info": {
      "name": "python"
    }
  },
  "cells": [
    {
      "cell_type": "markdown",
      "metadata": {
        "id": "kv_N8ciCs_Cm"
      },
      "source": [
        "# Unit 16. for 반복문"
      ]
    },
    {
      "cell_type": "markdown",
      "metadata": {
        "id": "vgu3KDcetErw"
      },
      "source": [
        "## 16.1 for와 range"
      ]
    },
    {
      "cell_type": "code",
      "metadata": {
        "colab": {
          "base_uri": "https://localhost:8080/"
        },
        "id": "a-Qu00O4syKv",
        "outputId": "21209e1b-f6e8-4b5b-e919-54dc7b38d09c"
      },
      "source": [
        "for i in range(10):\n",
        "  print('Hello, world!')"
      ],
      "execution_count": null,
      "outputs": [
        {
          "output_type": "stream",
          "text": [
            "Hello, world!\n",
            "Hello, world!\n",
            "Hello, world!\n",
            "Hello, world!\n",
            "Hello, world!\n",
            "Hello, world!\n",
            "Hello, world!\n",
            "Hello, world!\n",
            "Hello, world!\n",
            "Hello, world!\n"
          ],
          "name": "stdout"
        }
      ]
    },
    {
      "cell_type": "code",
      "metadata": {
        "colab": {
          "base_uri": "https://localhost:8080/"
        },
        "id": "mRU47bPXtcXa",
        "outputId": "2cb535e0-1cb9-4149-c57a-ff049ac03f91"
      },
      "source": [
        "for i in range(10):\n",
        "  print('Hello, world!', i)"
      ],
      "execution_count": null,
      "outputs": [
        {
          "output_type": "stream",
          "text": [
            "Hello, world! 0\n",
            "Hello, world! 1\n",
            "Hello, world! 2\n",
            "Hello, world! 3\n",
            "Hello, world! 4\n",
            "Hello, world! 5\n",
            "Hello, world! 6\n",
            "Hello, world! 7\n",
            "Hello, world! 8\n",
            "Hello, world! 9\n"
          ],
          "name": "stdout"
        }
      ]
    },
    {
      "cell_type": "code",
      "metadata": {
        "colab": {
          "base_uri": "https://localhost:8080/"
        },
        "id": "Y49YzNnnvQc6",
        "outputId": "5dc8cebf-a231-4b32-ce28-7bebce44225a"
      },
      "source": [
        "# i를 사용하지 않기 때문에 받지만 dummy로 처리하려면\n",
        "for _ in range(5):\n",
        "  print('Hello, world!')"
      ],
      "execution_count": null,
      "outputs": [
        {
          "output_type": "stream",
          "text": [
            "Hello, world!\n",
            "Hello, world!\n",
            "Hello, world!\n",
            "Hello, world!\n",
            "Hello, world!\n"
          ],
          "name": "stdout"
        }
      ]
    },
    {
      "cell_type": "markdown",
      "metadata": {
        "id": "O_Kw9bAbx3_T"
      },
      "source": [
        "## 16.2 for와 range 응용"
      ]
    },
    {
      "cell_type": "code",
      "metadata": {
        "colab": {
          "base_uri": "https://localhost:8080/"
        },
        "id": "2-L0ojtBxzmL",
        "outputId": "e6286a73-74b2-4661-ac83-9da2d447d88b"
      },
      "source": [
        "for i in range(6, 10):\n",
        "  print('Hello, world!', i)"
      ],
      "execution_count": null,
      "outputs": [
        {
          "output_type": "stream",
          "text": [
            "Hello, world! 6\n",
            "Hello, world! 7\n",
            "Hello, world! 8\n",
            "Hello, world! 9\n"
          ],
          "name": "stdout"
        }
      ]
    },
    {
      "cell_type": "code",
      "metadata": {
        "colab": {
          "base_uri": "https://localhost:8080/"
        },
        "id": "BLanTBohyJHU",
        "outputId": "090a3c0f-52c9-4458-a4e2-a4b6ee908944"
      },
      "source": [
        "for i in range(0, 10, 2):\n",
        "  print('Hello, world!', i)"
      ],
      "execution_count": null,
      "outputs": [
        {
          "output_type": "stream",
          "text": [
            "Hello, world! 0\n",
            "Hello, world! 2\n",
            "Hello, world! 4\n",
            "Hello, world! 6\n",
            "Hello, world! 8\n"
          ],
          "name": "stdout"
        }
      ]
    },
    {
      "cell_type": "code",
      "metadata": {
        "colab": {
          "base_uri": "https://localhost:8080/"
        },
        "id": "oFoVmOjhyOt6",
        "outputId": "789fad90-75c1-4b04-e36a-566c39d4e6e8"
      },
      "source": [
        "for i in range(10, 0, -2):\n",
        "  print('Hello, world!', f'{i:>02}')"
      ],
      "execution_count": 49,
      "outputs": [
        {
          "output_type": "stream",
          "text": [
            "Hello, world! 10\n",
            "Hello, world! 08\n",
            "Hello, world! 06\n",
            "Hello, world! 04\n",
            "Hello, world! 02\n"
          ],
          "name": "stdout"
        }
      ]
    },
    {
      "cell_type": "code",
      "metadata": {
        "id": "cZ_qOo73yUKr"
      },
      "source": [
        "# reversed 연습해라"
      ],
      "execution_count": null,
      "outputs": []
    },
    {
      "cell_type": "code",
      "metadata": {
        "colab": {
          "base_uri": "https://localhost:8080/"
        },
        "id": "2YXDDSqry5qg",
        "outputId": "bb1f8d8c-c993-4c92-9f17-b29a6d8154ab"
      },
      "source": [
        "for i in range(1, 101):\n",
        "  print('fizz' * (i % 3 == 0) + 'buzz' * (i % 5 == 0) or i, end = ' ')"
      ],
      "execution_count": null,
      "outputs": [
        {
          "output_type": "stream",
          "text": [
            "1 2 fizz 4 buzz fizz 7 8 fizz buzz 11 fizz 13 14 fizzbuzz 16 17 fizz 19 buzz fizz 22 23 fizz buzz 26 fizz 28 29 fizzbuzz 31 32 fizz 34 buzz fizz 37 38 fizz buzz 41 fizz 43 44 fizzbuzz 46 47 fizz 49 buzz fizz 52 53 fizz buzz 56 fizz 58 59 fizzbuzz 61 62 fizz 64 buzz fizz 67 68 fizz buzz 71 fizz 73 74 fizzbuzz 76 77 fizz 79 buzz fizz 82 83 fizz buzz 86 fizz 88 89 fizzbuzz 91 92 fizz 94 buzz fizz 97 98 fizz buzz "
          ],
          "name": "stdout"
        }
      ]
    },
    {
      "cell_type": "code",
      "metadata": {
        "colab": {
          "base_uri": "https://localhost:8080/"
        },
        "id": "Z0Hr3J9FzQFw",
        "outputId": "0e1365b7-135f-4518-8c0c-033f1d245b35"
      },
      "source": [
        "for i in range(1, 101):\n",
        "  print('fizz' * (i % 3 == 0) + 'buzz' * (i % 5 == 0) or i, end = ' ')\n",
        "  if (i % 10 == 0):\n",
        "    print()"
      ],
      "execution_count": null,
      "outputs": [
        {
          "output_type": "stream",
          "text": [
            "1 2 fizz 4 buzz fizz 7 8 fizz buzz \n",
            "11 fizz 13 14 fizzbuzz 16 17 fizz 19 buzz \n",
            "fizz 22 23 fizz buzz 26 fizz 28 29 fizzbuzz \n",
            "31 32 fizz 34 buzz fizz 37 38 fizz buzz \n",
            "41 fizz 43 44 fizzbuzz 46 47 fizz 49 buzz \n",
            "fizz 52 53 fizz buzz 56 fizz 58 59 fizzbuzz \n",
            "61 62 fizz 64 buzz fizz 67 68 fizz buzz \n",
            "71 fizz 73 74 fizzbuzz 76 77 fizz 79 buzz \n",
            "fizz 82 83 fizz buzz 86 fizz 88 89 fizzbuzz \n",
            "91 92 fizz 94 buzz fizz 97 98 fizz buzz \n"
          ],
          "name": "stdout"
        }
      ]
    },
    {
      "cell_type": "markdown",
      "metadata": {
        "id": "uHqw9F1zz9Tz"
      },
      "source": [
        "## 16.3 시퀀스 객체 반복"
      ]
    },
    {
      "cell_type": "code",
      "metadata": {
        "colab": {
          "base_uri": "https://localhost:8080/"
        },
        "id": "jk3bMjL8zcKQ",
        "outputId": "b4506ee1-a293-419b-a98b-f79e3d7a4898"
      },
      "source": [
        "fruits = ['apple', 'banana', 'cherry']\n",
        "for element in fruits:\n",
        "  print(element)  # 반드시 print()를 사용해야 한다"
      ],
      "execution_count": null,
      "outputs": [
        {
          "output_type": "stream",
          "text": [
            "apple\n",
            "banana\n",
            "cherry\n"
          ],
          "name": "stdout"
        }
      ]
    },
    {
      "cell_type": "code",
      "metadata": {
        "colab": {
          "base_uri": "https://localhost:8080/"
        },
        "id": "Anlx5pm60M29",
        "outputId": "f9ae32bf-5653-43a6-9978-a89cb63da374"
      },
      "source": [
        "fruits = ['apple', 'banana', 'cherry']\n",
        "for fruit in fruits:\n",
        "  print(fruit)  # 반드시 print()를 사용해야 한다"
      ],
      "execution_count": null,
      "outputs": [
        {
          "output_type": "stream",
          "text": [
            "apple\n",
            "banana\n",
            "cherry\n"
          ],
          "name": "stdout"
        }
      ]
    },
    {
      "cell_type": "code",
      "metadata": {
        "colab": {
          "base_uri": "https://localhost:8080/"
        },
        "id": "DKNAQhU70nae",
        "outputId": "f8a9cbd0-de19-4b2d-8d2a-ea2b17e7c0b8"
      },
      "source": [
        "fruit_list = ['apple', 'banana', 'cherry'] # 변수이름은 의미를 갖도록 신경써라.\n",
        "for fruit in fruit_list:\n",
        "  print(fruit)  # 반드시 print()를 사용해야 한다"
      ],
      "execution_count": null,
      "outputs": [
        {
          "output_type": "stream",
          "text": [
            "apple\n",
            "banana\n",
            "cherry\n"
          ],
          "name": "stdout"
        }
      ]
    },
    {
      "cell_type": "code",
      "metadata": {
        "colab": {
          "base_uri": "https://localhost:8080/"
        },
        "id": "L5TiTvpp0xqr",
        "outputId": "7490283b-8e88-4f28-c55f-101ea47e2a74"
      },
      "source": [
        "for letter in 'Python':\n",
        "  print(letter, end='')"
      ],
      "execution_count": null,
      "outputs": [
        {
          "output_type": "stream",
          "text": [
            "Python"
          ],
          "name": "stdout"
        }
      ]
    },
    {
      "cell_type": "code",
      "metadata": {
        "colab": {
          "base_uri": "https://localhost:8080/"
        },
        "id": "DWXlPFx92azG",
        "outputId": "d97cb343-1a28-400d-e49d-93dc3dc188b0"
      },
      "source": [
        "for char in reversed('Python'):\n",
        "  print(char, end=' ')"
      ],
      "execution_count": null,
      "outputs": [
        {
          "output_type": "stream",
          "text": [
            "n o h t y P "
          ],
          "name": "stdout"
        }
      ]
    },
    {
      "cell_type": "code",
      "metadata": {
        "colab": {
          "base_uri": "https://localhost:8080/"
        },
        "id": "cAOHVHH62thu",
        "outputId": "5ff6345b-a6bd-49fc-9a85-ae814e5a3676"
      },
      "source": [
        "for num in (10, 20, 30): # 튜플, 리스트, 문자열과 같은 시퀀스객체들은 반복문과 궁합이 잘 맞는다\n",
        "  print(num)"
      ],
      "execution_count": null,
      "outputs": [
        {
          "output_type": "stream",
          "text": [
            "10\n",
            "20\n",
            "30\n"
          ],
          "name": "stdout"
        }
      ]
    },
    {
      "cell_type": "markdown",
      "metadata": {
        "id": "I3W0lNo23jna"
      },
      "source": [
        "### Perfect Number\n",
        "자기자신을 제외한 약수의 합이 자기자신과 같을때 퍼펙트넘버라고 한다\n",
        "- 6 = 1 + 2 + 3\n",
        "- 10000이하의 자연수 주에서는 4개"
      ]
    },
    {
      "cell_type": "code",
      "metadata": {
        "colab": {
          "base_uri": "https://localhost:8080/"
        },
        "id": "bqRhCljA2_45",
        "outputId": "fe7dc724-f2b4-49e6-d29f-54d685556b4e"
      },
      "source": [
        "for i in range(2, 11):\n",
        "  for k in range(1, i):\n",
        "    if i % k == 0:\n",
        "      print(f'{k}은/는 {i}의 약수')"
      ],
      "execution_count": null,
      "outputs": [
        {
          "output_type": "stream",
          "text": [
            "1은/는 2의 약수\n",
            "1은/는 3의 약수\n",
            "1은/는 4의 약수\n",
            "2은/는 4의 약수\n",
            "1은/는 5의 약수\n",
            "1은/는 6의 약수\n",
            "2은/는 6의 약수\n",
            "3은/는 6의 약수\n",
            "1은/는 7의 약수\n",
            "1은/는 8의 약수\n",
            "2은/는 8의 약수\n",
            "4은/는 8의 약수\n",
            "1은/는 9의 약수\n",
            "3은/는 9의 약수\n",
            "1은/는 10의 약수\n",
            "2은/는 10의 약수\n",
            "5은/는 10의 약수\n"
          ],
          "name": "stdout"
        }
      ]
    },
    {
      "cell_type": "code",
      "metadata": {
        "colab": {
          "base_uri": "https://localhost:8080/"
        },
        "id": "TFI2b42R5M9n",
        "outputId": "f9d2a8cd-037f-496d-cea3-764e1c220019"
      },
      "source": [
        "for i in range(2, 10001):\n",
        "  sum_of_divisor = 0\n",
        "  for k in range(1, i):   # j를 쓰지 마라\n",
        "    if  i % k == 0:\n",
        "      sum_of_divisor += k\n",
        "\n",
        "  if i == sum_of_divisor:\n",
        "     print(i)"
      ],
      "execution_count": null,
      "outputs": [
        {
          "output_type": "stream",
          "text": [
            "6\n",
            "28\n",
            "496\n",
            "8128\n"
          ],
          "name": "stdout"
        }
      ]
    },
    {
      "cell_type": "code",
      "metadata": {
        "colab": {
          "base_uri": "https://localhost:8080/"
        },
        "id": "rwh3vJ4a8nHF",
        "outputId": "62d9d227-e9e9-4066-8fb5-01311372e2af"
      },
      "source": [
        "perfect_nums = []\n",
        "for i in range(2, 10001):\n",
        "  divisor_list = []\n",
        "  for k in range(1, i):\n",
        "    if i % k == 0:\n",
        "      divisor_list.append(k)\n",
        "\n",
        "  if i == sum(divisor_list):\n",
        "    perfect_nums.append(i)\n",
        "print(perfect_nums)"
      ],
      "execution_count": null,
      "outputs": [
        {
          "output_type": "stream",
          "text": [
            "[6, 28, 496, 8128]\n"
          ],
          "name": "stdout"
        }
      ]
    },
    {
      "cell_type": "code",
      "metadata": {
        "id": "7AzFpwA2_XCr"
      },
      "source": [
        ""
      ],
      "execution_count": null,
      "outputs": []
    },
    {
      "cell_type": "code",
      "metadata": {
        "id": "F__1xonwKTye"
      },
      "source": [
        ""
      ],
      "execution_count": null,
      "outputs": []
    },
    {
      "cell_type": "code",
      "metadata": {
        "colab": {
          "base_uri": "https://localhost:8080/"
        },
        "id": "qUklTF_WKT2Y",
        "outputId": "79b73121-e970-4786-a787-17f2389ee48b"
      },
      "source": [
        "# 1부터 20000까지 퍼펙트수를 구하라\n",
        "# pseudo code 작성\n",
        "# 2부터 20000까지 반복(i)\n",
        "#    각각의 수의 약수를 담을 변수를 생성(divisor_sum) : divisor_sum = 0\n",
        "#    1부터 i-1까지 반복(k)\n",
        "#        if i % k == 0\n",
        "#            divisor_sum += k\n",
        "#    작은 for loop을 빠져나와서 \n",
        "#    if i == divisor_sum\n",
        "#        print(i)\n",
        "\n",
        "for i in range(1, 20001):\n",
        "  divisor_sum = 0\n",
        "  for k in range(1, i):\n",
        "    if i % k == 0:\n",
        "      divisor_sum += k\n",
        "  if i == divisor_sum:\n",
        "    print(i)\n",
        "       "
      ],
      "execution_count": null,
      "outputs": [
        {
          "output_type": "stream",
          "text": [
            "6\n",
            "28\n",
            "496\n",
            "8128\n"
          ],
          "name": "stdout"
        }
      ]
    }
  ]
}