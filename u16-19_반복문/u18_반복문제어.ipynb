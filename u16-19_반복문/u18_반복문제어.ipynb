{
  "nbformat": 4,
  "nbformat_minor": 0,
  "metadata": {
    "colab": {
      "name": "u18_반복문제어.ipynb",
      "provenance": [],
      "collapsed_sections": []
    },
    "kernelspec": {
      "name": "python3",
      "display_name": "Python 3"
    },
    "language_info": {
      "name": "python"
    }
  },
  "cells": [
    {
      "cell_type": "markdown",
      "metadata": {
        "id": "gg0OV98YEtEE"
      },
      "source": [
        "# Unit 18. break, continue"
      ]
    },
    {
      "cell_type": "markdown",
      "metadata": {
        "id": "BKjoOF_VE65D"
      },
      "source": [
        "## 18.1 break"
      ]
    },
    {
      "cell_type": "code",
      "metadata": {
        "id": "fF-IUk-cEnXm"
      },
      "source": [
        "import random\n"
      ],
      "execution_count": 1,
      "outputs": []
    },
    {
      "cell_type": "code",
      "metadata": {
        "colab": {
          "base_uri": "https://localhost:8080/"
        },
        "id": "9sHcFfV1FBqd",
        "outputId": "9cd9e0c9-2fd0-48e5-8933-598a4b153ac7"
      },
      "source": [
        "while True:    #무한반복문\n",
        "  i = random.randint(1,6)\n",
        "  print(i)\n",
        "  if i == 3:\n",
        "    break"
      ],
      "execution_count": 2,
      "outputs": [
        {
          "output_type": "stream",
          "text": [
            "1\n",
            "3\n"
          ],
          "name": "stdout"
        }
      ]
    },
    {
      "cell_type": "code",
      "metadata": {
        "colab": {
          "base_uri": "https://localhost:8080/"
        },
        "id": "25lebQcPFXNx",
        "outputId": "9b90a015-690a-49eb-d7e6-15f08027b6f4"
      },
      "source": [
        "for i in range(5):\n",
        "  print(i, end=' ')\n",
        "  for k in range(5):\n",
        "    print('*', end='')\n",
        "    if i==k:\n",
        "      break    # break가 전체를 탈출하는게 아니고 두번째 for문을 탈출한다"
      ],
      "execution_count": 4,
      "outputs": [
        {
          "output_type": "stream",
          "text": [
            "0 *1 **2 ***3 ****4 *****"
          ],
          "name": "stdout"
        }
      ]
    },
    {
      "cell_type": "code",
      "metadata": {
        "colab": {
          "base_uri": "https://localhost:8080/"
        },
        "id": "maiJFdNyGIyL",
        "outputId": "0dafadbe-4885-4753-bbfb-f5dfc82796dc"
      },
      "source": [
        "for i in range(5):\n",
        "  print(i, end=' ')\n",
        "  for k in range(5):\n",
        "    print('*', end='')\n",
        "    if i==k:\n",
        "      break    # break가 전체를 탈출하는게 아니고 두번째 for문을 탈출한다\n",
        "  print()"
      ],
      "execution_count": 5,
      "outputs": [
        {
          "output_type": "stream",
          "text": [
            "0 *\n",
            "1 **\n",
            "2 ***\n",
            "3 ****\n",
            "4 *****\n"
          ],
          "name": "stdout"
        }
      ]
    },
    {
      "cell_type": "markdown",
      "metadata": {
        "id": "SDkGH85sGsdM"
      },
      "source": [
        "## 18.2 continue"
      ]
    },
    {
      "cell_type": "code",
      "metadata": {
        "colab": {
          "base_uri": "https://localhost:8080/"
        },
        "id": "opX7aTmXGqxr",
        "outputId": "25c49248-5504-46d0-8a7a-e5c3e9028543"
      },
      "source": [
        "for i in range(10):\n",
        "  if i % 2 == 0:\n",
        "    continue   # 위의 if가 만족되면 아래코드를 실행하지 않고 다시 loop control로 돌아가게 한다\n",
        "  print(i)"
      ],
      "execution_count": 7,
      "outputs": [
        {
          "output_type": "stream",
          "text": [
            "1\n",
            "3\n",
            "5\n",
            "7\n",
            "9\n"
          ],
          "name": "stdout"
        }
      ]
    },
    {
      "cell_type": "code",
      "metadata": {
        "id": "wEUQWFBfG5nP"
      },
      "source": [
        ""
      ],
      "execution_count": null,
      "outputs": []
    }
  ]
}