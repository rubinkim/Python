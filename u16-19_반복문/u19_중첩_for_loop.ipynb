{
  "nbformat": 4,
  "nbformat_minor": 0,
  "metadata": {
    "colab": {
      "name": "u19_중첩_for_loop.ipynb",
      "provenance": [],
      "collapsed_sections": []
    },
    "kernelspec": {
      "name": "python3",
      "display_name": "Python 3"
    },
    "language_info": {
      "name": "python"
    }
  },
  "cells": [
    {
      "cell_type": "markdown",
      "metadata": {
        "id": "E-c7oWlDbLJp"
      },
      "source": [
        "# Unit 19. 중첩(Nested) for loop"
      ]
    },
    {
      "cell_type": "code",
      "metadata": {
        "colab": {
          "base_uri": "https://localhost:8080/"
        },
        "id": "GNuvqCDKbKgk",
        "outputId": "05eaf88b-ca54-4f6d-d891-b125deb594e3"
      },
      "source": [
        "for i in range(5):\n",
        "  for k in range(10, 60, 10):\n",
        "    print(k, end=' ')\n",
        "  print(i)"
      ],
      "execution_count": 1,
      "outputs": [
        {
          "output_type": "stream",
          "text": [
            "10 20 30 40 50 0\n",
            "10 20 30 40 50 1\n",
            "10 20 30 40 50 2\n",
            "10 20 30 40 50 3\n",
            "10 20 30 40 50 4\n"
          ],
          "name": "stdout"
        }
      ]
    },
    {
      "cell_type": "markdown",
      "metadata": {
        "id": "6VfnOiWucrXg"
      },
      "source": [
        "## 19.2 별 사각형"
      ]
    },
    {
      "cell_type": "code",
      "metadata": {
        "colab": {
          "base_uri": "https://localhost:8080/"
        },
        "id": "nNTR5QzKekfT",
        "outputId": "e1f5ba36-c55b-43ed-fde4-fe1119db6376"
      },
      "source": [
        "for i in range(4):\n",
        "  print(' ' * i, '*'*5, sep='')"
      ],
      "execution_count": 10,
      "outputs": [
        {
          "output_type": "stream",
          "text": [
            "*****\n",
            " *****\n",
            "  *****\n",
            "   *****\n"
          ],
          "name": "stdout"
        }
      ]
    },
    {
      "cell_type": "markdown",
      "metadata": {
        "id": "ZrFklsx1fNg8"
      },
      "source": [
        "## 19.3 계단식 별 모양 다이아몬드 별모양"
      ]
    },
    {
      "cell_type": "code",
      "metadata": {
        "id": "TSfnKBYye8e8"
      },
      "source": [
        "for i in range(5):\n",
        "  print('*' * (i + 1))"
      ],
      "execution_count": null,
      "outputs": []
    },
    {
      "cell_type": "code",
      "metadata": {
        "colab": {
          "base_uri": "https://localhost:8080/"
        },
        "id": "oC2AeMgPfm-e",
        "outputId": "cbf373c6-bdef-48b7-cd6c-35675b4f79fd"
      },
      "source": [
        "for i in range(5):\n",
        "  for _ in range(i+1):\n",
        "    print('*', end='')\n",
        "  print()"
      ],
      "execution_count": 11,
      "outputs": [
        {
          "output_type": "stream",
          "text": [
            "*\n",
            "**\n",
            "***\n",
            "****\n",
            "*****\n"
          ],
          "name": "stdout"
        }
      ]
    },
    {
      "cell_type": "code",
      "metadata": {
        "colab": {
          "base_uri": "https://localhost:8080/"
        },
        "id": "OllZ-enYgZFX",
        "outputId": "62354606-7a7f-4277-bd45-177826fc9588"
      },
      "source": [
        "for i in range(5):\n",
        "  for _ in range(i):\n",
        "    print(' ', end='')\n",
        "  for _ in range(5-i):\n",
        "    print('*', end='')\n",
        "  print()"
      ],
      "execution_count": 14,
      "outputs": [
        {
          "output_type": "stream",
          "text": [
            "*****\n",
            " ****\n",
            "  ***\n",
            "   **\n",
            "    *\n"
          ],
          "name": "stdout"
        }
      ]
    },
    {
      "cell_type": "code",
      "metadata": {
        "colab": {
          "base_uri": "https://localhost:8080/"
        },
        "id": "_RxeBH69g4sb",
        "outputId": "964b7e37-06ef-4cb4-d0d0-16ba816e64b5"
      },
      "source": [
        "for i in range(5):\n",
        "  print('*' * (i+1))"
      ],
      "execution_count": 18,
      "outputs": [
        {
          "output_type": "stream",
          "text": [
            "*\n",
            "**\n",
            "***\n",
            "****\n",
            "*****\n"
          ],
          "name": "stdout"
        }
      ]
    },
    {
      "cell_type": "code",
      "metadata": {
        "colab": {
          "base_uri": "https://localhost:8080/"
        },
        "id": "v_VLm9QuhAao",
        "outputId": "e61752a9-dd16-47c7-da64-6d47c15a08eb"
      },
      "source": [
        "for i in range(5):\n",
        "  print(' ' * i, '*' * (5-i), sep='')"
      ],
      "execution_count": 22,
      "outputs": [
        {
          "output_type": "stream",
          "text": [
            "*****\n",
            " ****\n",
            "  ***\n",
            "   **\n",
            "    *\n"
          ],
          "name": "stdout"
        }
      ]
    },
    {
      "cell_type": "code",
      "metadata": {
        "colab": {
          "base_uri": "https://localhost:8080/"
        },
        "id": "zjBBhJ5QhdFW",
        "outputId": "04f5038d-0190-47ac-8532-5319e3793ac8"
      },
      "source": [
        "for i in range(5):\n",
        "  for _ in range(4-i):\n",
        "    print(' ', end='')\n",
        "  for _ in range(2*i+1):\n",
        "    print('*', end='')\n",
        "  print()\n",
        "for i in range(4):\n",
        "  for _ in range(i):\n",
        "    print(' ', end='')\n"
      ],
      "execution_count": 32,
      "outputs": [
        {
          "output_type": "stream",
          "text": [
            "    *\n",
            "   ***\n",
            "  *****\n",
            " *******\n",
            "*********\n"
          ],
          "name": "stdout"
        }
      ]
    },
    {
      "cell_type": "code",
      "metadata": {
        "colab": {
          "base_uri": "https://localhost:8080/"
        },
        "id": "eLIlNh2FhdKn",
        "outputId": "eb4314a9-ced1-40e7-9818-3760ef7bbf5e"
      },
      "source": [
        "for i in range(5):\n",
        "  for _ in range(4-i):\n",
        "    print(' ', end='')\n",
        "  for _ in range(2*i+1):\n",
        "    print('*', end='')\n",
        "  print()\n",
        "\n",
        "for i in range(4):\n",
        "  for _ in range(i+1):\n",
        "    print(' ', end='')\n",
        "  for _ in range(7-2*i):\n",
        "    print('*', end='')\n",
        "  print()"
      ],
      "execution_count": 33,
      "outputs": [
        {
          "output_type": "stream",
          "text": [
            "    *\n",
            "   ***\n",
            "  *****\n",
            " *******\n",
            "*********\n",
            " *******\n",
            "  *****\n",
            "   ***\n",
            "    *\n"
          ],
          "name": "stdout"
        }
      ]
    },
    {
      "cell_type": "code",
      "metadata": {
        "colab": {
          "base_uri": "https://localhost:8080/"
        },
        "id": "yhhVAqYvl8mU",
        "outputId": "c73857ea-c2c0-4be7-bdae-df0077dd28c8"
      },
      "source": [
        "for i in range(5):\n",
        "  print(' '*(4-i), '*'*(2*i+1))\n",
        "for i in range(4):\n",
        "  print(' '*(i+1), '*'*(7-2*i))"
      ],
      "execution_count": 35,
      "outputs": [
        {
          "output_type": "stream",
          "text": [
            "     *\n",
            "    ***\n",
            "   *****\n",
            "  *******\n",
            " *********\n",
            "  *******\n",
            "   *****\n",
            "    ***\n",
            "     *\n"
          ],
          "name": "stdout"
        }
      ]
    },
    {
      "cell_type": "code",
      "metadata": {
        "colab": {
          "base_uri": "https://localhost:8080/"
        },
        "id": "vGL6v4lBl9e7",
        "outputId": "421f5c8a-dbb0-4d93-a2c7-ba5cde3e8798"
      },
      "source": [
        "for i in range(-4, 5):\n",
        "  print(' ' * (abs(i)), '*'*(-2*abs(i)+9), sep='')"
      ],
      "execution_count": 36,
      "outputs": [
        {
          "output_type": "stream",
          "text": [
            "    *\n",
            "   ***\n",
            "  *****\n",
            " *******\n",
            "*********\n",
            " *******\n",
            "  *****\n",
            "   ***\n",
            "    *\n"
          ],
          "name": "stdout"
        }
      ]
    },
    {
      "cell_type": "code",
      "metadata": {
        "id": "KNwhs1wwpfjR"
      },
      "source": [
        ""
      ],
      "execution_count": null,
      "outputs": []
    }
  ]
}