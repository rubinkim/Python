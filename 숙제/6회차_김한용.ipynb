{
  "nbformat": 4,
  "nbformat_minor": 2,
  "metadata": {
    "colab": {
      "name": "6회차_김한용.ipynb",
      "provenance": [],
      "collapsed_sections": []
    },
    "kernelspec": {
      "name": "python3",
      "display_name": "Python 3.8.10 64-bit ('base': conda)"
    },
    "language_info": {
      "name": "python",
      "version": "3.8.10",
      "mimetype": "text/x-python",
      "codemirror_mode": {
        "name": "ipython",
        "version": 3
      },
      "pygments_lexer": "ipython3",
      "nbconvert_exporter": "python",
      "file_extension": ".py"
    },
    "interpreter": {
      "hash": "4905652b14e4b7eb92899b78ac499a22c488804455b27940a322fd82aaf71031"
    }
  },
  "cells": [
    {
      "cell_type": "markdown",
      "source": [
        "# Unit 8. 불과 비교, 논리 연산자"
      ],
      "metadata": {
        "id": "4xgSGqbdwT8Z"
      }
    },
    {
      "cell_type": "markdown",
      "source": [
        "## 8.4 연습문제: 합격 여부 출력하기\n",
        "국어, 영어, 수학, 과학 점수가 있을 때 한 과목이라도 50점 미만이면 불합격이라고 정했습니다. 다음 소스 코드를 완성하여 합격이면 True, 불합격이면 False가 출력되게 만드세요."
      ],
      "metadata": {
        "id": "FY1Rxec6wsyh"
      }
    },
    {
      "cell_type": "code",
      "execution_count": 1,
      "source": [
        "korean = 92\r\n",
        "english = 47\r\n",
        "mathematics = 86\r\n",
        "science = 81\r\n",
        "\r\n",
        "print((korean >= 50) and (english >= 50) and (mathematics >= 50) and (science >= 50) )"
      ],
      "outputs": [
        {
          "output_type": "stream",
          "name": "stdout",
          "text": [
            "False\n"
          ]
        }
      ],
      "metadata": {
        "colab": {
          "base_uri": "https://localhost:8080/"
        },
        "id": "DA0KnLWqwLaU",
        "outputId": "867e8bd3-2b21-43d6-a882-49d926133835"
      }
    },
    {
      "cell_type": "code",
      "execution_count": 2,
      "source": [
        "print(all([x >= 50 for x in [korean, english, mathematics, science]]))"
      ],
      "outputs": [
        {
          "output_type": "stream",
          "name": "stdout",
          "text": [
            "False\n"
          ]
        }
      ],
      "metadata": {
        "colab": {
          "base_uri": "https://localhost:8080/"
        },
        "id": "cP3jjg3zxyN-",
        "outputId": "5466ba90-4ec5-4a32-e68f-6f818aa90ed9"
      }
    },
    {
      "cell_type": "markdown",
      "source": [
        "## 8.5 심사문제: 합격 여부 출력하기\n",
        "표준 입력으로 국어, 영어, 수학, 과학 점수가 입력됩니다. 국어는 90점 이상, 영어는 80점 초과, 수학은 85점 초과, 과학은 80점 이상일 때 합격이라고 정했습니다(한 과목이라도 조건에 만족하지 않으면 불합격). 다음 소스 코드를 완성하여 합격이면 True, 불합격이면 False가 출력되게 만드세요(input에서 안내 문자열은 출력하지 않아야 합니다)."
      ],
      "metadata": {
        "id": "Ac_yw-6Tzhre"
      }
    },
    {
      "cell_type": "code",
      "execution_count": 5,
      "source": [
        "kor, eng, mat, sci = map(int, input('국어, 영어, 수학, 과학 점수를 입력하세요> ').split(' '))\r\n",
        "kor_pass = kor >= 90\r\n",
        "eng_pass = eng > 80\r\n",
        "mat_pass = mat > 85\r\n",
        "sci_pass = sci >= 80\r\n",
        "\r\n",
        "print(all([kor_pass, eng_pass, mat_pass, sci_pass]))"
      ],
      "outputs": [
        {
          "output_type": "stream",
          "name": "stdout",
          "text": [
            "True\n"
          ]
        }
      ],
      "metadata": {
        "colab": {
          "base_uri": "https://localhost:8080/"
        },
        "id": "9pjS6DILyX6K",
        "outputId": "c6443d5e-eed0-443b-d2ae-6194cc7bede8"
      }
    },
    {
      "cell_type": "code",
      "execution_count": 6,
      "source": [
        "kor, eng, mat, sci = map(int, input('국어, 영어, 수학, 과학 점수를 입력하세요> ').split(' '))\r\n",
        "kor_pass = kor >= 90\r\n",
        "eng_pass = eng > 80\r\n",
        "mat_pass = mat > 85\r\n",
        "sci_pass = sci >= 80\r\n",
        "\r\n",
        "print(all([kor_pass, eng_pass, mat_pass, sci_pass]))"
      ],
      "outputs": [
        {
          "output_type": "stream",
          "name": "stdout",
          "text": [
            "False\n"
          ]
        }
      ],
      "metadata": {
        "colab": {
          "base_uri": "https://localhost:8080/"
        },
        "id": "HPpPrsBB0mBl",
        "outputId": "9425539f-bd07-4992-eee2-f50090617813"
      }
    },
    {
      "cell_type": "markdown",
      "source": [
        "# Unit 9. 문자열 사용하기"
      ],
      "metadata": {
        "id": "bTB_W08t1U4a"
      }
    },
    {
      "cell_type": "markdown",
      "source": [
        "## 9.3 연습문제: 여러 줄로 된 문자열 사용하기"
      ],
      "metadata": {
        "id": "zbavEVY-1b3j"
      }
    },
    {
      "cell_type": "code",
      "execution_count": 7,
      "source": [
        "a = \"\"\"Python is a progrmming language that lets you work quickly\r\n",
        "and\r\n",
        "integrate systems more effectively.\"\"\"\r\n",
        "\r\n",
        "print(a)"
      ],
      "outputs": [
        {
          "output_type": "stream",
          "name": "stdout",
          "text": [
            "Python is a progrmming language that lets you work quickly\n",
            "and\n",
            "integrate systems more effectively.\n"
          ]
        }
      ],
      "metadata": {
        "colab": {
          "base_uri": "https://localhost:8080/"
        },
        "id": "x2GmJ98I010k",
        "outputId": "062e7e52-0587-49f4-e0e6-1c8e5e944436"
      }
    },
    {
      "cell_type": "markdown",
      "source": [
        "## 9.4 심사문제: 여러 줄로 된 문자열 사용하기"
      ],
      "metadata": {
        "id": "RSlqTX5C2Ays"
      }
    },
    {
      "cell_type": "code",
      "execution_count": 8,
      "source": [
        "s = \"\"\"\\'Python is a \\\"programming language\\\"\r\n",
        "that lests you work quickly\r\n",
        "and\r\n",
        "integrate systems more effectively.\"\"\"\r\n",
        "\r\n",
        "print(s)"
      ],
      "outputs": [
        {
          "output_type": "stream",
          "name": "stdout",
          "text": [
            "'Python is a \"programming language\"\n",
            "that lests you work quickly\n",
            "and\n",
            "integrate systems more effectively.\n"
          ]
        }
      ],
      "metadata": {
        "colab": {
          "base_uri": "https://localhost:8080/"
        },
        "id": "0esUR4jf18f5",
        "outputId": "1d7fada9-1c5c-455a-f50a-e211a0e48162"
      }
    },
    {
      "cell_type": "markdown",
      "source": [
        "# Unit 10. 리스트와 튜플"
      ],
      "metadata": {
        "id": "aWcvoAJM2nf2"
      }
    },
    {
      "cell_type": "markdown",
      "source": [
        "## 10.4 연습문제: range로 리스트 만들기\n",
        "다음 소스 코드를 완성하여 리스트 [5, 3, 1, -1, -3, -5, -7, -9]가 출력되게 만드세요. 리스트를 만들 때는 range를 사용해야 합니다."
      ],
      "metadata": {
        "id": "ao9gFx4F2ycc"
      }
    },
    {
      "cell_type": "code",
      "execution_count": 9,
      "source": [
        "a = range(5, -10, -2)\r\n",
        "print(list(a))"
      ],
      "outputs": [
        {
          "output_type": "stream",
          "name": "stdout",
          "text": [
            "[5, 3, 1, -1, -3, -5, -7, -9]\n"
          ]
        }
      ],
      "metadata": {
        "colab": {
          "base_uri": "https://localhost:8080/"
        },
        "id": "wjZm9I7I2ast",
        "outputId": "81da0f5b-1bb0-4087-80c9-1a8685f9784a"
      }
    },
    {
      "cell_type": "markdown",
      "source": [
        "## 10.5 심사문제: range로 튜플 만들기\n",
        "표준 입력으로 정수가 입력됩니다. range의 시작하는 숫자는 -10, 끝나는 숫자는 10이며 입력된 정수만큼 증가하는 숫자가 들어가도록 튜플을 만들고, 해당 튜플을 출력하는 프로그램을 만드세요(input에서 안내 문자열은 출력하지 않아야 합니다)."
      ],
      "metadata": {
        "id": "71iQvMNz3PDu"
      }
    },
    {
      "cell_type": "code",
      "execution_count": 19,
      "source": [
        "step = int(input())\r\n",
        "print(list(range(-10, 10, step)))"
      ],
      "outputs": [
        {
          "output_type": "stream",
          "name": "stdout",
          "text": [
            "2\n",
            "[-10, -8, -6, -4, -2, 0, 2, 4, 6, 8]\n"
          ]
        }
      ],
      "metadata": {
        "colab": {
          "base_uri": "https://localhost:8080/"
        },
        "id": "Xt5DSQ083EZJ",
        "outputId": "aa1ab88f-3fe1-4f60-8af4-51b6296201c0"
      }
    },
    {
      "cell_type": "code",
      "execution_count": 20,
      "source": [
        "step = int(input())\r\n",
        "print(list(range(-10, 10, step)))"
      ],
      "outputs": [
        {
          "output_type": "stream",
          "name": "stdout",
          "text": [
            "3\n",
            "[-10, -7, -4, -1, 2, 5, 8]\n"
          ]
        }
      ],
      "metadata": {
        "colab": {
          "base_uri": "https://localhost:8080/"
        },
        "id": "XMbeKgNy3vMv",
        "outputId": "9309a299-019a-4935-ab5c-475a29a8ed60"
      }
    },
    {
      "cell_type": "markdown",
      "source": [
        "# Unit 11. 시퀀스"
      ],
      "metadata": {
        "id": "WwQ5pJQM4KCb"
      }
    },
    {
      "cell_type": "markdown",
      "source": [
        "## 11.6 연습문제: 최근 3년간 인구 출력하기\n",
        "리스트 year에 연도, population에 서울시 인구수가 저장되어 있습니다. 다음 소스 코드를 완성하여 최근 3년간 연도와 인구수가 리스트로 출력되게 만드세요."
      ],
      "metadata": {
        "id": "dIH6U8QK4WCA"
      }
    },
    {
      "cell_type": "code",
      "execution_count": 21,
      "source": [
        "year = [2011, 2012, 2013, 2014, 2015, 2016, 2017, 2018]\n",
        "population = [10249679, 10195318, 10143645, 10103233, 10022181, 9930616, 9857426, 9838892]\n",
        "\n",
        "print(year[-3:])\n",
        "print(population[-3:])"
      ],
      "outputs": [
        {
          "output_type": "stream",
          "name": "stdout",
          "text": [
            "[2016, 2017, 2018]\n",
            "[9930616, 9857426, 9838892]\n"
          ]
        }
      ],
      "metadata": {
        "colab": {
          "base_uri": "https://localhost:8080/"
        },
        "id": "3nByd5If38kh",
        "outputId": "d8f89e8d-0778-4281-cc83-6e9329ad1fcb"
      }
    },
    {
      "cell_type": "markdown",
      "source": [
        "## 11.7 연습문제: 인덱스가 홀수인 요소 출력하기\n",
        "다음 소스 코드를 완성하여 튜플 n에서 인덱스가 홀수인 요소들이 출력되게 만드세요."
      ],
      "metadata": {
        "id": "g5d6Q91k4wxG"
      }
    },
    {
      "cell_type": "code",
      "execution_count": 22,
      "source": [
        "n = -32, 75, 97, -10, 9, 32, 4, -15, 0, 76, 14, 2\n",
        "print(n[1::2])"
      ],
      "outputs": [
        {
          "output_type": "stream",
          "name": "stdout",
          "text": [
            "(75, -10, 32, -15, 76, 2)\n"
          ]
        }
      ],
      "metadata": {
        "colab": {
          "base_uri": "https://localhost:8080/"
        },
        "id": "tJCGowrJ4q6l",
        "outputId": "40bb70de-4bb2-442e-8e2a-55c231af437b"
      }
    },
    {
      "cell_type": "markdown",
      "source": [
        "## 11.8 심사문제: 리스트의 마지막 부분 삭제하기\n",
        "표준 입력으로 숫자 또는 문자열 여러 개가 입력되어 리스트 x에 저장됩니다(입력되는 숫자 또는 문자열의 개수는 정해져 있지 않음). 다음 소스 코드를 완성하여 리스트 x의 마지막 요소 5개를 삭제한 뒤 튜플로 출력되게 만드세요."
      ],
      "metadata": {
        "id": "-1x5geCJ5RFQ"
      }
    },
    {
      "cell_type": "code",
      "execution_count": 25,
      "source": [
        "x = input().split()\n",
        "x = tuple(x[:-5])\n",
        "print(x)"
      ],
      "outputs": [
        {
          "output_type": "stream",
          "name": "stdout",
          "text": [
            "1 2 3 4 5 6 7 8 9 0\n",
            "('1', '2', '3', '4', '5')\n"
          ]
        }
      ],
      "metadata": {
        "colab": {
          "base_uri": "https://localhost:8080/"
        },
        "id": "LD-CB07653Ho",
        "outputId": "5641186a-c44c-4382-d9c4-3c1b2633f868"
      }
    },
    {
      "cell_type": "markdown",
      "source": [
        "## 11.9 심사문제: 문자열에서 인덱스가 홀수인 문자와 짝수인 문자 연결하기\n",
        "표준 입력으로 문자열 두 개가 각 줄에 입력됩니다(문자열의 길이는 정해져 있지 않음). 첫 번째 문자열에서 인덱스가 홀수인 문자와 두 번째 문자열에서 인덱스가 짝수인 문자를 연결하여 출력하는 프로그램을 만드세요(input에서 안내 문자열은 출력하지 않아야 합니다). 연결 순서는 첫 번째 문자열, 두 번째 문자열 순입니다. 그리고 0은 짝수로 처리합니다."
      ],
      "metadata": {
        "id": "BTCWbYTZ7TYK"
      }
    },
    {
      "cell_type": "code",
      "execution_count": 26,
      "source": [
        "x = input('첫번째 문자열을 입력하세요> ')\n",
        "y = input('두번째 문자열을 입력하세요> ')\n",
        "x = x[1::2]\n",
        "y = y[::2]\n",
        "combined = x + y\n",
        "print(combined)"
      ],
      "outputs": [
        {
          "output_type": "stream",
          "name": "stdout",
          "text": [
            "첫번째 문자열을 입력하세요> python\n",
            "두번째 문자열을 입력하세요> python\n",
            "yhnpto\n"
          ]
        }
      ],
      "metadata": {
        "colab": {
          "base_uri": "https://localhost:8080/"
        },
        "id": "gRLsBS516LCe",
        "outputId": "cdde383f-99ac-4f71-d51f-7a27c2c522b4"
      }
    },
    {
      "cell_type": "code",
      "execution_count": 27,
      "source": [
        "x = input('첫번째 문자열을 입력하세요> ')\n",
        "y = input('두번째 문자열을 입력하세요> ')\n",
        "x = x[1::2]\n",
        "y = y[::2]\n",
        "combined = x + y\n",
        "print(combined)"
      ],
      "outputs": [
        {
          "output_type": "stream",
          "name": "stdout",
          "text": [
            "첫번째 문자열을 입력하세요> apple\n",
            "두번째 문자열을 입력하세요> strawberry\n",
            "plsrwer\n"
          ]
        }
      ],
      "metadata": {
        "colab": {
          "base_uri": "https://localhost:8080/"
        },
        "id": "IdO52Khs8b-c",
        "outputId": "73e7bed1-3986-4dd1-a5a8-0c259e3546a5"
      }
    },
    {
      "cell_type": "markdown",
      "source": [
        "# Unit 12. 딕셔너리"
      ],
      "metadata": {
        "id": "qQhDug5N8zWw"
      }
    },
    {
      "cell_type": "markdown",
      "source": [
        "## 12.4 연습문제: 딕셔너리에 게임 캐릭터 능력치 저장하기\n",
        "다음 소스 코드를 완성하여 게임 캐릭터의 체력(health)과 이동 속도(movement speed)가 출력되게 만드세요."
      ],
      "metadata": {
        "id": "e8KHc9hu841J"
      }
    },
    {
      "cell_type": "code",
      "execution_count": 37,
      "source": [
        "camille = {\n",
        "    'health': 575.6,\n",
        "    'health_regen': 1.7,\n",
        "    'mana': 338.8,\n",
        "    'mana_regen': 1.63,\n",
        "    'melee': 125,\n",
        "    'attack_damage': 60,\n",
        "    'attack_speed': 0.625,\n",
        "    'armor': 26,\n",
        "    'magic_resistance': 32.1,\n",
        "    'movement_speed': 340}\n",
        "\n",
        "print(camille.get('health', None))\n",
        "print(camille.get('movement_speed', None))"
      ],
      "outputs": [
        {
          "output_type": "stream",
          "name": "stdout",
          "text": [
            "575.6\n",
            "340\n"
          ]
        }
      ],
      "metadata": {
        "colab": {
          "base_uri": "https://localhost:8080/"
        },
        "id": "kXbDBonh9t3X",
        "outputId": "316204f3-04d7-4230-8276-0a2ab63ec0c8"
      }
    },
    {
      "cell_type": "markdown",
      "source": [
        "## 12.5 심사문제: 딕셔너리에 게임 캐릭터 능력치 저장하기\n",
        "표준 입력으로 문자열 여러 개와 숫자(실수) 여러 개가 두 줄로 입력됩니다. 입력된 첫 번째 줄은 키, 두 번째 줄은 값으로 하여 딕셔너리를 생성한 뒤 딕셔너리를 출력하는 프로그램을 만드세요. input().split()의 결과를 변수 한 개에 저장하면 리스트로 저장됩니다."
      ],
      "metadata": {
        "id": "YPpVafWi-Zug"
      }
    },
    {
      "cell_type": "code",
      "execution_count": 38,
      "source": [
        "keys = input('문자열들을 입력하세요> ').split()\n",
        "values = map(float, input('숫자들을 입력하세요> ').split())\n",
        "my_dict = dict(zip(keys, values))\n",
        "print(my_dict)"
      ],
      "outputs": [
        {
          "output_type": "stream",
          "name": "stdout",
          "text": [
            "문자열들을 입력하세요> health health_regen mana mana_regen\n",
            "숫자들을 입력하세요> 575.6 1.7 338.8 1.63\n",
            "{'health': 575.6, 'health_regen': 1.7, 'mana': 338.8, 'mana_regen': 1.63}\n"
          ]
        }
      ],
      "metadata": {
        "colab": {
          "base_uri": "https://localhost:8080/"
        },
        "id": "GUNTFfTM-G3F",
        "outputId": "0378cd17-d8f8-4473-86ce-560c836abb41"
      }
    },
    {
      "cell_type": "code",
      "execution_count": 39,
      "source": [
        "keys = input('문자열들을 입력하세요> ').split()\n",
        "values = map(float, input('숫자들을 입력하세요> ').split())\n",
        "my_dict = dict(zip(keys, values))\n",
        "print(my_dict)"
      ],
      "outputs": [
        {
          "output_type": "stream",
          "name": "stdout",
          "text": [
            "문자열들을 입력하세요> health mana melee attack_speed magic_resistance\n",
            "숫자들을 입력하세요> 573.6 308.8 600 0.625 35.7\n",
            "{'health': 573.6, 'mana': 308.8, 'melee': 600.0, 'attack_speed': 0.625, 'magic_resistance': 35.7}\n"
          ]
        }
      ],
      "metadata": {
        "colab": {
          "base_uri": "https://localhost:8080/"
        },
        "id": "HQNQDfKl_PWc",
        "outputId": "69cbe4c9-15c6-421f-bce3-bc4d8a27c7a5"
      }
    },
    {
      "cell_type": "markdown",
      "source": [
        "# Unit 13. if 조건문"
      ],
      "metadata": {
        "id": "Zx-7tNhq_yA8"
      }
    },
    {
      "cell_type": "markdown",
      "source": [
        "## 13.6 연습문제: if 조건문 사용하기\n",
        "다음 소스 코드를 완성하여 x의 값이 10이 아닐 때 'ok'가 출력되게 만드세요."
      ],
      "metadata": {
        "id": "QrN1D1kx_9Hs"
      }
    },
    {
      "cell_type": "code",
      "execution_count": 40,
      "source": [
        "x = 5\n",
        "if x != 10:\n",
        "  print('ok')"
      ],
      "outputs": [
        {
          "output_type": "stream",
          "name": "stdout",
          "text": [
            "ok\n"
          ]
        }
      ],
      "metadata": {
        "colab": {
          "base_uri": "https://localhost:8080/"
        },
        "id": "aqEiAPNb_3S6",
        "outputId": "42781ee1-d996-432c-ec13-0844d3eafb74"
      }
    },
    {
      "cell_type": "markdown",
      "source": [
        "## 13.7 심사문제: 온라인 할인 쿠폰 시스템 만들기\n",
        "표준 입력으로 가격(정수)과 쿠폰 이름이 각 줄에 입력됩니다. Cash3000 쿠폰은 3,000원, Cash5000 쿠폰은 5,000원을 할인합니다. 쿠폰에 따라 할인된 가격을 출력하는 프로그램을 만드세요(input에서 안내 문자열은 출력하지 않아야 합니다)."
      ],
      "metadata": {
        "id": "vnL8IlIfAPq7"
      }
    },
    {
      "cell_type": "code",
      "execution_count": 42,
      "source": [
        "price = int(input())\n",
        "name = input()\n",
        "dc_price = price - int(name[4:])\n",
        "print(dc_price)"
      ],
      "outputs": [
        {
          "output_type": "stream",
          "name": "stdout",
          "text": [
            "27000\n",
            "Cash3000\n",
            "24000\n"
          ]
        }
      ],
      "metadata": {
        "colab": {
          "base_uri": "https://localhost:8080/"
        },
        "id": "lwn_8IlkALnC",
        "outputId": "3d6a9a53-f700-4382-b928-f6ea731db6ce"
      }
    },
    {
      "cell_type": "code",
      "execution_count": 43,
      "source": [
        "price = int(input())\n",
        "name = input()\n",
        "dc_price = price - int(name[4:])\n",
        "print(dc_price)"
      ],
      "outputs": [
        {
          "output_type": "stream",
          "name": "stdout",
          "text": [
            "72000\n",
            "Cash5000\n",
            "67000\n"
          ]
        }
      ],
      "metadata": {
        "colab": {
          "base_uri": "https://localhost:8080/"
        },
        "id": "rUH8B8NKBMx0",
        "outputId": "dc5d6fda-51d9-4c60-bb21-181943cf5f5e"
      }
    },
    {
      "cell_type": "markdown",
      "source": [
        "# Unit 14. else"
      ],
      "metadata": {
        "id": "5c5PC1ZJBvpy"
      }
    },
    {
      "cell_type": "markdown",
      "source": [
        "## 14.7 심사문제: 합격 여부 판단하기\n",
        "표준 입력으로 국어, 영어, 수학, 과학 점수가 입력됩니다. 여기서 네 과목의 평균 점수가 80점 이상일 때 합격이라고 정했습니다. 평균 점수에 따라 '합격', '불합격'을 출력하는 프로그램을 만드세요(input에서 안내 문자열은 출력하지 않아야 합니다). 단, 점수는 0점부터 100점까지만 입력받을 수 있으며 범위를 벗어났다면 '잘못된 점수'를 출력하고 합격, 불합격 여부는 출력하지 않아야 합니다."
      ],
      "metadata": {
        "id": "3V7zEkj4B6zR"
      }
    },
    {
      "cell_type": "code",
      "execution_count": 50,
      "source": [
        "kor, eng, mat, sci = map(int, input().split())\n",
        "avg_score = (kor + eng + mat + sci) / 4\n",
        "\n",
        "if all( 0 <= score <= 100 for score in [kor, eng, mat, sci]):\n",
        "  if avg_score >= 80.0:\n",
        "    print('합격')\n",
        "  else:\n",
        "    print('불합격')\n",
        "else:\n",
        "  print('잘못된 점수')"
      ],
      "outputs": [
        {
          "output_type": "stream",
          "name": "stdout",
          "text": [
            "89 72 93 82\n",
            "합격\n"
          ]
        }
      ],
      "metadata": {
        "colab": {
          "base_uri": "https://localhost:8080/"
        },
        "id": "XZqmrK0YD1-a",
        "outputId": "ab0dc66c-66ce-4eea-9c0b-c69fdc311958"
      }
    },
    {
      "cell_type": "code",
      "execution_count": 51,
      "source": [
        "kor, eng, mat, sci = map(int, input().split())\n",
        "avg_score = (kor + eng + mat + sci) / 4\n",
        "\n",
        "if all( 0 <= score <= 100 for score in [kor, eng, mat, sci]):\n",
        "  if avg_score >= 80.0:\n",
        "    print('합격')\n",
        "  else:\n",
        "    print('불합격')\n",
        "else:\n",
        "  print('잘못된 점수')"
      ],
      "outputs": [
        {
          "output_type": "stream",
          "name": "stdout",
          "text": [
            "100 79 68 71\n",
            "불합격\n"
          ]
        }
      ],
      "metadata": {
        "colab": {
          "base_uri": "https://localhost:8080/"
        },
        "id": "-s0sdiH5FiK0",
        "outputId": "321cf750-9695-4133-845a-e516526348f0"
      }
    },
    {
      "cell_type": "code",
      "execution_count": 52,
      "source": [
        "kor, eng, mat, sci = map(int, input().split())\n",
        "avg_score = (kor + eng + mat + sci) / 4\n",
        "\n",
        "if all( 0 <= score <= 100 for score in [kor, eng, mat, sci]):\n",
        "  if avg_score >= 80.0:\n",
        "    print('합격')\n",
        "  else:\n",
        "    print('불합격')\n",
        "else:\n",
        "  print('잘못된 점수')"
      ],
      "outputs": [
        {
          "output_type": "stream",
          "name": "stdout",
          "text": [
            "99 85 101 90\n",
            "잘못된 점수\n"
          ]
        }
      ],
      "metadata": {
        "colab": {
          "base_uri": "https://localhost:8080/"
        },
        "id": "Oy6HBAG4FsGA",
        "outputId": "379ae975-afb1-4727-b1cf-6c84e487bd7c"
      }
    }
  ]
}