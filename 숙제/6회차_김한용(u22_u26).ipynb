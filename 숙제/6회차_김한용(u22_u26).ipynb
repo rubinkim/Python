{
  "nbformat": 4,
  "nbformat_minor": 0,
  "metadata": {
    "colab": {
      "name": "6회차_김한용(u22_u26).ipynb",
      "provenance": [],
      "collapsed_sections": []
    },
    "kernelspec": {
      "name": "python3",
      "display_name": "Python 3"
    },
    "language_info": {
      "name": "python"
    }
  },
  "cells": [
    {
      "cell_type": "markdown",
      "metadata": {
        "id": "4BYiuU0S-PxR"
      },
      "source": [
        "# 22.10 심사문제: 2의 거듭제곱 리스트 생성하기\n",
        "표준 입력으로 정수 두 개가 입력됩니다(첫 번째 입력 값의 범위는 1-20, 두 번째 입력 값의 범위는 10-30이며 첫 번째 입력 값은 두 번째 입력 값보다 항상 작습니다). 첫 번째 정수부터 두 번째 정수까지를 지수로 하는 2의 거듭제곱 리스트를 출력하는 프로그램을 만드세요(input에서 안내 문자열은 출력하지 않아야 합니다). 단, 리스트의 두 번째 요소와 뒤에서 두 번째 요소는 삭제한 뒤 출력하세요. 출력 결과는 리스트 형태라야 합니다."
      ]
    },
    {
      "cell_type": "code",
      "metadata": {
        "colab": {
          "base_uri": "https://localhost:8080/"
        },
        "id": "hFKRVmK-B4UX",
        "outputId": "0600cc16-2d00-4b65-f8eb-4bf46b4b16b9"
      },
      "source": [
        "x, y = list(map(int, input().split()))\n",
        "exponent = []\n",
        "\n",
        "for i in range(x, y+1):\n",
        "    if x > y:\n",
        "        break\n",
        "    exponent.append(2 ** i)\n",
        "del exponent[1]\n",
        "del exponent[-2]\n",
        "\n",
        "print(exponent)"
      ],
      "execution_count": null,
      "outputs": [
        {
          "output_type": "stream",
          "text": [
            "10 20\n",
            "[1024, 4096, 8192, 16384, 32768, 65536, 131072, 262144, 1048576]\n"
          ],
          "name": "stdout"
        }
      ]
    },
    {
      "cell_type": "markdown",
      "metadata": {
        "id": "HSTG7ds9C83k"
      },
      "source": [
        "# 23.7 심사문제: 지뢰찾기\n",
        "표준 입력으로 2차원 리스트의 가로(col)와 세로(row)가 입력되고 그 다음 줄부터 리스트의 요소로 들어갈 문자가 입력됩니다. 이때 2차원 리스트 안에서 *는 지뢰이고 .은 지뢰가 아닙니다. 지뢰가 아닌 요소에는 인접한 지뢰의 개수를 출력하는 프로그램을 만드세요(input에서 안내 문자열은 출력하지 않아야 합니다).\n",
        "\n",
        "여러 줄을 입력 받으려면 다음과 같이 for 반복문에서 input을 호출한 뒤 append로 각 줄을 추가하면 됩니다(list 안에 문자열을 넣으면 문자열이 문자 리스트로 변환됩니다).\n",
        "\n",
        "matrix = []\n",
        "for i in range(row):\n",
        "    matrix.append(list(input()))\n",
        "\n",
        "이 문제는 지금까지 심사문제 중에서 가장 어렵습니다. 처음 풀어보는 경우 대략 두 시간은 걸립니다. 시간을 두고 천천히 고민해서 풀어보세요. 지금까지 학습한 내용을 모두 동원해야 풀 수 있으며 막힐 때는 지금까지 학습한 내용을 다시 복습하면서 힌트를 찾아보세요."
      ]
    },
    {
      "cell_type": "code",
      "metadata": {
        "colab": {
          "base_uri": "https://localhost:8080/"
        },
        "id": "J0FuS4zc9pV8",
        "outputId": "ddf1d871-3b3c-45db-fd14-6651fed2016b"
      },
      "source": [
        "row, col = map(int, input().split())\n",
        "\n",
        "matrix = []\n",
        "for i in range(row):\n",
        "    matrix.append(list(input()))\n",
        "\n",
        "expanded_matrix = []\n",
        "for i in range(row+2):\n",
        "    expanded_matrix.append(['.'] * (row+2))\n",
        "\n",
        "for i in range(1, row+1):\n",
        "    for k in range(1, row+1):\n",
        "        expanded_matrix[i][k] = matrix[i-1][k-1]\n",
        "\n",
        "for i in range(len(expanded_matrix)):\n",
        "    for k in range(len(expanded_matrix)):\n",
        "        if expanded_matrix[i][k] == '.':\n",
        "            expanded_matrix[i][k] = 0\n",
        "        else:\n",
        "            expanded_matrix[i][k] = 1\n",
        "\n",
        "from copy import deepcopy\n",
        "copied_matrix = deepcopy(expanded_matrix)\n",
        "\n",
        "for w in range(1, len(expanded_matrix)-1):\n",
        "    for x in range(1, len(expanded_matrix)-1):\n",
        "        if expanded_matrix[w][x] == 0:\n",
        "            num_mine = 0\n",
        "            for y in range(-1, 2):\n",
        "                for z in range(-1,2):\n",
        "                    num_mine += expanded_matrix[w+y][x+z]\n",
        "            copied_matrix[w][x] = num_mine\n",
        "            matrix[w-1][x-1] = num_mine\n",
        "        else:\n",
        "            copied_matrix[w][x] = '*'\n",
        "            matrix[w-1][x-1] = '*'\n",
        "\n",
        "matrix"
      ],
      "execution_count": 1,
      "outputs": [
        {
          "output_type": "stream",
          "text": [
            "5 5\n",
            "..*..\n",
            "...*.\n",
            ".*...\n",
            ".***.\n",
            "*.*..\n"
          ],
          "name": "stdout"
        },
        {
          "output_type": "execute_result",
          "data": {
            "text/plain": [
              "[[0, 1, '*', 2, 1],\n",
              " [1, 2, 3, '*', 1],\n",
              " [2, '*', 5, 3, 2],\n",
              " [3, '*', '*', '*', 1],\n",
              " ['*', 4, '*', 3, 1]]"
            ]
          },
          "metadata": {
            "tags": []
          },
          "execution_count": 1
        }
      ]
    },
    {
      "cell_type": "markdown",
      "metadata": {
        "id": "DQ-7KlnyDPWC"
      },
      "source": [
        "# 24.6 심사문제: 높은 가격순으로 출력하기\n",
        "표준 입력으로 물품 가격 여러 개가 문자열 한 줄로 입력되고, 각 가격은 ;(세미콜론)으로 구분되어 있습니다. 입력된 가격을 높은 가격순으로 출력하는 프로그램을 만드세요(input에서 안내 문자열은 출력하지 않아야 합니다). 이때 가격은 길이를 9로 만든 뒤 오른쪽으로 정렬하고 천단위로 ,(콤마)를 넣으세요."
      ]
    },
    {
      "cell_type": "code",
      "metadata": {
        "colab": {
          "base_uri": "https://localhost:8080/"
        },
        "id": "5uYg53bb_JWI",
        "outputId": "24430fc8-449d-43ed-ba16-4f8264f79323"
      },
      "source": [
        "prices = input().split(';')\n",
        "prices = list(map(int, prices))\n",
        "prices.sort(reverse=True)\n",
        "\n",
        "for price in prices:\n",
        "    price = f'{price:,d}'\n",
        "    print(price.rjust(9))"
      ],
      "execution_count": null,
      "outputs": [
        {
          "output_type": "stream",
          "text": [
            "51900;83000;158000;367500;250000;59200;128500;1304000\n",
            "1,304,000\n",
            "  367,500\n",
            "  250,000\n",
            "  158,000\n",
            "  128,500\n",
            "   83,000\n",
            "   59,200\n",
            "   51,900\n"
          ],
          "name": "stdout"
        }
      ]
    },
    {
      "cell_type": "markdown",
      "metadata": {
        "id": "f866KDP5HP9n"
      },
      "source": [
        "# 25.8 심사문제: 딕셔너리에서 특정 값 삭제하기\n",
        "표준 입력으로 문자열 여러 개와 숫자 여러 개가 두 줄로 입력되고, 첫 번째 줄은 키, 두 번째 줄은 값으로 하여 딕셔너리를 생성합니다. 다음 코드를 완성하여 딕셔너리에서 키가 'delta'인 키-값 쌍과 값이 30인 키-값 쌍을 삭제하도록 만드세요."
      ]
    },
    {
      "cell_type": "code",
      "metadata": {
        "colab": {
          "base_uri": "https://localhost:8080/"
        },
        "id": "nogj5jSSHfzC",
        "outputId": "0da3245b-0fbf-408e-eacb-2a97acb806e0"
      },
      "source": [
        "keys = input().split()\n",
        "values = map(int, input().split())\n",
        "\n",
        "x = dict(zip(keys, values))\n",
        "del_list = []\n",
        "for k, v in x.items():\n",
        "    if (k == 'delta') or (v == 30):\n",
        "        del_list.append((k, v))\n",
        "\n",
        "del_list = [x[0] for x in del_list]\n",
        "\n",
        "for k in del_list:\n",
        "    del x[k]\n",
        "\n",
        "print(x)"
      ],
      "execution_count": null,
      "outputs": [
        {
          "output_type": "stream",
          "text": [
            "alpha bravo charlie delta echo foxtrot golf\n",
            "30 40 50 60 70 80 90\n",
            "{'bravo': 40, 'charlie': 50, 'echo': 70, 'foxtrot': 80, 'golf': 90}\n"
          ],
          "name": "stdout"
        }
      ]
    },
    {
      "cell_type": "markdown",
      "metadata": {
        "id": "Q_oQaQPDOWFM"
      },
      "source": [
        "# 26.9 심사문제: 공약수 구하기\n",
        "표준 입력으로 양의 정수 두 개가 입력됩니다. 다음 소스 코드를 완성하여 두 숫자의 공약수를 세트 형태로 구하도록 만드세요. 단, 최종 결과는 공약수의 합으로 판단합니다."
      ]
    },
    {
      "cell_type": "code",
      "metadata": {
        "colab": {
          "base_uri": "https://localhost:8080/"
        },
        "id": "FUeOKAJtOnWn",
        "outputId": "0b8e0fdb-ecf8-4a28-ff10-cba9ad5f5a84"
      },
      "source": [
        "x, y = list(map(int, input().split()))\n",
        "a, b = [], []\n",
        "\n",
        "for i in range(1, x+1):\n",
        "    if x % i == 0:\n",
        "        a.append(i)\n",
        "\n",
        "for i in range(1, y+1):\n",
        "    if y % i == 0:\n",
        "        b.append(i)\n",
        "\n",
        "a = set(a)\n",
        "b = set(b)\n",
        "\n",
        "divisor = a & b\n",
        " \n",
        "result = 0\n",
        "if type(divisor) == set:\n",
        "    result = sum(divisor)\n",
        " \n",
        "print(result)"
      ],
      "execution_count": null,
      "outputs": [
        {
          "output_type": "stream",
          "text": [
            "100 200\n",
            "217\n"
          ],
          "name": "stdout"
        }
      ]
    }
  ]
}