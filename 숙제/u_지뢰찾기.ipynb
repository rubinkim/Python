{
  "nbformat": 4,
  "nbformat_minor": 0,
  "metadata": {
    "colab": {
      "name": "u_지뢰찾기.ipynb",
      "provenance": [],
      "collapsed_sections": []
    },
    "kernelspec": {
      "name": "python3",
      "display_name": "Python 3"
    },
    "language_info": {
      "name": "python"
    }
  },
  "cells": [
    {
      "cell_type": "markdown",
      "metadata": {
        "id": "DGAzUinesfPm"
      },
      "source": [
        "# 23.7 지뢰찾기\n",
        "표준 입력으로 2차원 리스트의 가로(col)와 세로(row)가 입력되고 그 다음 줄부터 리스트의 요소로 들어갈 문자가 입력됩니다. 이때 2차원 리스트 안에서 *는 지뢰이고 .은 지뢰가 아닙니다. 지뢰가 아닌 요소에는 인접한 지뢰의 개수를 출력하는 프로그램을 만드세요(input에서 안내 문자열은 출력하지 않아야 합니다).\n",
        "\n",
        "여러 줄을 입력 받으려면 다음과 같이 for 반복문에서 input을 호출한 뒤 append로 각 줄을 추가하면 됩니다(list 안에 문자열을 넣으면 문자열이 문자 리스트로 변환됩니다)."
      ]
    },
    {
      "cell_type": "code",
      "metadata": {
        "colab": {
          "base_uri": "https://localhost:8080/"
        },
        "id": "RlTPYafc7jNF",
        "outputId": "3870e64e-c267-4c3b-bb84-9bac60f33d79"
      },
      "source": [
        "row, col = map(int, input().split())\n",
        "\n",
        "matrix = []\n",
        "for i in range(row):\n",
        "    matrix.append(list(input()))\n",
        "\n",
        "expanded_matrix = []\n",
        "for i in range(row+2):\n",
        "    expanded_matrix.append(['.'] * (row+2))\n",
        "\n",
        "for i in range(1, row+1):\n",
        "    for k in range(1, row+1):\n",
        "        expanded_matrix[i][k] = matrix[i-1][k-1]\n",
        "\n",
        "for i in range(len(expanded_matrix)):\n",
        "    for k in range(len(expanded_matrix)):\n",
        "        if expanded_matrix[i][k] == '.':\n",
        "            expanded_matrix[i][k] = 0\n",
        "        else:\n",
        "            expanded_matrix[i][k] = 1\n",
        "\n",
        "from copy import deepcopy\n",
        "copied_matrix = deepcopy(expanded_matrix)\n",
        "\n",
        "for w in range(1, len(expanded_matrix)-1):\n",
        "    for x in range(1, len(expanded_matrix)-1):\n",
        "        if expanded_matrix[w][x] == 0:\n",
        "            num_mine = 0\n",
        "            for y in range(-1, 2):\n",
        "                for z in range(-1,2):\n",
        "                    num_mine += expanded_matrix[w+y][x+z]\n",
        "            copied_matrix[w][x] = num_mine\n",
        "            matrix[w-1][x-1] = num_mine\n",
        "        else:\n",
        "            copied_matrix[w][x] = '*'\n",
        "            matrix[w-1][x-1] = '*'\n",
        "\n",
        "matrix"
      ],
      "execution_count": null,
      "outputs": [
        {
          "output_type": "stream",
          "text": [
            "3 3\n",
            ".**\n",
            "*..\n",
            ".*.\n"
          ],
          "name": "stdout"
        },
        {
          "output_type": "execute_result",
          "data": {
            "text/plain": [
              "[[2, '*', '*'], ['*', 4, 3], [2, '*', 1]]"
            ]
          },
          "metadata": {
            "tags": []
          },
          "execution_count": 82
        }
      ]
    },
    {
      "cell_type": "code",
      "metadata": {
        "colab": {
          "base_uri": "https://localhost:8080/"
        },
        "id": "tbCpU_GV74JC",
        "outputId": "8400bae4-2723-4742-a54e-978777172527"
      },
      "source": [
        "row, col = map(int, input().split())\n",
        "\n",
        "matrix = []\n",
        "for i in range(row):\n",
        "    matrix.append(list(input()))\n",
        "\n",
        "expanded_matrix = []\n",
        "for i in range(row+2):\n",
        "    expanded_matrix.append(['.'] * (row+2))\n",
        "\n",
        "for i in range(1, row+1):\n",
        "    for k in range(1, row+1):\n",
        "        expanded_matrix[i][k] = matrix[i-1][k-1]\n",
        "\n",
        "for i in range(len(expanded_matrix)):\n",
        "    for k in range(len(expanded_matrix)):\n",
        "        if expanded_matrix[i][k] == '.':\n",
        "            expanded_matrix[i][k] = 0\n",
        "        else:\n",
        "            expanded_matrix[i][k] = 1\n",
        "\n",
        "from copy import deepcopy\n",
        "copied_matrix = deepcopy(expanded_matrix)\n",
        "\n",
        "for w in range(1, len(expanded_matrix)-1):\n",
        "    for x in range(1, len(expanded_matrix)-1):\n",
        "        if expanded_matrix[w][x] == 0:\n",
        "            num_mine = 0\n",
        "            for y in range(-1, 2):\n",
        "                for z in range(-1,2):\n",
        "                    num_mine += expanded_matrix[w+y][x+z]\n",
        "            copied_matrix[w][x] = num_mine\n",
        "            matrix[w-1][x-1] = num_mine\n",
        "        else:\n",
        "            copied_matrix[w][x] = '*'\n",
        "            matrix[w-1][x-1] = '*'\n",
        "\n",
        "matrix"
      ],
      "execution_count": null,
      "outputs": [
        {
          "output_type": "stream",
          "text": [
            "5 5\n",
            "..*..\n",
            "...*.\n",
            ".*...\n",
            ".***.\n",
            "*.*..\n"
          ],
          "name": "stdout"
        },
        {
          "output_type": "execute_result",
          "data": {
            "text/plain": [
              "[[0, 1, '*', 2, 1],\n",
              " [1, 2, 3, '*', 1],\n",
              " [2, '*', 5, 3, 2],\n",
              " [3, '*', '*', '*', 1],\n",
              " ['*', 4, '*', 3, 1]]"
            ]
          },
          "metadata": {
            "tags": []
          },
          "execution_count": 83
        }
      ]
    },
    {
      "cell_type": "code",
      "metadata": {
        "id": "mUtHUlC9yo6q"
      },
      "source": [
        ""
      ],
      "execution_count": null,
      "outputs": []
    }
  ]
}