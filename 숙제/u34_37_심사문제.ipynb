{
  "nbformat": 4,
  "nbformat_minor": 0,
  "metadata": {
    "colab": {
      "name": "u34_37_심사문제.ipynb",
      "provenance": [],
      "collapsed_sections": []
    },
    "kernelspec": {
      "name": "python3",
      "display_name": "Python 3"
    },
    "language_info": {
      "name": "python"
    }
  },
  "cells": [
    {
      "cell_type": "markdown",
      "metadata": {
        "id": "wnwJLSVLFImO"
      },
      "source": [
        "## 34.6 심사문제: 게임 캐릭터 클래스 만들기\n",
        "표준 입력으로 게임 캐릭터 능력치(체력, 마나, AP)가 입력됩니다. 다음 소스 코드에서 애니(Annie) 클래스를 작성하여 티버(tibbers) 스킬의 피해량이 출력되게 만드세요. 티버의 피해량은 AP * 0.65 + 400이며 AP(Ability Power, 주문력)는 마법 능력치를 뜻합니다."
      ]
    },
    {
      "cell_type": "code",
      "metadata": {
        "id": "69knv_wXDUTc"
      },
      "source": [
        "class Annie:\n",
        "    def __init__(self, health, mana, ability_power):\n",
        "        self.health = health\n",
        "        self.mana = mana\n",
        "        self.ability_power = ability_power\n",
        "\n",
        "    def tibbers(self):\n",
        "        tb_mgt = self.ability_power * 0.65 + 400\n",
        "        print(f'티버: 피해량 {tb_mgt}')"
      ],
      "execution_count": null,
      "outputs": []
    },
    {
      "cell_type": "code",
      "metadata": {
        "colab": {
          "base_uri": "https://localhost:8080/"
        },
        "id": "Wnhrp0EXHArR",
        "outputId": "5f7f9b75-5746-46ab-b84b-5a1e09612947"
      },
      "source": [
        "health, mana, ability_power = map(float, input().split())\n",
        " \n",
        "x = Annie(health=health, mana=mana, ability_power=ability_power)\n",
        "x.tibbers()"
      ],
      "execution_count": null,
      "outputs": [
        {
          "output_type": "stream",
          "text": [
            "511.68 334.0 298\n",
            "티버: 피해량 593.7\n"
          ],
          "name": "stdout"
        }
      ]
    },
    {
      "cell_type": "code",
      "metadata": {
        "id": "dQyoN3qkHDFt"
      },
      "source": [
        "티버: 피해량 593.7"
      ],
      "execution_count": null,
      "outputs": []
    },
    {
      "cell_type": "markdown",
      "metadata": {
        "id": "LLynQonTRLyv"
      },
      "source": [
        "## 37.3 심사문제: 두 점 사이의 거리 구하기\n",
        "표준 입력으로 x, y 좌표 4개가 입력되어 Point2D 클래스의 인스턴스 리스트에 저장됩니다. 여기서 점 4개는 첫 번째 점부터 마지막 점까지 순서대로 이어져 있습니다. 다음 소스 코드를 완성하여 첫 번째 점부터 마지막 점까지 연결된 선의 길이가 출력되게 만드세요."
      ]
    },
    {
      "cell_type": "code",
      "metadata": {
        "colab": {
          "base_uri": "https://localhost:8080/"
        },
        "id": "HJVmGxvGRhMb",
        "outputId": "80074ab2-c7e3-4e7c-9b33-8a6a7e9b7d6f"
      },
      "source": [
        "import math\n",
        " \n",
        "class Point2D:\n",
        "    def __init__(self, x=0, y=0):\n",
        "        self.x = x\n",
        "        self.y = y\n",
        " \n",
        "length = 0.0\n",
        "p = [Point2D(), Point2D(), Point2D(), Point2D()]\n",
        "p[0].x, p[0].y, p[1].x, p[1].y, p[2].x, p[2].y, p[3].x, p[3].y = map(int, input().split())\n",
        "\n",
        "def calc_distance(x1, y1, x2, y2):\n",
        "    a = abs(x1 - x2)\n",
        "    b = abs(y1 - y2)\n",
        "    c = math.sqrt((a * a) + (b * b))\n",
        "    return c\n",
        "\n",
        "for i in range(3):\n",
        "    length += calc_distance(p[i].x, p[i].y, p[i+1].x, p[i+1].y)\n",
        "\n",
        "print(length)"
      ],
      "execution_count": null,
      "outputs": [
        {
          "output_type": "stream",
          "text": [
            "100 100 200 200 300 300 400 400\n",
            "424.26406871192853\n"
          ],
          "name": "stdout"
        }
      ]
    }
  ]
}