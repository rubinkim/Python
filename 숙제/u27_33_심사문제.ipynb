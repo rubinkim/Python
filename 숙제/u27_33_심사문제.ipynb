{
  "nbformat": 4,
  "nbformat_minor": 0,
  "metadata": {
    "colab": {
      "name": "u27_33_심사문제.ipynb",
      "provenance": [],
      "collapsed_sections": []
    },
    "kernelspec": {
      "name": "python3",
      "display_name": "Python 3"
    },
    "language_info": {
      "name": "python"
    }
  },
  "cells": [
    {
      "cell_type": "markdown",
      "metadata": {
        "id": "_gFDM6Zh4b1u"
      },
      "source": [
        "## 27.5 연습문제: 파일에서 10자 이하인 단어 개수 세기\n",
        "단어가 줄 단위로 저장된 words.txt 파일이 주어집니다. 다음 소스 코드를 완성하여 10자 이하인 단어의 개수가 출력되게 만드세요."
      ]
    },
    {
      "cell_type": "code",
      "metadata": {
        "colab": {
          "base_uri": "https://localhost:8080/"
        },
        "id": "UQucasRC3mDw",
        "outputId": "756766c5-f345-40ea-91e1-dd9ceb40ffde"
      },
      "source": [
        "with open('words.txt', 'r') as file:\n",
        "    for line in file:\n",
        "        if len(line) <= 10:\n",
        "            print(line.strip('\\n'))"
      ],
      "execution_count": null,
      "outputs": [
        {
          "output_type": "stream",
          "text": [
            "dashboard\n",
            "spotlight\n",
            "warehouse\n"
          ],
          "name": "stdout"
        }
      ]
    },
    {
      "cell_type": "markdown",
      "metadata": {
        "id": "Z36KWrGN747S"
      },
      "source": [
        "## 27.6 심사문제: 특정 문자가 들어있는 단어 찾기\n",
        "문자열이 저장된 words.txt 파일이 주어집니다(문자열은 한 줄로 저장되어 있습니다). words.txt 파일에서 문자 c가 포함된 단어를 각 줄에 출력하는 프로그램을 만드세요. 단어를 출력할 때는 등장한 순서대로 출력해야 하며 ,(콤마)와 .(점)은 출력하지 않아야 합니다.\n"
      ]
    },
    {
      "cell_type": "code",
      "metadata": {
        "colab": {
          "base_uri": "https://localhost:8080/"
        },
        "id": "8pTB0RF2knNK",
        "outputId": "07807b3c-6db0-473b-9406-f180b1800ac8"
      },
      "source": [
        "with open('words_1.txt', 'r') as file:\n",
        "    s = file.read().split(' ')\n",
        "    for word in s:\n",
        "        word = word.strip(',. \\n').lower()\n",
        "        if word.count('c') >= 1:\n",
        "            print(word)"
      ],
      "execution_count": 13,
      "outputs": [
        {
          "output_type": "stream",
          "text": [
            "dictator\n",
            "subjects\n",
            "change\n",
            "costume\n",
            "elegance\n",
            "accepted\n"
          ],
          "name": "stdout"
        }
      ]
    },
    {
      "cell_type": "markdown",
      "metadata": {
        "id": "o2skPaKInqX9"
      },
      "source": [
        "## 29.3 연습문제: 몫과 나머지를 구하는 함수 만들기\n",
        "다음 소스 코드를 완성하여 x를 y로 나누었을 때의 몫과 나머지가 출력되게 만드세요."
      ]
    },
    {
      "cell_type": "code",
      "metadata": {
        "id": "eOebf452nvQ2"
      },
      "source": [
        "def get_quotient_remainder(a, b):\n",
        "    return a // b, a % b"
      ],
      "execution_count": 15,
      "outputs": []
    },
    {
      "cell_type": "code",
      "metadata": {
        "colab": {
          "base_uri": "https://localhost:8080/"
        },
        "id": "VBCG2FV1oDxz",
        "outputId": "2692f348-4e79-49b6-f134-3bb483163818"
      },
      "source": [
        "x = 10\n",
        "y = 3\n",
        "quotient, remainder = get_quotient_remainder(x, y)\n",
        "print(f'몫 : {quotient}, 나머지 : {remainder}')"
      ],
      "execution_count": 16,
      "outputs": [
        {
          "output_type": "stream",
          "text": [
            "몫 : 3, 나머지 : 1\n"
          ],
          "name": "stdout"
        }
      ]
    },
    {
      "cell_type": "markdown",
      "metadata": {
        "id": "Mh494XbOonZ7"
      },
      "source": [
        "## 29.4 심사문제: 사칙 연산 함수 만들기\n",
        "표준 입력으로 숫자 두 개가 입력됩니다. 다음 소스 코드를 완성하여 두 숫자의 덧셈, 뺄셈, 곱셈, 나눗셈의 결과가 출력되게 만드세요. 이때 나눗셈의 결과는 실수라야 합니다."
      ]
    },
    {
      "cell_type": "code",
      "metadata": {
        "colab": {
          "base_uri": "https://localhost:8080/"
        },
        "id": "2tXfdkddof8s",
        "outputId": "217d5bab-16c8-47f4-eda8-d4ee5508073e"
      },
      "source": [
        "x, y = map(int, input().split())\n",
        "\n",
        "def calc(x, y):\n",
        "    return x+y, x-y, x*y, x/y\n",
        "\n",
        "a, s, m, d = calc(x, y)\n",
        "print(f'덧셈 : {a}, 뺼셈 : {s}, 곱셈 : {m}, 나눗셈 : {d}')"
      ],
      "execution_count": 17,
      "outputs": [
        {
          "output_type": "stream",
          "text": [
            "10 20\n",
            "덧셈 : 30, 뺼셈 : -10, 곱셈 : 200, 나눗셈 : 0.5\n"
          ],
          "name": "stdout"
        }
      ]
    },
    {
      "cell_type": "code",
      "metadata": {
        "colab": {
          "base_uri": "https://localhost:8080/"
        },
        "id": "QcWoU0mrpnXt",
        "outputId": "adc80666-b835-406e-f16c-ff41f8cc6696"
      },
      "source": [
        "x, y = map(int, input().split())\n",
        "\n",
        "def calc(x, y):\n",
        "    return x+y, x-y, x*y, x/y\n",
        "\n",
        "a, s, m, d = calc(x, y)\n",
        "print(f'덧셈 : {a}, 뺼셈 : {s}, 곱셈 : {m}, 나눗셈 : {d}')"
      ],
      "execution_count": 18,
      "outputs": [
        {
          "output_type": "stream",
          "text": [
            "40 8\n",
            "덧셈 : 48, 뺼셈 : 32, 곱셈 : 320, 나눗셈 : 5.0\n"
          ],
          "name": "stdout"
        }
      ]
    },
    {
      "cell_type": "markdown",
      "metadata": {
        "id": "EEcd-AaJqfhX"
      },
      "source": [
        "## 30.6 연습문제: 가장 높은 점수를 구하는 함수 만들기\n",
        "다음 소스 코드를 완성하여 가장 높은 점수가 출력되게 만드세요."
      ]
    },
    {
      "cell_type": "code",
      "metadata": {
        "colab": {
          "base_uri": "https://localhost:8080/"
        },
        "id": "BZn-Cn8BpoXO",
        "outputId": "a95b80aa-f797-4bbc-ccc2-68bee867ae93"
      },
      "source": [
        "korean, english, mathematics, science = 100, 86, 81, 91\n",
        " \n",
        "def get_max_score(*args):\n",
        "    max_score = 0\n",
        "    for arg in args:\n",
        "        if arg > max_score:\n",
        "            max_score = arg\n",
        "    return max_score                                             \n",
        " \n",
        "max_score = get_max_score(korean, english, mathematics, science)\n",
        "print('높은 점수:', max_score)\n",
        " \n",
        "max_score = get_max_score(english, science)\n",
        "print('높은 점수:', max_score)"
      ],
      "execution_count": 20,
      "outputs": [
        {
          "output_type": "stream",
          "text": [
            "높은 점수: 100\n",
            "높은 점수: 91\n"
          ],
          "name": "stdout"
        }
      ]
    },
    {
      "cell_type": "markdown",
      "metadata": {
        "id": "6gUpSAMKrcaA"
      },
      "source": [
        "## 30.7 심사문제: 가장 낮은 점수, 높은 점수와 평균 점수를 구하는 함수 만들기\n",
        "표준 입력으로 국어, 영어, 수학, 과학 점수가 입력됩니다. 다음 소스 코드를 완성하여 가장 높은 점수, 가장 낮은 점수, 평균 점수가 출력되게 만드세요. 평균 점수는 실수로 출력되어야 합니다."
      ]
    },
    {
      "cell_type": "code",
      "metadata": {
        "colab": {
          "base_uri": "https://localhost:8080/"
        },
        "id": "cGm4XC1FriBV",
        "outputId": "d07c69de-c0c6-4a9f-8936-787d2617d5dd"
      },
      "source": [
        "korean, english, mathematics, science = map(int, input().split())\n",
        "\n",
        "def get_min_max_score(*args):\n",
        "    min_score = min(args)\n",
        "    max_score = max(args)\n",
        "    return min_score, max_score\n",
        "\n",
        "def get_average(**kwargs):\n",
        "    avg_score = sum(kwargs.values()) / len(kwargs.values())\n",
        "    return avg_score\n",
        "        \n",
        "\n",
        "min_score, max_score = get_min_max_score(korean, english, mathematics, science)\n",
        "average_score = get_average(korean=korean, english=english,\n",
        "                            mathematics=mathematics, science=science)\n",
        "print('낮은 점수: {0:.2f}, 높은 점수: {1:.2f}, 평균 점수: {2:.2f}'\n",
        "      .format(min_score, max_score, average_score))\n",
        " \n",
        "min_score, max_score = get_min_max_score(english, science)\n",
        "average_score = get_average(english=english, science=science)\n",
        "print('낮은 점수: {0:.2f}, 높은 점수: {1:.2f}, 평균 점수: {2:.2f}'\n",
        "      .format(min_score, max_score, average_score))"
      ],
      "execution_count": 22,
      "outputs": [
        {
          "output_type": "stream",
          "text": [
            "76 82 89 84\n",
            "낮은 점수: 76.00, 높은 점수: 89.00, 평균 점수: 82.75\n",
            "낮은 점수: 82.00, 높은 점수: 84.00, 평균 점수: 83.00\n"
          ],
          "name": "stdout"
        }
      ]
    },
    {
      "cell_type": "code",
      "metadata": {
        "colab": {
          "base_uri": "https://localhost:8080/"
        },
        "id": "6e1_-aodtO4s",
        "outputId": "92269a26-7de1-4fc3-ebec-98e7c0b464be"
      },
      "source": [
        "korean, english, mathematics, science = map(int, input().split())\n",
        "\n",
        "def get_min_max_score(*args):\n",
        "    min_score = min(args)\n",
        "    max_score = max(args)\n",
        "    return min_score, max_score\n",
        "\n",
        "def get_average(**kwargs):\n",
        "    avg_score = sum(kwargs.values()) / len(kwargs.values())\n",
        "    return avg_score\n",
        "        \n",
        "\n",
        "min_score, max_score = get_min_max_score(korean, english, mathematics, science)\n",
        "average_score = get_average(korean=korean, english=english,\n",
        "                            mathematics=mathematics, science=science)\n",
        "print('낮은 점수: {0:.2f}, 높은 점수: {1:.2f}, 평균 점수: {2:.2f}'\n",
        "      .format(min_score, max_score, average_score))\n",
        " \n",
        "min_score, max_score = get_min_max_score(english, science)\n",
        "average_score = get_average(english=english, science=science)\n",
        "print('낮은 점수: {0:.2f}, 높은 점수: {1:.2f}, 평균 점수: {2:.2f}'\n",
        "      .format(min_score, max_score, average_score))"
      ],
      "execution_count": 23,
      "outputs": [
        {
          "output_type": "stream",
          "text": [
            "89 92 73 83\n",
            "낮은 점수: 73.00, 높은 점수: 92.00, 평균 점수: 84.25\n",
            "낮은 점수: 83.00, 높은 점수: 92.00, 평균 점수: 87.50\n"
          ],
          "name": "stdout"
        }
      ]
    },
    {
      "cell_type": "code",
      "metadata": {
        "id": "9om5tG50tXAd"
      },
      "source": [
        ""
      ],
      "execution_count": null,
      "outputs": []
    }
  ]
}