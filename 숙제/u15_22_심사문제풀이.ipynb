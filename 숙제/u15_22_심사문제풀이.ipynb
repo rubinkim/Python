{
  "nbformat": 4,
  "nbformat_minor": 0,
  "metadata": {
    "colab": {
      "name": "u15-22_심사문제풀이.ipynb",
      "provenance": [],
      "collapsed_sections": []
    },
    "kernelspec": {
      "name": "python3",
      "display_name": "Python 3"
    },
    "language_info": {
      "name": "python"
    }
  },
  "cells": [
    {
      "cell_type": "markdown",
      "metadata": {
        "id": "Khw-XAiOBkI8"
      },
      "source": [
        "- a + b + c = 1000 (a < b < c)\n",
        "- a*a + b*b = c*c 인 피타고라스 수는?"
      ]
    },
    {
      "cell_type": "markdown",
      "metadata": {
        "id": "lP15fNVLB6-L"
      },
      "source": [
        "### pseudo code\n",
        "- 가장 작은 수인 a가 outer loop(for a in range(1000)\n",
        "- 그 다음 크기 수인  b가 중간 loop(for b in range(a+1, 1000)\n",
        "- 가장 큰 수인 c가 inner loop(for c in range(b+1, 1000)\n",
        "- if a + b + c == 1000 and a*a + b*b == c*c\n",
        "-  printt(a, b, c)\n",
        "    "
      ]
    },
    {
      "cell_type": "code",
      "metadata": {
        "colab": {
          "base_uri": "https://localhost:8080/"
        },
        "id": "vvAxFuf6Dzp0",
        "outputId": "e7922417-7be8-4ca0-bc0e-be41862e0da4"
      },
      "source": [
        "for a in range(1, 1001):\n",
        "  for b in range(a+1, 1001):\n",
        "    for c in range(b+1, 1001):\n",
        "      if (a+b+c == 1000) and (a*a + b*b == c*c):\n",
        "        print(a, b, c)"
      ],
      "execution_count": null,
      "outputs": [
        {
          "output_type": "stream",
          "text": [
            "200 375 425\n"
          ],
          "name": "stdout"
        }
      ]
    },
    {
      "cell_type": "code",
      "metadata": {
        "colab": {
          "base_uri": "https://localhost:8080/"
        },
        "id": "AoQpU3CJD_o5",
        "outputId": "9ba39e3e-30f8-455a-ab9e-a04f7c0dfd8e"
      },
      "source": [
        "200**2 + 375 ** 2, 425 ** 2"
      ],
      "execution_count": null,
      "outputs": [
        {
          "output_type": "execute_result",
          "data": {
            "text/plain": [
              "(180625, 180625)"
            ]
          },
          "metadata": {
            "tags": []
          },
          "execution_count": 4
        }
      ]
    },
    {
      "cell_type": "code",
      "metadata": {
        "colab": {
          "base_uri": "https://localhost:8080/"
        },
        "id": "GDzHqL1kFBoY",
        "outputId": "7ae82bf2-abf6-4d76-b053-3b613752b721"
      },
      "source": [
        "pythagorian_sides = [(a, b, c) for a in range(1, 1001) for b in range(a+1, 1001) for c in range(b+1, 1001) if (a+b+c == 1000) and (a*a + b*b == c*c)]\n",
        "print(pythagorian_sides)\n",
        "a, b, c = tuple(pythagorian_sides[0])\n",
        "print(a, b, c)\n",
        "print(a*a + b*b, c*c)"
      ],
      "execution_count": null,
      "outputs": [
        {
          "output_type": "stream",
          "text": [
            "[(200, 375, 425)]\n",
            "200 375 425\n",
            "180625 180625\n"
          ],
          "name": "stdout"
        }
      ]
    },
    {
      "cell_type": "code",
      "metadata": {
        "colab": {
          "base_uri": "https://localhost:8080/"
        },
        "id": "jOA8aPvQxrDu",
        "outputId": "db095f3b-9344-4dce-f72a-473e8ee2042a"
      },
      "source": [
        "[(a, b, c) for a in range(1, 333)\n",
        "               for b in range(a+1, 500)\n",
        "                   for c in range(b+1, 1000)\n",
        "                       if (a+b+c==1000) and ((a**2)+(b**2)==(c**2))]"
      ],
      "execution_count": null,
      "outputs": [
        {
          "output_type": "execute_result",
          "data": {
            "text/plain": [
              "[(200, 375, 425)]"
            ]
          },
          "metadata": {
            "tags": []
          },
          "execution_count": 4
        }
      ]
    },
    {
      "cell_type": "markdown",
      "metadata": {
        "id": "qJAPDP4aRhMS"
      },
      "source": [
        "## 본인의 생일을 1998 12 15 과 같이 년 월 일로 입력받아\u000b오늘 날짜의 만 - 나이를 구하는 프로그램을 작성하시오."
      ]
    },
    {
      "cell_type": "code",
      "metadata": {
        "colab": {
          "base_uri": "https://localhost:8080/"
        },
        "id": "CC-JmDWmZy6s",
        "outputId": "07768da6-1002-4ea6-d723-2d7490eaee72"
      },
      "source": [
        "from datetime import date\n",
        "today = date.today()\n",
        "\n",
        "birth_date = map(int, input('생일입력').split())\n",
        "year, month, day = tuple(birth_date)\n",
        "\n",
        "if year > today.year:\n",
        "    print('생일을 잘못 입력하셨습니다.')\n",
        "elif (year == today.year) and (month > today.month):\n",
        "    print('생일을 잘못 입력하셨습니다.')\n",
        "elif (year == today.year) and (month == today.month) and (day > today.day):\n",
        "    print('생일을 잘못 입력하셨습니다.')\n",
        "elif ((year == today.year) and (month < today.month)) or ((year == today.year) and (month == today.month) and (day <= today.day)):\n",
        "    eng_age = today.year - year\n",
        "    print(f'당신의 만나이는 {eng_age:>3d}살 입니다.')\n",
        "elif ((year < today.year) and (month < today.month)) or ((year < today.year) and (month == today.month) and (day <= today.day)):\n",
        "    eng_age = today.year - year\n",
        "    print(f'당신의 만나이는 {eng_age:>3d}살 입니다.')\n",
        "elif ((year < today.year) and (month > today.month)) or ((year < today.year) and (month == today.month) and (day > today.day)): \n",
        "    eng_age = today.year - year -1\n",
        "    print(f'당신의 만나이는 {eng_age:>3d}살 입니다.')"
      ],
      "execution_count": null,
      "outputs": [
        {
          "output_type": "stream",
          "text": [
            "1917 8 14\n",
            "당신의 만나이는 103살 입니다.\n"
          ],
          "name": "stdout"
        }
      ]
    },
    {
      "cell_type": "markdown",
      "metadata": {
        "id": "ykKVkjKeRj4i"
      },
      "source": [
        "## 디지털 시계에 하루동안(00:00 - 23:59) 3이 표시되는 시간을 초로 - 환산하면 총 몇 초(second) \u000b일까요?\u000b- 디지털 시계는 하루동안 다음과 - 같이 시:분(00:00 - 23:59)으로 표시됨."
      ]
    },
    {
      "cell_type": "code",
      "metadata": {
        "colab": {
          "base_uri": "https://localhost:8080/"
        },
        "id": "U_F4WDKJRnsV",
        "outputId": "aa6f7e59-71e2-40a2-c126-3d3218ff1c60"
      },
      "source": [
        "\"\"\"pseudo code\n",
        "문자열 ab:cd의 범위가 a(0~2), b(0~3), c(0~5), d(0~9)를 a를 시작으로 for loop을 한다.\n",
        "시계에 3이 표시될 수 있는 경우들은 (b==3,c==3, d==3), (b==3, c==3, d!=3), (b==3, c!=3, d==3), (b==3, c!=3, d!=3), (b!=3, c==3, d==3), (b!=3, c==3, d!=3), (b!=3, c!=3, d==3)로서 7개이다.\n",
        "시간을 초수로 변경하는 변수를 0으로 초기화하고 각각의 경우에 시간들을 초수로 환산해서 변수를 증가시킨다.\n",
        "\"\"\"\n",
        "\n",
        "hour_0 = list(map(str, range(3)))\n",
        "hour_1 = list(map(str, range(4)))\n",
        "minute_0 = list(map(str, range(6)))\n",
        "minute_1 = list(map(str, range(10)))\n",
        "one_day = []\n",
        "for h0 in hour_0:\n",
        "    for h1 in hour_1:\n",
        "        for m0 in minute_0:\n",
        "            for m1 in minute_1:\n",
        "                one_day.append(h0 + h1 + ':' + m0 + m1)\n",
        "\n",
        "all_threes = 0\n",
        "for x in one_day:\n",
        "    x = x.replace(':', '')\n",
        "    into_secs = 0\n",
        "    if '3' in x:\n",
        "        x = list(map(int, x))\n",
        "        into_secs = x[0] * 36000 + x[1] * 3600 + x[2] * 600 + x[3] * 60\n",
        "        all_threes += into_secs\n",
        "\n",
        "print(all_threes)\n"
      ],
      "execution_count": null,
      "outputs": [
        {
          "output_type": "stream",
          "text": [
            "14347800\n"
          ],
          "name": "stdout"
        }
      ]
    },
    {
      "cell_type": "markdown",
      "metadata": {
        "id": "8iN1EJH9q2aA"
      },
      "source": [
        ""
      ]
    },
    {
      "cell_type": "code",
      "metadata": {
        "colab": {
          "base_uri": "https://localhost:8080/"
        },
        "id": "U7pJgFiQnnyy",
        "outputId": "2193033f-1314-4099-9875-9fd5b3d85987"
      },
      "source": [
        "all_threes = 0\n",
        "for x in ['02:33', '01:24', '12:45', '15:23']:\n",
        "    x = x.replace(':', '')\n",
        "    into_secs = 0\n",
        "    if '3' in x:\n",
        "        x = list(map(int, x))\n",
        "        into_secs = x[0] * 36000 + x[1] * 3600 + x[2] * 600 + x[3] * 60\n",
        "        all_threes += into_secs\n",
        "        print(x, type(x))\n",
        "\n",
        "print(all_threes)"
      ],
      "execution_count": null,
      "outputs": [
        {
          "output_type": "stream",
          "text": [
            "[0, 2, 3, 3] <class 'list'>\n",
            "[1, 5, 2, 3] <class 'list'>\n",
            "64560\n"
          ],
          "name": "stdout"
        }
      ]
    },
    {
      "cell_type": "code",
      "metadata": {
        "colab": {
          "base_uri": "https://localhost:8080/"
        },
        "id": "_LuGoeiGz1Au",
        "outputId": "7bf733fc-02a0-4474-ede6-f3921efac481"
      },
      "source": [
        "hour_0 = list(map(str, range(3)))\n",
        "hour_1 = list(map(str, range(4)))\n",
        "minute_0 = list(map(str, range(6)))\n",
        "minute_1 = list(map(str, range(10)))\n",
        "one_day = []\n",
        "for h0 in hour_0:\n",
        "    for h1 in hour_1:\n",
        "        for m0 in minute_0:\n",
        "            for m1 in minute_1:\n",
        "                one_day.append(h0 + h1 + ':' + m0 + m1)\n",
        "\n",
        "\n",
        "all_threes = 0\n",
        "for x in ['02:33', '01:24', '12:45', '15:23']:\n",
        "    x = x.replace(':', '')\n",
        "    into_secs = 0\n",
        "    if '3' in x:\n",
        "        x = list(map(int, x))\n",
        "        into_secs = x[0] * 36000 + x[1] * 3600 + x[2] * 600 + x[3] * 60\n",
        "        all_threes += 60\n",
        "        print(x, type(x))\n",
        "\n",
        "print(all_threes)"
      ],
      "execution_count": null,
      "outputs": [
        {
          "output_type": "stream",
          "text": [
            "[0, 2, 3, 3] <class 'list'>\n",
            "[1, 5, 2, 3] <class 'list'>\n",
            "120\n"
          ],
          "name": "stdout"
        }
      ]
    },
    {
      "cell_type": "code",
      "metadata": {
        "id": "5R350UBM0Ftz"
      },
      "source": [
        ""
      ],
      "execution_count": null,
      "outputs": []
    },
    {
      "cell_type": "code",
      "metadata": {
        "colab": {
          "base_uri": "https://localhost:8080/"
        },
        "id": "zXLGJ202hauK",
        "outputId": "c0238204-8497-4caf-c0fa-c6e714c62e4a"
      },
      "source": [
        "print(one_day[:10], one_day[-10:])\n",
        "\n",
        "for x in ['0300', '02:14', '01:13']:\n",
        "    if '3' in x:\n",
        "        print(x, end=' ')\n",
        "\n",
        "a, b = map(int, ['4', '3'])\n",
        "print(a, b)\n",
        "\n",
        "'02:57'.replace(':', '')\n",
        "\n",
        "for x in map(int, '0331'):\n",
        "    print(x, end=', ')\n",
        "print()\n",
        "\n",
        "a = list(map(int, '35'))\n",
        "print(a[0]*20 + a[1]*10)"
      ],
      "execution_count": null,
      "outputs": [
        {
          "output_type": "stream",
          "text": [
            "['00:00', '00:01', '00:02', '00:03', '00:04', '00:05', '00:06', '00:07', '00:08', '00:09'] ['23:50', '23:51', '23:52', '23:53', '23:54', '23:55', '23:56', '23:57', '23:58', '23:59']\n",
            "0300 01:13 4 3\n",
            "0, 3, 3, 1, \n",
            "110\n"
          ],
          "name": "stdout"
        }
      ]
    },
    {
      "cell_type": "markdown",
      "metadata": {
        "id": "Rdzqa8i3S2WZ"
      },
      "source": [
        "## u13. 선생님"
      ]
    },
    {
      "cell_type": "code",
      "metadata": {
        "colab": {
          "base_uri": "https://localhost:8080/"
        },
        "id": "fRCi9VXyS-0Y",
        "outputId": "7e276ea9-d979-4ce6-9268-3c3d80ec917c"
      },
      "source": [
        "# 27000 / Cash3000\n",
        "price = int(input())\n",
        "coupon = input()\n",
        "if coupon == 'Cash3000':\n",
        "    print(price - 3000)\n",
        "if coupon == 'Cash5000':\n",
        "    print(price - 5000)"
      ],
      "execution_count": 1,
      "outputs": [
        {
          "output_type": "stream",
          "text": [
            "27000\n",
            "Cash3000\n",
            "24000\n"
          ],
          "name": "stdout"
        }
      ]
    },
    {
      "cell_type": "code",
      "metadata": {
        "colab": {
          "base_uri": "https://localhost:8080/"
        },
        "id": "2HY2VRT7TTfs",
        "outputId": "77ac2535-42ed-431c-ae43-86aed06f038c"
      },
      "source": [
        "# 72000 / Cash5000\n",
        "price = int(input())\n",
        "coupon = input()\n",
        "if coupon == 'Cash3000':\n",
        "    print(price - 3000)\n",
        "if coupon == 'Cash5000':\n",
        "    print(price - 5000)"
      ],
      "execution_count": 2,
      "outputs": [
        {
          "output_type": "stream",
          "text": [
            "72000\n",
            "Cash5000\n",
            "67000\n"
          ],
          "name": "stdout"
        }
      ]
    },
    {
      "cell_type": "markdown",
      "metadata": {
        "id": "-wlYP_USTbVn"
      },
      "source": [
        "## u14. 선생님"
      ]
    },
    {
      "cell_type": "code",
      "metadata": {
        "colab": {
          "base_uri": "https://localhost:8080/"
        },
        "id": "Q1D31iVDTl-g",
        "outputId": "5bcc1a0d-922e-4baa-9546-363b8be665c6"
      },
      "source": [
        "# 89 72 93 82\n",
        "score = list(map(int, input().split()))\n",
        "if min(score) < 0 or max(score) > 100:\n",
        "    print('잘못된 점수')\n",
        "else:\n",
        "    avg = sum(score) / len(score)\n",
        "    if avg >= 80:\n",
        "        print('합격')\n",
        "    else:\n",
        "        print('불합격')"
      ],
      "execution_count": 3,
      "outputs": [
        {
          "output_type": "stream",
          "text": [
            "89 72 93 82\n",
            "합격\n"
          ],
          "name": "stdout"
        }
      ]
    },
    {
      "cell_type": "markdown",
      "metadata": {
        "id": "AAo2wsbqHk07"
      },
      "source": [
        "## 15.4 심사문제: 교통카드 시스템 만들기\n",
        "표준 입력으로 나이(만 나이)가 입력됩니다(입력 값은 7 이상 입력됨). 교통카드 시스템에서 시내버스 요금은 다음과 같으며 각 나이에 맞게 요금을 차감한 뒤 잔액이 출력되게 만드세요(if, elif 사용). 현재 교통카드에는 9,000원이 들어있습니다.\n",
        "\n",
        "어린이(초등학생, 만 7세 이상 12세 이하): 650원\n",
        "청소년(중∙고등학생, 만 13세 이상 18세 이하): 1,050원\n",
        "어른(일반, 만 19세 이상): 1,250원"
      ]
    },
    {
      "cell_type": "code",
      "metadata": {
        "colab": {
          "base_uri": "https://localhost:8080/"
        },
        "id": "4t9mzLatHjuY",
        "outputId": "fc036b41-ff9f-4a77-833f-08a23eb67ac2"
      },
      "source": [
        "age = int(input('나이입력'))\n",
        "balance = 9000\n",
        "\n",
        "if 7 <= age <= 12:\n",
        "  balance -= 650\n",
        "elif 13 <= age <= 18:\n",
        "  balance -= 1050\n",
        "elif age >= 19:\n",
        "  balance -= 1250\n",
        "\n",
        "print(balance)"
      ],
      "execution_count": null,
      "outputs": [
        {
          "output_type": "stream",
          "text": [
            "17\n",
            "7950\n"
          ],
          "name": "stdout"
        }
      ]
    },
    {
      "cell_type": "code",
      "metadata": {
        "id": "37D9b2Mi25TE"
      },
      "source": [
        "age = int(input())\n",
        "balance = 9000\n",
        "\n",
        "if 7 <= age <= 12:\n",
        "  balance -= 650\n",
        "elif 13 <= age <= 18:\n",
        "  balance -= 1050\n",
        "elif age >= 19:\n",
        "  balance -= 1250\n",
        "\n",
        "print(balance)"
      ],
      "execution_count": null,
      "outputs": []
    },
    {
      "cell_type": "markdown",
      "metadata": {
        "id": "36P_qSb-KACy"
      },
      "source": [
        "## 16.6 심사문제: 구구단 출력하기\n",
        "표준 입력으로 정수가 입력됩니다. 입력된 정수의 구구단을 출력하는 프로그램을 만드세요(input에서 안내 문자열은 출력하지 않아야 합니다). 출력 형식은 숫자 * 숫자 = 숫자처럼 만들고 숫자와 *, = 사이는 공백을 한 칸 띄웁니다."
      ]
    },
    {
      "cell_type": "code",
      "metadata": {
        "colab": {
          "base_uri": "https://localhost:8080/"
        },
        "id": "sw-pYFl5JTYb",
        "outputId": "44a11cc9-3125-444d-e49f-808be1e1cba4"
      },
      "source": [
        "num = int(input())\n",
        "\n",
        "for i in range(1, 10):\n",
        "  print(str(num) + ' * ' + str(i) + ' = ' + str(num * i))"
      ],
      "execution_count": null,
      "outputs": [
        {
          "output_type": "stream",
          "text": [
            "2\n",
            "2 * 1 = 2\n",
            "2 * 2 = 4\n",
            "2 * 3 = 6\n",
            "2 * 4 = 8\n",
            "2 * 5 = 10\n",
            "2 * 6 = 12\n",
            "2 * 7 = 14\n",
            "2 * 8 = 16\n",
            "2 * 9 = 18\n"
          ],
          "name": "stdout"
        }
      ]
    },
    {
      "cell_type": "code",
      "metadata": {
        "colab": {
          "base_uri": "https://localhost:8080/"
        },
        "id": "PVBoAzDQLBxx",
        "outputId": "1d9b4216-f88a-454b-a779-0d3823e8ca0b"
      },
      "source": [
        "num = int(input())\n",
        "\n",
        "for i in range(1, 10):\n",
        "  print(str(num) + ' * ' + str(i) + ' = ' + str(num * i))"
      ],
      "execution_count": null,
      "outputs": [
        {
          "output_type": "stream",
          "text": [
            "7\n",
            "7 * 1 = 7\n",
            "7 * 2 = 14\n",
            "7 * 3 = 21\n",
            "7 * 4 = 28\n",
            "7 * 5 = 35\n",
            "7 * 6 = 42\n",
            "7 * 7 = 49\n",
            "7 * 8 = 56\n",
            "7 * 9 = 63\n"
          ],
          "name": "stdout"
        }
      ]
    },
    {
      "cell_type": "code",
      "metadata": {
        "colab": {
          "base_uri": "https://localhost:8080/"
        },
        "id": "Rrz1KcfkUCVU",
        "outputId": "43a3d67c-e9fa-48c7-ad73-d1355ebb7099"
      },
      "source": [
        "# 선생님 풀이\n",
        "\n",
        "n = int(input())\n",
        "for i in range(1,10):\n",
        "    print(f'{n} * {i} = {n*i}')"
      ],
      "execution_count": 4,
      "outputs": [
        {
          "output_type": "stream",
          "text": [
            "8\n",
            "8 * 1 = 8\n",
            "8 * 2 = 16\n",
            "8 * 3 = 24\n",
            "8 * 4 = 32\n",
            "8 * 5 = 40\n",
            "8 * 6 = 48\n",
            "8 * 7 = 56\n",
            "8 * 8 = 64\n",
            "8 * 9 = 72\n"
          ],
          "name": "stdout"
        }
      ]
    },
    {
      "cell_type": "markdown",
      "metadata": {
        "id": "_VzVLj4PNRFR"
      },
      "source": [
        "## 17.6 심사문제: 교통카드 잔액 출력하기\n",
        "표준 입력으로 금액(정수)이 입력됩니다. 1회당 요금은 1,350원이고, 교통카드를 사용했을 때마다의 잔액을 각 줄에 출력하는 프로그램을 만드세요(input에서 안내 문자열은 출력하지 않아야 합니다). 단, 최초 금액은 출력하지 않아야 합니다. 그리고 잔액은 음수가 될 수 없으며 잔액이 부족하면 출력을 끝냅니다."
      ]
    },
    {
      "cell_type": "code",
      "metadata": {
        "colab": {
          "base_uri": "https://localhost:8080/"
        },
        "id": "NJ9iynz4LK6j",
        "outputId": "8277144a-a537-46cc-89f2-90fea14d67a6"
      },
      "source": [
        "init_bal = int(input())\n",
        "i = 1\n",
        "while True:\n",
        "  if init_bal >= 0:\n",
        "    init_bal -= 1350\n",
        "    if init_bal >= 0:\n",
        "      print(init_bal)\n",
        "    i += 1\n",
        "  else:\n",
        "    break"
      ],
      "execution_count": null,
      "outputs": [
        {
          "output_type": "stream",
          "text": [
            "10000\n",
            "8650\n",
            "7300\n",
            "5950\n",
            "4600\n",
            "3250\n",
            "1900\n",
            "550\n"
          ],
          "name": "stdout"
        }
      ]
    },
    {
      "cell_type": "code",
      "metadata": {
        "colab": {
          "base_uri": "https://localhost:8080/"
        },
        "id": "MiN2l0WaUS_B",
        "outputId": "637dc949-f8ee-4b82-d261-fa38f3fda876"
      },
      "source": [
        "# 선생님 풀이\n",
        "balance = int(input())\n",
        "\n",
        "fare = 1350\n",
        "while balance-fare >= 0 :\n",
        "    balance -= fare\n",
        "    print(balance)"
      ],
      "execution_count": 5,
      "outputs": [
        {
          "output_type": "stream",
          "text": [
            "10000\n",
            "8650\n",
            "7300\n",
            "5950\n",
            "4600\n",
            "3250\n",
            "1900\n",
            "550\n"
          ],
          "name": "stdout"
        }
      ]
    },
    {
      "cell_type": "markdown",
      "metadata": {
        "id": "WMYZtFRQUbIi"
      },
      "source": [
        "### 객체지향방식\n"
      ]
    },
    {
      "cell_type": "code",
      "metadata": {
        "id": "5lrrEwWSUguZ"
      },
      "source": [
        "class Tmoney:\n",
        "    def __init__(self, balance):\n",
        "        self.balance = balance\n",
        "\n",
        "    def pay(self, fare):\n",
        "        if self.balance > fare :\n",
        "            self.balance -= fare\n",
        "            print(f'남은 잔액은 {self.balance}원 입니다.')\n",
        "        else : \n",
        "            print('지불 불가')"
      ],
      "execution_count": 6,
      "outputs": []
    },
    {
      "cell_type": "code",
      "metadata": {
        "colab": {
          "base_uri": "https://localhost:8080/"
        },
        "id": "1npYpmnSUkwI",
        "outputId": "3d0de84e-2630-4f0f-c7b9-e3be4f5c30d3"
      },
      "source": [
        "balance = int(input())\n",
        "fare = 1350\n",
        "card = Tmoney(balance)\n",
        "\n",
        "while True :\n",
        "    if card.balance <= fare :\n",
        "        break\n",
        "    card.pay(fare)"
      ],
      "execution_count": 7,
      "outputs": [
        {
          "output_type": "stream",
          "text": [
            "10000\n",
            "남은 잔액은 8650원 입니다.\n",
            "남은 잔액은 7300원 입니다.\n",
            "남은 잔액은 5950원 입니다.\n",
            "남은 잔액은 4600원 입니다.\n",
            "남은 잔액은 3250원 입니다.\n",
            "남은 잔액은 1900원 입니다.\n",
            "남은 잔액은 550원 입니다.\n"
          ],
          "name": "stdout"
        }
      ]
    },
    {
      "cell_type": "code",
      "metadata": {
        "colab": {
          "base_uri": "https://localhost:8080/"
        },
        "id": "h166ldgSPJrz",
        "outputId": "55e8aacf-9b7f-49ff-d6f1-abe6042632c0"
      },
      "source": [
        "init_bal = int(input())\n",
        "i = 1\n",
        "while True:\n",
        "  if init_bal >= 0:\n",
        "    init_bal -= 1350\n",
        "    if init_bal >= 0:\n",
        "      print(init_bal)\n",
        "    i += 1\n",
        "  else:\n",
        "    break"
      ],
      "execution_count": null,
      "outputs": [
        {
          "output_type": "stream",
          "text": [
            "13500\n",
            "12150\n",
            "10800\n",
            "9450\n",
            "8100\n",
            "6750\n",
            "5400\n",
            "4050\n",
            "2700\n",
            "1350\n",
            "0\n"
          ],
          "name": "stdout"
        }
      ]
    },
    {
      "cell_type": "markdown",
      "metadata": {
        "id": "ky0aprXHstoU"
      },
      "source": [
        "## 18.6 심사문제: 두 수 사이의 숫자 중 3으로 끝나지 않는 숫자 출력하기\n",
        "표준 입력으로 정수 두 개가 입력됩니다(첫 번째 입력 값의 범위는 1-200, 두 번째 입력 값의 범위는 10-200이며 첫 번째 입력 값은 두 번째 입력 값보다 항상 작습니다). 다음 소스 코드를 완성하여 첫 번째 정수와 두 번째 정수 사이의 숫자 중 3으로 끝나지 않는 숫자가 출력되게 만드세요. 정답에 코드를 작성할 때는 while True:에 맞춰서 들여쓰기를 해주세요."
      ]
    },
    {
      "cell_type": "code",
      "metadata": {
        "id": "COK05jTrsjv2"
      },
      "source": [
        "start, stop = map(int, input().split())\n",
        "i = start\n",
        "\n",
        "while True:\n",
        "    if (i+1) % 10 == 3:\n",
        "\n",
        "\n",
        "\n",
        "\n",
        "\n",
        "    print(i, end=' ')\n",
        "    i += 1"
      ],
      "execution_count": null,
      "outputs": []
    },
    {
      "cell_type": "code",
      "metadata": {
        "colab": {
          "base_uri": "https://localhost:8080/"
        },
        "id": "aXrGSasJUzEN",
        "outputId": "8f89b142-277a-432e-bb73-1fd192d849a8"
      },
      "source": [
        "# 선생님 풀이\n",
        "x, y = list(map(int, input().split()))\n",
        "while True:\n",
        "    if x > y:\n",
        "        break\n",
        "    if x % 10 == 3:\n",
        "        x += 1\n",
        "        continue\n",
        "    print(x, end='  ')\n",
        "    x += 1"
      ],
      "execution_count": 8,
      "outputs": [
        {
          "output_type": "stream",
          "text": [
            "100 115\n",
            "100  101  102  104  105  106  107  108  109  110  111  112  114  115  "
          ],
          "name": "stdout"
        }
      ]
    }
  ]
}