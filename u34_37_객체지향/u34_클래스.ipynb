{
  "nbformat": 4,
  "nbformat_minor": 0,
  "metadata": {
    "colab": {
      "name": "u34_클래스.ipynb",
      "provenance": [],
      "collapsed_sections": []
    },
    "kernelspec": {
      "name": "python3",
      "display_name": "Python 3"
    },
    "language_info": {
      "name": "python"
    }
  },
  "cells": [
    {
      "cell_type": "code",
      "metadata": {
        "id": "cVhwOVgEwrkG"
      },
      "source": [
        ""
      ],
      "execution_count": null,
      "outputs": []
    },
    {
      "cell_type": "markdown",
      "metadata": {
        "id": "JmHjDv6j66pd"
      },
      "source": [
        "# Unit 34. 클래스(Class)"
      ]
    },
    {
      "cell_type": "markdown",
      "metadata": {
        "id": "D1osT-077WTu"
      },
      "source": [
        "## 34.1 클래스 속성과 메서드 만들기"
      ]
    },
    {
      "cell_type": "code",
      "metadata": {
        "id": "jrXmE-301PgD"
      },
      "source": [
        "class Person:        # 클래스 이름은 대문자로 시작\n",
        "    def greeting(self):\n",
        "        print('Hello!')"
      ],
      "execution_count": null,
      "outputs": []
    },
    {
      "cell_type": "code",
      "metadata": {
        "id": "wVpQoLxY7y1X"
      },
      "source": [
        "# 인스턴스 만들어야 클래스를 사용할 수 있다 클래스는 인스턴스를 만들기 위한 틀이고 인스턴스는 구체화된 것이다\n",
        "james = Person()\n",
        "maria = Person()"
      ],
      "execution_count": null,
      "outputs": []
    },
    {
      "cell_type": "code",
      "metadata": {
        "colab": {
          "base_uri": "https://localhost:8080/"
        },
        "id": "s-RsE-7c8F2R",
        "outputId": "91196645-a848-4ea0-8c12-0b9c6b5927a0"
      },
      "source": [
        "james.greeting()"
      ],
      "execution_count": null,
      "outputs": [
        {
          "output_type": "stream",
          "text": [
            "Hello!\n"
          ],
          "name": "stdout"
        }
      ]
    },
    {
      "cell_type": "code",
      "metadata": {
        "colab": {
          "base_uri": "https://localhost:8080/"
        },
        "id": "a00yEWoa8U79",
        "outputId": "50c7bbc0-229c-428d-df07-ab74c9128025"
      },
      "source": [
        "maria.greeting()"
      ],
      "execution_count": null,
      "outputs": [
        {
          "output_type": "stream",
          "text": [
            "Hello!\n"
          ],
          "name": "stdout"
        }
      ]
    },
    {
      "cell_type": "code",
      "metadata": {
        "colab": {
          "base_uri": "https://localhost:8080/"
        },
        "id": "3-SF3m-38Wg1",
        "outputId": "94233aed-a80a-4d72-aea4-d87b1eb1efbe"
      },
      "source": [
        "Person().greeting()"
      ],
      "execution_count": null,
      "outputs": [
        {
          "output_type": "stream",
          "text": [
            "Hello!\n"
          ],
          "name": "stdout"
        }
      ]
    },
    {
      "cell_type": "code",
      "metadata": {
        "id": "pw04mA_n8dcf"
      },
      "source": [
        "# 클래스 내의 메서드 호출하기\n",
        "class Person:\n",
        "    def greeting(self):\n",
        "        print('Hello!')\n",
        "\n",
        "    def hello(self):\n",
        "        self.greeting()"
      ],
      "execution_count": null,
      "outputs": []
    },
    {
      "cell_type": "code",
      "metadata": {
        "colab": {
          "base_uri": "https://localhost:8080/"
        },
        "id": "CNnpFTj1-PVT",
        "outputId": "89a9fe16-d5e5-404c-a7da-0ea4136e8153"
      },
      "source": [
        "james = Person()\n",
        "james.hello()"
      ],
      "execution_count": null,
      "outputs": [
        {
          "output_type": "stream",
          "text": [
            "Hello!\n"
          ],
          "name": "stdout"
        }
      ]
    },
    {
      "cell_type": "code",
      "metadata": {
        "colab": {
          "base_uri": "https://localhost:8080/"
        },
        "id": "kr72UEBX-bio",
        "outputId": "c5d87b7e-a0c4-4bdd-d2cf-6b4a24e56f67"
      },
      "source": [
        "# 상속받은 놈인지 아닌지 확인하는데 사용한다.\n",
        "isinstance(james, Person)"
      ],
      "execution_count": null,
      "outputs": [
        {
          "output_type": "execute_result",
          "data": {
            "text/plain": [
              "True"
            ]
          },
          "metadata": {
            "tags": []
          },
          "execution_count": 12
        }
      ]
    },
    {
      "cell_type": "code",
      "metadata": {
        "id": "HU_56nIE-kpU"
      },
      "source": [
        "def factorial(n):\n",
        "    if not isninstance(n, int) or n < 0:\n",
        "        return None\n",
        "    if n == 0:\n",
        "        return 1\n",
        "    return n * factorial(n-1)\n"
      ],
      "execution_count": null,
      "outputs": []
    },
    {
      "cell_type": "code",
      "metadata": {
        "id": "s7yeCjrPBCO6"
      },
      "source": [
        "def factorial(n):\n",
        "    if not isinstance(n, int) or n < 0:    # n이 정수가 아니거나 음수이면 함수를 끝냄\n",
        "        return None\n",
        "    if n == 1:\n",
        "        return 1\n",
        "    return n * factorial(n - 1)"
      ],
      "execution_count": null,
      "outputs": []
    },
    {
      "cell_type": "code",
      "metadata": {
        "id": "9U5P5i22_RdP"
      },
      "source": [
        "factorial(3.14)"
      ],
      "execution_count": null,
      "outputs": []
    },
    {
      "cell_type": "markdown",
      "metadata": {
        "id": "98ILJxqt_j8x"
      },
      "source": [
        "##34.2 속성(Attribute)"
      ]
    },
    {
      "cell_type": "code",
      "metadata": {
        "id": "UpVeUWVz_TXF"
      },
      "source": [
        "class Person:\n",
        "    def __init__(self):\n",
        "        self.hello = '안녕하세요'     # hello 속성을 갖게 됨\n",
        "\n",
        "    def greeting(self):                # hello 속성을 출력하는게 greeting method이다\n",
        "        print(self.hello)"
      ],
      "execution_count": null,
      "outputs": []
    },
    {
      "cell_type": "code",
      "metadata": {
        "colab": {
          "base_uri": "https://localhost:8080/"
        },
        "id": "SvQ9qAkS__m-",
        "outputId": "6f7d02b6-cca0-4563-8bc4-fa01b3c86956"
      },
      "source": [
        "maria = Person()\n",
        "maria.greeting()"
      ],
      "execution_count": null,
      "outputs": [
        {
          "output_type": "stream",
          "text": [
            "안녕하세요\n"
          ],
          "name": "stdout"
        }
      ]
    },
    {
      "cell_type": "code",
      "metadata": {
        "colab": {
          "base_uri": "https://localhost:8080/"
        },
        "id": "o61By3T6AMt2",
        "outputId": "9757ea01-5e5a-4f20-c292-ba3dff008606"
      },
      "source": [
        "maria.hello = 'How are you?'\n",
        "maria.greeting()"
      ],
      "execution_count": null,
      "outputs": [
        {
          "output_type": "stream",
          "text": [
            "How are you?\n"
          ],
          "name": "stdout"
        }
      ]
    },
    {
      "cell_type": "code",
      "metadata": {
        "id": "e62NU5PoAwka"
      },
      "source": [
        "class Person:\n",
        "    def __init__(self, hello):           # Constructor 대문자함수\n",
        "        self.hello = hello        \n",
        "\n",
        "    def greeting(self):\n",
        "        print(self.hello)"
      ],
      "execution_count": null,
      "outputs": []
    },
    {
      "cell_type": "code",
      "metadata": {
        "id": "IlQXSAPiBqw5"
      },
      "source": [
        "james = Person('안녕하세요, 이소영, 잘한다')  # 찾아가는곳은 __init__이다\n",
        "maria = Person('How are you?')"
      ],
      "execution_count": null,
      "outputs": []
    },
    {
      "cell_type": "code",
      "metadata": {
        "colab": {
          "base_uri": "https://localhost:8080/"
        },
        "id": "8Lhw6bxnB5Oa",
        "outputId": "9ae2bcf8-197f-4f63-dc74-190fddc4c128"
      },
      "source": [
        "#\n",
        "james.greeting()\n",
        "maria.greeting()"
      ],
      "execution_count": null,
      "outputs": [
        {
          "output_type": "stream",
          "text": [
            "안녕하세요, 이소영, 잘한다\n",
            "How are you?\n"
          ],
          "name": "stdout"
        }
      ]
    },
    {
      "cell_type": "code",
      "metadata": {
        "id": "MYB5MECOCAdd"
      },
      "source": [
        "class Person:\n",
        "    def __init__(self, name, age, addr):   # *args, **kwargs를 줄 수도 있다\n",
        "        self.hello = '안녕하세요?'\n",
        "        self.name = name\n",
        "        self.age = age\n",
        "        self.addr = addr\n",
        "\n",
        "    def greeting(self):\n",
        "        print(f'{self.hello} 저는 {self.name}입니다.')\n",
        "\n",
        "    #JAVA의 toSring() method\n",
        "    def __str__(self):\n",
        "        return f'hello : {self.hello}, name : {self.name}, age : {self.age}, addr : {self.addr}'"
      ],
      "execution_count": 4,
      "outputs": []
    },
    {
      "cell_type": "code",
      "metadata": {
        "colab": {
          "base_uri": "https://localhost:8080/"
        },
        "id": "lqyqRIAMC-3h",
        "outputId": "d093c58d-2780-4afe-c08d-d6ed08e1ff01"
      },
      "source": [
        "maria = Person('마리아', 23, '서울시 강남구 도곡동')\n",
        "maria.greeting()"
      ],
      "execution_count": 5,
      "outputs": [
        {
          "output_type": "stream",
          "text": [
            "안녕하세요? 저는 마리아입니다.\n"
          ],
          "name": "stdout"
        }
      ]
    },
    {
      "cell_type": "code",
      "metadata": {
        "id": "_X76DHbvDLzg",
        "colab": {
          "base_uri": "https://localhost:8080/"
        },
        "outputId": "2e90995a-3cd7-4838-ebfc-f9ca74dfa167"
      },
      "source": [
        "# __str__로 내용을 지정하지 않으면 memory 주소가 나온다\n",
        "print(maria)    "
      ],
      "execution_count": 6,
      "outputs": [
        {
          "output_type": "stream",
          "text": [
            "hello : 안녕하세요?, name : 마리아, age : 23, addr : 서울시 강남구 도곡동\n"
          ],
          "name": "stdout"
        }
      ]
    },
    {
      "cell_type": "markdown",
      "metadata": {
        "id": "o-hp1x3UVwzT"
      },
      "source": [
        "## 34.3 비공개 속성"
      ]
    },
    {
      "cell_type": "code",
      "metadata": {
        "colab": {
          "base_uri": "https://localhost:8080/"
        },
        "id": "UXaryrB6Uqed",
        "outputId": "2bb7c229-aa9a-4004-a2a2-f8cd3a04e36b"
      },
      "source": [
        "maria.age = 30\n",
        "print(maria)   # 23이 30으로 바뀐다. 안됀다."
      ],
      "execution_count": 7,
      "outputs": [
        {
          "output_type": "stream",
          "text": [
            "hello : 안녕하세요?, name : 마리아, age : 30, addr : 서울시 강남구 도곡동\n"
          ],
          "name": "stdout"
        }
      ]
    },
    {
      "cell_type": "code",
      "metadata": {
        "id": "OwPYY7ofV_RH"
      },
      "source": [
        "class Person:\n",
        "    def __init__(self, name, age, addr, wallet):   # wallet은 나만 알 수 있는 비공개 속성값이어야 한다\n",
        "        self.name = name\n",
        "        self.age = age\n",
        "        self.addr = addr\n",
        "        self.__wallet = wallet                      # __wallet 속성은 비공개\n",
        "\n",
        "    def greeting(self):\n",
        "        print(f'안녕하세요? 저는 {self.name}입니다.')\n",
        "\n",
        "    #JAVA의 toSring() method\n",
        "    def __str__(self):\n",
        "        return f'name : {self.name}, age : {self.age}, addr : {self.addr}, wallet : {self.__wallet}'"
      ],
      "execution_count": 9,
      "outputs": []
    },
    {
      "cell_type": "code",
      "metadata": {
        "colab": {
          "base_uri": "https://localhost:8080/"
        },
        "id": "3ZaqhhH3Wuoa",
        "outputId": "4ed07015-cbc5-4fc6-b4be-a90b33acf9ab"
      },
      "source": [
        "james = Person('제임스', 27, '서울 강남구 역삼동', 10000)\n",
        "james.greeting()"
      ],
      "execution_count": 10,
      "outputs": [
        {
          "output_type": "stream",
          "text": [
            "안녕하세요? 저는 제임스입니다.\n"
          ],
          "name": "stdout"
        }
      ]
    },
    {
      "cell_type": "code",
      "metadata": {
        "colab": {
          "base_uri": "https://localhost:8080/"
        },
        "id": "1Q8eDAmGXDIk",
        "outputId": "7326e16f-2b07-4b6f-9127-a3e4613ede75"
      },
      "source": [
        "print(james)"
      ],
      "execution_count": 11,
      "outputs": [
        {
          "output_type": "stream",
          "text": [
            "name : 제임스, age : 27, addr : 서울 강남구 역삼동, wallet : 10000\n"
          ],
          "name": "stdout"
        }
      ]
    },
    {
      "cell_type": "code",
      "metadata": {
        "id": "-NXdmmtwXFYi"
      },
      "source": [
        "james.__wallet = 1000000  # 비곧개 속성이기 때문에 클래스 바깥에서는 변경할 수가 없다."
      ],
      "execution_count": 12,
      "outputs": []
    },
    {
      "cell_type": "code",
      "metadata": {
        "colab": {
          "base_uri": "https://localhost:8080/"
        },
        "id": "jO7LGEWpXJCL",
        "outputId": "06e172e2-f73c-42da-87bb-269e9ff10191"
      },
      "source": [
        "print(james)"
      ],
      "execution_count": 13,
      "outputs": [
        {
          "output_type": "stream",
          "text": [
            "name : 제임스, age : 27, addr : 서울 강남구 역삼동, wallet : 10000\n"
          ],
          "name": "stdout"
        }
      ]
    },
    {
      "cell_type": "code",
      "metadata": {
        "id": "tobT7urQXR6w"
      },
      "source": [
        "class Person:\n",
        "    def __init__(self, name, age, addr, wallet):   # wallet은 나만 알 수 있는 비공개 속성값이어야 한다\n",
        "        self.name = name\n",
        "        self.age = age\n",
        "        self.addr = addr\n",
        "        self.__wallet = wallet                      # __wallet 속성은 비공개\n",
        "\n",
        "    def greeting(self):\n",
        "        print(f'안녕하세요? 저는 {self.name}입니다.')\n",
        "\n",
        "    def pay(self, amount):\n",
        "        if self.__wallet - amount < 0:\n",
        "            print('지갑의 돈이 부족합니다.')\n",
        "            return\n",
        "        self.__wallet -= amount\n",
        "        print(f'지갑의 남은 돈은 {self.__wallet}입니다.')\n",
        "\n",
        "    #JAVA의 toSring() method\n",
        "    def __str__(self):\n",
        "        return f'name : {self.name}, age : {self.age}, addr : {self.addr}, wallet : {self.__wallet}'"
      ],
      "execution_count": 24,
      "outputs": []
    },
    {
      "cell_type": "code",
      "metadata": {
        "id": "VuMlYnPXY3vV"
      },
      "source": [
        "james = Person('제임스', 27, '서울 강남구 역삼동', 10000)"
      ],
      "execution_count": 25,
      "outputs": []
    },
    {
      "cell_type": "code",
      "metadata": {
        "colab": {
          "base_uri": "https://localhost:8080/"
        },
        "id": "3A02U--WYOB8",
        "outputId": "c6ab558d-4e83-48e2-8131-3aaea0a89ef0"
      },
      "source": [
        "james.pay(5000)"
      ],
      "execution_count": 26,
      "outputs": [
        {
          "output_type": "stream",
          "text": [
            "지갑의 남은 돈은 5000입니다.\n"
          ],
          "name": "stdout"
        }
      ]
    },
    {
      "cell_type": "code",
      "metadata": {
        "colab": {
          "base_uri": "https://localhost:8080/"
        },
        "id": "WsNEu0kuYS0A",
        "outputId": "56673c74-c78b-4f13-c7fd-266606f1103d"
      },
      "source": [
        "print(james)"
      ],
      "execution_count": 27,
      "outputs": [
        {
          "output_type": "stream",
          "text": [
            "name : 제임스, age : 27, addr : 서울 강남구 역삼동, wallet : 5000\n"
          ],
          "name": "stdout"
        }
      ]
    },
    {
      "cell_type": "code",
      "metadata": {
        "colab": {
          "base_uri": "https://localhost:8080/"
        },
        "id": "eygoju3fYVY0",
        "outputId": "2bfe788e-498f-4dd0-dc6b-11fe591cf08e"
      },
      "source": [
        "james.pay(10000)"
      ],
      "execution_count": 28,
      "outputs": [
        {
          "output_type": "stream",
          "text": [
            "지갑의 돈이 부족합니다.\n"
          ],
          "name": "stdout"
        }
      ]
    },
    {
      "cell_type": "code",
      "metadata": {
        "colab": {
          "base_uri": "https://localhost:8080/"
        },
        "id": "KFRtKIKqYZL5",
        "outputId": "8a394860-d266-44f0-9069-1cb7468bfe81"
      },
      "source": [
        "print(james)"
      ],
      "execution_count": 29,
      "outputs": [
        {
          "output_type": "stream",
          "text": [
            "name : 제임스, age : 27, addr : 서울 강남구 역삼동, wallet : 5000\n"
          ],
          "name": "stdout"
        }
      ]
    },
    {
      "cell_type": "code",
      "metadata": {
        "id": "2O4qMGmAYaDY"
      },
      "source": [
        ""
      ],
      "execution_count": null,
      "outputs": []
    },
    {
      "cell_type": "markdown",
      "metadata": {
        "id": "whcQkT_LZEqV"
      },
      "source": [
        "Account 클래스 만들기\n",
        "- ano : 문자열 6 글자,  '123456'\n",
        "- owner : 문자열\n",
        "- balance : 잔액, 비공개 속성\n",
        "\n",
        "- 생성자\n",
        "- deposit(amount)  1000만원 이상은 입금 불가\n",
        "- withdraw(amount) 잔액이 0원 미만이면 출금할 수 없음\n",
        "- 출력 가능하게\n"
      ]
    },
    {
      "cell_type": "code",
      "metadata": {
        "id": "N_kEceY6Zzdy"
      },
      "source": [
        "class Account:\n",
        "    def __init__(self, ano, owner, balance):\n",
        "        self.ano = str(ano)\n",
        "        self.owner = owner\n",
        "        self.__balance = balance\n",
        "\n",
        "    def deposit(self, amount):\n",
        "        if amount >+ 10000000:\n",
        "            print('일천만원 이상의 금액은 입금하실 수 없습니다. ')\n",
        "            return\n",
        "        self.__balance += amount\n",
        "        print(f'당신의 잔액은 {self.__balance}입니다.')\n",
        "\n",
        "    def withdraw(self, amount):\n",
        "        if self.__balance < 0:\n",
        "            print('당신의 현재 잔액이 없습니다.')\n",
        "            return\n",
        "        self.__balance -= amount\n",
        "        print('당신의 현재 잔액은 {self.__balance}입니다.') \n",
        "\n",
        "    def __str__(self):\n",
        "        return f'계좌번호 {self.ano}   계좌이름 {self.owner} 계좌잔액 {self.__balance}'"
      ],
      "execution_count": 39,
      "outputs": []
    },
    {
      "cell_type": "code",
      "metadata": {
        "id": "1eKjLlK2bta5"
      },
      "source": [
        "my_acnt = Account('123456', 'rubin', 5000000)"
      ],
      "execution_count": 40,
      "outputs": []
    },
    {
      "cell_type": "code",
      "metadata": {
        "colab": {
          "base_uri": "https://localhost:8080/"
        },
        "id": "vPn6CGEJbz-P",
        "outputId": "2d3e2346-aecb-4c7e-9fe9-a5b32f16d8ac"
      },
      "source": [
        "print(my_acnt)"
      ],
      "execution_count": 41,
      "outputs": [
        {
          "output_type": "stream",
          "text": [
            "계좌번호 123456   계좌이름 rubin 계좌잔액 5000000\n"
          ],
          "name": "stdout"
        }
      ]
    },
    {
      "cell_type": "code",
      "metadata": {
        "colab": {
          "base_uri": "https://localhost:8080/"
        },
        "id": "7BhHSHtacBwU",
        "outputId": "5ab03be6-f4c8-47eb-ee03-c6fbe19c23f5"
      },
      "source": [
        "my_acnt.deposit(1000000000)\n",
        "print(my_acnt)"
      ],
      "execution_count": 43,
      "outputs": [
        {
          "output_type": "stream",
          "text": [
            "일천만원 이상의 금액은 입금하실 수 없습니다. \n",
            "계좌번호 123456   계좌이름 rubin 계좌잔액 5000000\n"
          ],
          "name": "stdout"
        }
      ]
    },
    {
      "cell_type": "code",
      "metadata": {
        "colab": {
          "base_uri": "https://localhost:8080/"
        },
        "id": "DHtw-c3ycdKb",
        "outputId": "87665821-0c7f-46a3-bf3e-a27b0d90010e"
      },
      "source": [
        "my_acnt.deposit(2000000)\n",
        "print(my_acnt)"
      ],
      "execution_count": 45,
      "outputs": [
        {
          "output_type": "stream",
          "text": [
            "당신의 잔액은 9000000입니다.\n",
            "계좌번호 123456   계좌이름 rubin 계좌잔액 9000000\n"
          ],
          "name": "stdout"
        }
      ]
    },
    {
      "cell_type": "markdown",
      "metadata": {
        "id": "1cuBX5fvcp13"
      },
      "source": [
        "### 선생님 방법"
      ]
    },
    {
      "cell_type": "code",
      "metadata": {
        "id": "CXK_9ebicgyA"
      },
      "source": [
        "class Account:\n",
        "    def __init__(self, ano, owner, balance):\n",
        "        self.ano = ano\n",
        "        self.owner = owner\n",
        "        self.__balance = balance\n",
        "\n",
        "    def deposit(self, amount):\n",
        "        if amount + self.__balance >= 10000000:\n",
        "            print('천만원 이상의 금액은 잔액으로 가져갈 수 없습니다.')\n",
        "            return\n",
        "        self.__balance += amount\n",
        "\n",
        "    def withdraw(self, amount):\n",
        "        if self.__balance - amount < 0:\n",
        "            print('잔액이 부족합니다.')\n",
        "            return\n",
        "        self.__balance -= amount\n",
        "\n",
        "    def __str__(self):\n",
        "        return f'계좌번호: {self.ano}, 소유주: {self.owner},  잔액:{self.__balance:9,d}'"
      ],
      "execution_count": 105,
      "outputs": []
    },
    {
      "cell_type": "code",
      "metadata": {
        "colab": {
          "base_uri": "https://localhost:8080/"
        },
        "id": "1jOsOdkdeDnO",
        "outputId": "829f5175-3e8b-409b-dc33-7b17ddfa1f00"
      },
      "source": [
        "acc = Account('233456', '제임스', 100000)\n",
        "print(acc)"
      ],
      "execution_count": 106,
      "outputs": [
        {
          "output_type": "stream",
          "text": [
            "계좌번호: 233456, 소유주: 제임스,  잔액:  100,000\n"
          ],
          "name": "stdout"
        }
      ]
    },
    {
      "cell_type": "code",
      "metadata": {
        "colab": {
          "base_uri": "https://localhost:8080/"
        },
        "id": "l34YCUlTePu8",
        "outputId": "12635e05-4ec2-4dfc-940d-f611d2fe9a90"
      },
      "source": [
        "acc.deposit(3000000)\n",
        "print(acc)"
      ],
      "execution_count": 107,
      "outputs": [
        {
          "output_type": "stream",
          "text": [
            "계좌번호: 233456, 소유주: 제임스,  잔액:3,100,000\n"
          ],
          "name": "stdout"
        }
      ]
    },
    {
      "cell_type": "code",
      "metadata": {
        "colab": {
          "base_uri": "https://localhost:8080/"
        },
        "id": "MnlhOKuTehQI",
        "outputId": "6f54f199-377e-4cb6-d1b3-7a5b7eda5471"
      },
      "source": [
        "acc.deposit(7000000)\n",
        "print(acc)"
      ],
      "execution_count": 108,
      "outputs": [
        {
          "output_type": "stream",
          "text": [
            "천만원 이상의 금액은 잔액으로 가져갈 수 없습니다.\n",
            "계좌번호: 233456, 소유주: 제임스,  잔액:3,100,000\n"
          ],
          "name": "stdout"
        }
      ]
    },
    {
      "cell_type": "code",
      "metadata": {
        "colab": {
          "base_uri": "https://localhost:8080/"
        },
        "id": "dIGMsdzVeqr9",
        "outputId": "3d2aeebd-3d09-4901-e164-5c3fda5994d6"
      },
      "source": [
        "acc.withdraw(2000000)\n",
        "print(acc)"
      ],
      "execution_count": 109,
      "outputs": [
        {
          "output_type": "stream",
          "text": [
            "계좌번호: 233456, 소유주: 제임스,  잔액:1,100,000\n"
          ],
          "name": "stdout"
        }
      ]
    },
    {
      "cell_type": "code",
      "metadata": {
        "colab": {
          "base_uri": "https://localhost:8080/"
        },
        "id": "sKb4tlvleuXz",
        "outputId": "1452b0d3-f443-4e38-da82-8a0fc34e210e"
      },
      "source": [
        "acc.withdraw(2000000)\n",
        "print(acc)"
      ],
      "execution_count": 110,
      "outputs": [
        {
          "output_type": "stream",
          "text": [
            "잔액이 부족합니다.\n",
            "계좌번호: 233456, 소유주: 제임스,  잔액:1,100,000\n"
          ],
          "name": "stdout"
        }
      ]
    },
    {
      "cell_type": "code",
      "metadata": {
        "colab": {
          "base_uri": "https://localhost:8080/"
        },
        "id": "Ox3aApoge0Ad",
        "outputId": "cd3db53b-8812-41ca-ecc9-0f2fa648dff5"
      },
      "source": [
        "acc2 = Account('987432', '마리아', 3000000)\n",
        "print(acc2)"
      ],
      "execution_count": 111,
      "outputs": [
        {
          "output_type": "stream",
          "text": [
            "계좌번호: 987432, 소유주: 마리아,  잔액:3,000,000\n"
          ],
          "name": "stdout"
        }
      ]
    },
    {
      "cell_type": "code",
      "metadata": {
        "id": "2-hBapwhfBhl"
      },
      "source": [
        "acc_list = [acc, acc2]"
      ],
      "execution_count": 112,
      "outputs": []
    },
    {
      "cell_type": "code",
      "metadata": {
        "colab": {
          "base_uri": "https://localhost:8080/"
        },
        "id": "5KgcWN7rfQwK",
        "outputId": "cbef19f1-7d73-40ee-855f-7e3f990c889d"
      },
      "source": [
        "for account in acc_list:\n",
        "    print(type(account), account)"
      ],
      "execution_count": 113,
      "outputs": [
        {
          "output_type": "stream",
          "text": [
            "<class '__main__.Account'> 계좌번호: 233456, 소유주: 제임스,  잔액:1,100,000\n",
            "<class '__main__.Account'> 계좌번호: 987432, 소유주: 마리아,  잔액:3,000,000\n"
          ],
          "name": "stdout"
        }
      ]
    },
    {
      "cell_type": "markdown",
      "metadata": {
        "id": "MNlqlZOdfmjQ"
      },
      "source": [
        "### 1:계좌생성 2:계좌목록 3:입금 4:출금 5:종료 "
      ]
    },
    {
      "cell_type": "code",
      "metadata": {
        "id": "fsTY8uqaslpA"
      },
      "source": [
        "def check_duplicate(ano):\n",
        "    for acc in acc_list:\n",
        "        if ano == acc.ano:\n",
        "            return True\n",
        "    return False"
      ],
      "execution_count": 121,
      "outputs": []
    },
    {
      "cell_type": "code",
      "metadata": {
        "id": "5AbIS6evkOBk"
      },
      "source": [
        "def create_account():\n",
        "    while True:\n",
        "        s = input('계좌번호 성명 금액> ').split()\n",
        "        ano, owner = s[0], s[1]\n",
        "        amount = int(s[2])\n",
        "        if not check_duplicate(ano):\n",
        "            break\n",
        "        acc = Account(ano, owner, amount)\n",
        "        acc_list.append(acc)\n",
        "    "
      ],
      "execution_count": 123,
      "outputs": []
    },
    {
      "cell_type": "code",
      "metadata": {
        "id": "_KYs69cBnfNx"
      },
      "source": [
        "def deposit_account():\n",
        "    s = input('계좌번호 금액> ').split()\n",
        "    ano, amount = s[0], int(s[1])\n",
        "    for acc in acc_list:\n",
        "        if acc.ano == ano:\n",
        "            acc.deposit(amount)"
      ],
      "execution_count": 124,
      "outputs": []
    },
    {
      "cell_type": "code",
      "metadata": {
        "id": "RLZ1oNK5njsk"
      },
      "source": [
        "def withdraw_account():\n",
        "    s = input('계좌번호 금액> ').split()\n",
        "    ano, amount = s[0], int(s[1])\n",
        "    for acc in acc_list:\n",
        "        if acc.ano == ano:\n",
        "            acc.withdraw(amount)"
      ],
      "execution_count": 125,
      "outputs": []
    },
    {
      "cell_type": "code",
      "metadata": {
        "colab": {
          "base_uri": "https://localhost:8080/"
        },
        "id": "AAkccdpEnm6R",
        "outputId": "4b82301b-6f14-486f-b95f-085246b281e5"
      },
      "source": [
        "while True:       # 5번이 나올 때까지 무한반복\n",
        "    menu = int(input('1:계좌생성 2:계좌목록 3:입금 4:출금 5:종료> '))\n",
        "    if menu == 5:\n",
        "        break\n",
        "    if menu == 1:\n",
        "        create_account()\n",
        "    elif menu == 2:\n",
        "        for account in acc_list:\n",
        "            print(account)\n",
        "    elif menu == 3:\n",
        "        deposit_account()\n",
        "    elif menu == 4:\n",
        "        withdraw_account()\n",
        "    else:\n",
        "        print('잘못된 명령어입니다')\n",
        "    print()\n"
      ],
      "execution_count": 127,
      "outputs": [
        {
          "output_type": "stream",
          "text": [
            "1:계좌생성 2:계좌목록 3:입금 4:출금 5:종료> 2\n",
            "계좌번호: 233456, 소유주: 제임스,  잔액:  100,000\n",
            "계좌번호: 987432, 소유주: 마리아,  잔액:5,000,000\n",
            "계좌번호: 333555, 소유주: 홍길동,  잔액:2,250,000\n",
            "\n",
            "1:계좌생성 2:계좌목록 3:입금 4:출금 5:종료> 1\n",
            "계좌번호 성명 금액> 233456 홍길동 100000\n",
            "계좌번호 성명 금액> 333555 김한용 20000000\n",
            "계좌번호 성명 금액> 234651 김한용 20000000\n",
            "\n",
            "1:계좌생성 2:계좌목록 3:입금 4:출금 5:종료> 2\n",
            "계좌번호: 233456, 소유주: 제임스,  잔액:  100,000\n",
            "계좌번호: 987432, 소유주: 마리아,  잔액:5,000,000\n",
            "계좌번호: 333555, 소유주: 홍길동,  잔액:2,250,000\n",
            "계좌번호: 233456, 소유주: 홍길동,  잔액:  100,000\n",
            "계좌번호: 333555, 소유주: 김한용,  잔액:20,000,000\n",
            "\n",
            "1:계좌생성 2:계좌목록 3:입금 4:출금 5:종료> 5\n"
          ],
          "name": "stdout"
        }
      ]
    },
    {
      "cell_type": "code",
      "metadata": {
        "id": "q64q4Kdwnv5o"
      },
      "source": [
        ""
      ],
      "execution_count": 85,
      "outputs": []
    }
  ]
}