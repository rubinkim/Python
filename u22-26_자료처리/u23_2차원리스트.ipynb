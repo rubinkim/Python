{
  "nbformat": 4,
  "nbformat_minor": 0,
  "metadata": {
    "colab": {
      "name": "u23_2차원리스트.ipynb",
      "provenance": [],
      "collapsed_sections": []
    },
    "kernelspec": {
      "name": "python3",
      "display_name": "Python 3"
    },
    "language_info": {
      "name": "python"
    }
  },
  "cells": [
    {
      "cell_type": "markdown",
      "metadata": {
        "id": "L5t5R-mM0nMK"
      },
      "source": [
        "# Unit 23. 2차원 리스트"
      ]
    },
    {
      "cell_type": "markdown",
      "metadata": {
        "id": "pmxNbq9i0sU3"
      },
      "source": [
        "## 23.1 생성 및 인덱싱"
      ]
    },
    {
      "cell_type": "code",
      "metadata": {
        "colab": {
          "base_uri": "https://localhost:8080/"
        },
        "id": "MP7fOKK70Znt",
        "outputId": "8d1ad62d-4b4a-4010-dc1d-138477a5889a"
      },
      "source": [
        "a = [[10,20],[30,40],[50,60]]\n",
        "a"
      ],
      "execution_count": 1,
      "outputs": [
        {
          "output_type": "execute_result",
          "data": {
            "text/plain": [
              "[[10, 20], [30, 40], [50, 60]]"
            ]
          },
          "metadata": {
            "tags": []
          },
          "execution_count": 1
        }
      ]
    },
    {
      "cell_type": "code",
      "metadata": {
        "colab": {
          "base_uri": "https://localhost:8080/"
        },
        "id": "r5ZNTj2s1A08",
        "outputId": "ff413570-b516-4cd7-84b3-fdfa38f0fd82"
      },
      "source": [
        "# a[행인덱스][열인덱스]\n",
        "a[1][0]"
      ],
      "execution_count": 2,
      "outputs": [
        {
          "output_type": "execute_result",
          "data": {
            "text/plain": [
              "30"
            ]
          },
          "metadata": {
            "tags": []
          },
          "execution_count": 2
        }
      ]
    },
    {
      "cell_type": "code",
      "metadata": {
        "colab": {
          "base_uri": "https://localhost:8080/"
        },
        "id": "bdlTusrA1Uqn",
        "outputId": "987f007e-3e90-47e0-eb06-d5911e678b94"
      },
      "source": [
        "a[1][-1] = 100\n",
        "a"
      ],
      "execution_count": 4,
      "outputs": [
        {
          "output_type": "execute_result",
          "data": {
            "text/plain": [
              "[[10, 20], [30, 100], [50, 60]]"
            ]
          },
          "metadata": {
            "tags": []
          },
          "execution_count": 4
        }
      ]
    },
    {
      "cell_type": "code",
      "metadata": {
        "colab": {
          "base_uri": "https://localhost:8080/"
        },
        "id": "EVnqZN_U1hwK",
        "outputId": "58bca207-c12d-42bf-b188-d7f9801bf350"
      },
      "source": [
        "import numpy as np\n",
        "b = np.arange(16).reshape(4,4)\n",
        "b"
      ],
      "execution_count": 5,
      "outputs": [
        {
          "output_type": "execute_result",
          "data": {
            "text/plain": [
              "array([[ 0,  1,  2,  3],\n",
              "       [ 4,  5,  6,  7],\n",
              "       [ 8,  9, 10, 11],\n",
              "       [12, 13, 14, 15]])"
            ]
          },
          "metadata": {
            "tags": []
          },
          "execution_count": 5
        }
      ]
    },
    {
      "cell_type": "code",
      "metadata": {
        "colab": {
          "base_uri": "https://localhost:8080/"
        },
        "id": "lqzfYZaB1wpW",
        "outputId": "5128fed6-46e0-4091-a5a7-b1526f48ccdb"
      },
      "source": [
        "b[1,1], b[1:-1, 1:-1] # 이런것들이 리스트에서는 안된다. 2차원 리스트는 그래서 잘안쓴다."
      ],
      "execution_count": 8,
      "outputs": [
        {
          "output_type": "execute_result",
          "data": {
            "text/plain": [
              "(5, array([[ 5,  6],\n",
              "        [ 9, 10]]))"
            ]
          },
          "metadata": {
            "tags": []
          },
          "execution_count": 8
        }
      ]
    },
    {
      "cell_type": "code",
      "metadata": {
        "colab": {
          "base_uri": "https://localhost:8080/"
        },
        "id": "fimt1IiG2C80",
        "outputId": "5f315035-a91c-4a21-ddca-d2ac3b98a8dc"
      },
      "source": [
        "# 톱니형 리스트\n",
        "a = [[10, 20],\n",
        "     [500, 600, 700],\n",
        "     [9],\n",
        "     [30, 40],\n",
        "     [8],\n",
        "     [800, 900, 1000]]\n",
        "\n",
        "a"
      ],
      "execution_count": 11,
      "outputs": [
        {
          "output_type": "execute_result",
          "data": {
            "text/plain": [
              "[[10, 20], [500, 600, 700], [9], [30, 40], [8], [800, 900, 1000]]"
            ]
          },
          "metadata": {
            "tags": []
          },
          "execution_count": 11
        }
      ]
    },
    {
      "cell_type": "code",
      "metadata": {
        "colab": {
          "base_uri": "https://localhost:8080/"
        },
        "id": "9iiuMwtJ3RQd",
        "outputId": "22529e55-692d-4539-ea7d-44c8b3cbed2c"
      },
      "source": [
        "a = []   # 2차원 리스트를 만들려면 2개의 빈리스틀 for loop을 이용해서 돌려야 한다.\n",
        "for i in range(4):\n",
        "    t = []\n",
        "    for k in range(4):\n",
        "        t.append(i*4 + k)\n",
        "    a.append(t)\n",
        "a"
      ],
      "execution_count": 13,
      "outputs": [
        {
          "output_type": "execute_result",
          "data": {
            "text/plain": [
              "[[0, 1, 2, 3], [4, 5, 6, 7], [8, 9, 10, 11], [12, 13, 14, 15]]"
            ]
          },
          "metadata": {
            "tags": []
          },
          "execution_count": 13
        }
      ]
    },
    {
      "cell_type": "code",
      "metadata": {
        "colab": {
          "base_uri": "https://localhost:8080/"
        },
        "id": "DJePbFV44kRT",
        "outputId": "81ba3915-e555-4504-f9cf-1831f4c27a32"
      },
      "source": [
        "[[i*4+k for k in range(4)] for i in range(4)]"
      ],
      "execution_count": 18,
      "outputs": [
        {
          "output_type": "execute_result",
          "data": {
            "text/plain": [
              "[[0, 1, 2, 3], [4, 5, 6, 7], [8, 9, 10, 11], [12, 13, 14, 15]]"
            ]
          },
          "metadata": {
            "tags": []
          },
          "execution_count": 18
        }
      ]
    },
    {
      "cell_type": "code",
      "metadata": {
        "colab": {
          "base_uri": "https://localhost:8080/"
        },
        "id": "qctwPO-P3rSY",
        "outputId": "78a0bb7b-7f2b-4730-d0cc-4502697953dd"
      },
      "source": [
        "from pprint import pprint\n",
        "pprint(a, indent=4, width=30)"
      ],
      "execution_count": 14,
      "outputs": [
        {
          "output_type": "stream",
          "text": [
            "[   [0, 1, 2, 3],\n",
            "    [4, 5, 6, 7],\n",
            "    [8, 9, 10, 11],\n",
            "    [12, 13, 14, 15]]\n"
          ],
          "name": "stdout"
        }
      ]
    },
    {
      "cell_type": "markdown",
      "metadata": {
        "id": "dE_Z1w0W7YHu"
      },
      "source": [
        "##23.2 for 반복문 사용"
      ]
    },
    {
      "cell_type": "code",
      "metadata": {
        "colab": {
          "base_uri": "https://localhost:8080/"
        },
        "id": "1PiFIue-4a55",
        "outputId": "f363b26e-ab9b-4e3c-94d3-f295a37c6cfa"
      },
      "source": [
        "for row in a:\n",
        "    print(row)"
      ],
      "execution_count": 19,
      "outputs": [
        {
          "output_type": "stream",
          "text": [
            "[0, 1, 2, 3]\n",
            "[4, 5, 6, 7]\n",
            "[8, 9, 10, 11]\n",
            "[12, 13, 14, 15]\n"
          ],
          "name": "stdout"
        }
      ]
    },
    {
      "cell_type": "code",
      "metadata": {
        "colab": {
          "base_uri": "https://localhost:8080/"
        },
        "id": "u46h1HHy7r_-",
        "outputId": "9e68a429-062a-4877-ddfa-470593c9888a"
      },
      "source": [
        "for row in a:\n",
        "    for element in row:\n",
        "        print(f'{element:2d}', end=' ')\n",
        "    print()"
      ],
      "execution_count": 22,
      "outputs": [
        {
          "output_type": "stream",
          "text": [
            " 0  1  2  3 \n",
            " 4  5  6  7 \n",
            " 8  9 10 11 \n",
            "12 13 14 15 \n"
          ],
          "name": "stdout"
        }
      ]
    },
    {
      "cell_type": "code",
      "metadata": {
        "colab": {
          "base_uri": "https://localhost:8080/"
        },
        "id": "9vNHamJ178Dp",
        "outputId": "28fee16f-88fe-490a-e872-557c145e1528"
      },
      "source": [
        "for w,x,y,z in a:   # 리스트 언팩킹이 발생했다\n",
        "    print(w, x, y, z)"
      ],
      "execution_count": 24,
      "outputs": [
        {
          "output_type": "stream",
          "text": [
            "0 1 2 3\n",
            "4 5 6 7\n",
            "8 9 10 11\n",
            "12 13 14 15\n"
          ],
          "name": "stdout"
        }
      ]
    },
    {
      "cell_type": "code",
      "metadata": {
        "colab": {
          "base_uri": "https://localhost:8080/",
          "height": 135
        },
        "id": "4lBvGwjE8g6f",
        "outputId": "6b7dcbd8-a867-4958-90f7-0386d15c5e5d"
      },
      "source": [
        "for w,x,y,z in a:\n",
        "    print(f'{w:2d}(x:2d}{y:2d}{z:2d}')"
      ],
      "execution_count": 25,
      "outputs": [
        {
          "output_type": "error",
          "ename": "SyntaxError",
          "evalue": "ignored",
          "traceback": [
            "\u001b[0;36m  File \u001b[0;32m\"<ipython-input-25-ab9b52e07383>\"\u001b[0;36m, line \u001b[0;32m2\u001b[0m\n\u001b[0;31m    print(f'{w:2d}(x:2d}{y:2d}{z:2d}')\u001b[0m\n\u001b[0m         ^\u001b[0m\n\u001b[0;31mSyntaxError\u001b[0m\u001b[0;31m:\u001b[0m f-string: single '}' is not allowed\n"
          ]
        }
      ]
    },
    {
      "cell_type": "code",
      "metadata": {
        "colab": {
          "base_uri": "https://localhost:8080/"
        },
        "id": "Trl5wBv59Pdg",
        "outputId": "105cbb0c-b72b-4277-ebe6-d546a0fdef7f"
      },
      "source": [
        "for w,x,y,z in a:\n",
        "    print(f'{w:2d}, {x:2d}, {y:2d}, {z:2d}')"
      ],
      "execution_count": 27,
      "outputs": [
        {
          "output_type": "stream",
          "text": [
            " 0,  1,  2,  3\n",
            " 4,  5,  6,  7\n",
            " 8,  9, 10, 11\n",
            "12, 13, 14, 15\n"
          ],
          "name": "stdout"
        }
      ]
    },
    {
      "cell_type": "markdown",
      "metadata": {
        "id": "eJVbB6zv9IXH"
      },
      "source": [
        "## 23.3 반복문으로 리스트 만들기"
      ]
    },
    {
      "cell_type": "code",
      "metadata": {
        "colab": {
          "base_uri": "https://localhost:8080/"
        },
        "id": "6krzxj9P9t32",
        "outputId": "542a8762-dd5a-4f29-9e6f-f75e2df8e7f5"
      },
      "source": [
        "a = [[0 for _ in range(2)] for _ in range(3)]\n",
        "a"
      ],
      "execution_count": 30,
      "outputs": [
        {
          "output_type": "execute_result",
          "data": {
            "text/plain": [
              "[[0, 0], [0, 0], [0, 0]]"
            ]
          },
          "metadata": {
            "tags": []
          },
          "execution_count": 30
        }
      ]
    },
    {
      "cell_type": "code",
      "metadata": {
        "colab": {
          "base_uri": "https://localhost:8080/"
        },
        "id": "yytcqoqD9FQX",
        "outputId": "5553d3a3-ff79-42d2-8e76-9a57d904d1f0"
      },
      "source": [
        "a = [[0] * 2 for _ in range(3)]\n",
        "a"
      ],
      "execution_count": 31,
      "outputs": [
        {
          "output_type": "execute_result",
          "data": {
            "text/plain": [
              "[[0, 0], [0, 0], [0, 0]]"
            ]
          },
          "metadata": {
            "tags": []
          },
          "execution_count": 31
        }
      ]
    },
    {
      "cell_type": "code",
      "metadata": {
        "colab": {
          "base_uri": "https://localhost:8080/"
        },
        "id": "D327CTP798e2",
        "outputId": "dff56859-5413-4dad-bf07-642797c2660f"
      },
      "source": [
        "num = [3, 1, 3, 2, 5]\n",
        "b = []\n",
        "for i in num:\n",
        "    line = []\n",
        "    for _ in range(i):\n",
        "        line.append(0)\n",
        "    b.append(line)\n",
        "\n",
        "b"
      ],
      "execution_count": 32,
      "outputs": [
        {
          "output_type": "execute_result",
          "data": {
            "text/plain": [
              "[[0, 0, 0], [0], [0, 0, 0], [0, 0], [0, 0, 0, 0, 0]]"
            ]
          },
          "metadata": {
            "tags": []
          },
          "execution_count": 32
        }
      ]
    },
    {
      "cell_type": "code",
      "metadata": {
        "colab": {
          "base_uri": "https://localhost:8080/"
        },
        "id": "B4PGhiRY-UNV",
        "outputId": "f9de0345-78f9-48b1-da67-689f8ec09837"
      },
      "source": [
        "[[0] * i for i in num]"
      ],
      "execution_count": 35,
      "outputs": [
        {
          "output_type": "execute_result",
          "data": {
            "text/plain": [
              "[[0, 0, 0], [0], [0, 0, 0], [0, 0], [0, 0, 0, 0, 0]]"
            ]
          },
          "metadata": {
            "tags": []
          },
          "execution_count": 35
        }
      ]
    },
    {
      "cell_type": "markdown",
      "metadata": {
        "id": "l5RSwKwo-5Q1"
      },
      "source": [
        "## 23.3 2차원 리스트의 할당과 복사"
      ]
    },
    {
      "cell_type": "code",
      "metadata": {
        "colab": {
          "base_uri": "https://localhost:8080/"
        },
        "id": "e9mjAPPz-e6N",
        "outputId": "cd8e23ff-8a16-4dcd-b2ab-ae40fe6e1ef9"
      },
      "source": [
        "a = [[10, 20], [30, 40]]\n",
        "b = a  # 각각의 행들의 reference만 복사하니까 같은 객체를 포인팅한다\n",
        "b[0][0] = 500\n",
        "print(a)\n",
        "print(b)"
      ],
      "execution_count": 39,
      "outputs": [
        {
          "output_type": "stream",
          "text": [
            "[[500, 20], [30, 40]]\n",
            "[[500, 20], [30, 40]]\n"
          ],
          "name": "stdout"
        }
      ]
    },
    {
      "cell_type": "code",
      "metadata": {
        "colab": {
          "base_uri": "https://localhost:8080/"
        },
        "id": "cyUqYDrx_L97",
        "outputId": "27edbdcb-7a27-4c66-d100-9f85a8ddbf4d"
      },
      "source": [
        "# 2차원일 경우에는 deepcopy를 사용해야 한다. 리스트안에 또 다시 리스트가 있으니까 한번만 copy해서는 안된다\n",
        "a = [[10, 20], [30, 40]]\n",
        "import copy\n",
        "b = copy.deepcopy(a)\n",
        "b[0][0] = 500\n",
        "print(a)\n",
        "print(b)"
      ],
      "execution_count": 38,
      "outputs": [
        {
          "output_type": "stream",
          "text": [
            "[[10, 20], [30, 40]]\n",
            "[[500, 20], [30, 40]]\n"
          ],
          "name": "stdout"
        }
      ]
    },
    {
      "cell_type": "code",
      "metadata": {
        "id": "_CUsMBmIAWU7"
      },
      "source": [
        ""
      ],
      "execution_count": null,
      "outputs": []
    }
  ]
}