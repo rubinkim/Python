{
  "nbformat": 4,
  "nbformat_minor": 0,
  "metadata": {
    "colab": {
      "name": "u26_세트.ipynb",
      "provenance": [],
      "collapsed_sections": []
    },
    "kernelspec": {
      "name": "python3",
      "display_name": "Python 3"
    },
    "language_info": {
      "name": "python"
    }
  },
  "cells": [
    {
      "cell_type": "markdown",
      "metadata": {
        "id": "owvxSIKz3uzZ"
      },
      "source": [
        "# Unit26. 세트(집합)"
      ]
    },
    {
      "cell_type": "markdown",
      "metadata": {
        "id": "l75_q2535bzm"
      },
      "source": [
        "## 26.1 생성"
      ]
    },
    {
      "cell_type": "code",
      "metadata": {
        "colab": {
          "base_uri": "https://localhost:8080/"
        },
        "id": "SYt7WV2a3qY4",
        "outputId": "c025c73c-9e2d-4950-aa3e-2cde615242a7"
      },
      "source": [
        "fruits = {'apple', 'cherry', 'grape', 'orange', 'banana'}\n",
        "fruits      # 순서가 없다"
      ],
      "execution_count": 4,
      "outputs": [
        {
          "output_type": "execute_result",
          "data": {
            "text/plain": [
              "{'apple', 'banana', 'cherry', 'grape', 'orange'}"
            ]
          },
          "metadata": {
            "tags": []
          },
          "execution_count": 4
        }
      ]
    },
    {
      "cell_type": "code",
      "metadata": {
        "colab": {
          "base_uri": "https://localhost:8080/"
        },
        "id": "x8u_D41L4Ifz",
        "outputId": "8b055f85-e297-4379-a94c-a6c2cb3e570c"
      },
      "source": [
        "type(fruits)"
      ],
      "execution_count": 2,
      "outputs": [
        {
          "output_type": "execute_result",
          "data": {
            "text/plain": [
              "set"
            ]
          },
          "metadata": {
            "tags": []
          },
          "execution_count": 2
        }
      ]
    },
    {
      "cell_type": "code",
      "metadata": {
        "id": "738GxUZL4MPk"
      },
      "source": [
        "a = {}   # 딕셔너리지 세트가 아니다"
      ],
      "execution_count": 3,
      "outputs": []
    },
    {
      "cell_type": "code",
      "metadata": {
        "colab": {
          "base_uri": "https://localhost:8080/"
        },
        "id": "NZ3AxCzh4X06",
        "outputId": "009542f8-4c46-478d-ffc6-fa781d91e0c0"
      },
      "source": [
        "fruits = {'apple', 'cherry', 'grape', 'orange', 'banana', 'apple'}\n",
        "fruits     # 중복이 안된다"
      ],
      "execution_count": 6,
      "outputs": [
        {
          "output_type": "execute_result",
          "data": {
            "text/plain": [
              "{'apple', 'banana', 'cherry', 'grape', 'orange'}"
            ]
          },
          "metadata": {
            "tags": []
          },
          "execution_count": 6
        }
      ]
    },
    {
      "cell_type": "code",
      "metadata": {
        "colab": {
          "base_uri": "https://localhost:8080/"
        },
        "id": "2P6lKV_B4r5t",
        "outputId": "65c2d11a-bf3f-48eb-8464-ec792535a765"
      },
      "source": [
        "'peach' in fruits"
      ],
      "execution_count": 7,
      "outputs": [
        {
          "output_type": "execute_result",
          "data": {
            "text/plain": [
              "False"
            ]
          },
          "metadata": {
            "tags": []
          },
          "execution_count": 7
        }
      ]
    },
    {
      "cell_type": "code",
      "metadata": {
        "colab": {
          "base_uri": "https://localhost:8080/"
        },
        "id": "R_oOGu554wPo",
        "outputId": "fa9d3570-4e14-4e33-b9bf-5a2b1b8fe9c9"
      },
      "source": [
        "'orange' in fruits, 'strawberry' not in fruits"
      ],
      "execution_count": 10,
      "outputs": [
        {
          "output_type": "execute_result",
          "data": {
            "text/plain": [
              "(True, True)"
            ]
          },
          "metadata": {
            "tags": []
          },
          "execution_count": 10
        }
      ]
    },
    {
      "cell_type": "code",
      "metadata": {
        "colab": {
          "base_uri": "https://localhost:8080/"
        },
        "id": "W1Nw0X2c4x-o",
        "outputId": "7bd1db3a-5ff9-4b08-bbb9-97194fe32823"
      },
      "source": [
        "a = set('apple')\n",
        "a"
      ],
      "execution_count": 11,
      "outputs": [
        {
          "output_type": "execute_result",
          "data": {
            "text/plain": [
              "{'a', 'e', 'l', 'p'}"
            ]
          },
          "metadata": {
            "tags": []
          },
          "execution_count": 11
        }
      ]
    },
    {
      "cell_type": "code",
      "metadata": {
        "colab": {
          "base_uri": "https://localhost:8080/"
        },
        "id": "9M0i21X35Mt2",
        "outputId": "3116ecfc-5ce6-4153-946b-476201d6cc54"
      },
      "source": [
        "set('안녕하세요')"
      ],
      "execution_count": 12,
      "outputs": [
        {
          "output_type": "execute_result",
          "data": {
            "text/plain": [
              "{'녕', '세', '안', '요', '하'}"
            ]
          },
          "metadata": {
            "tags": []
          },
          "execution_count": 12
        }
      ]
    },
    {
      "cell_type": "code",
      "metadata": {
        "colab": {
          "base_uri": "https://localhost:8080/"
        },
        "id": "IXaDGkaA5QOJ",
        "outputId": "124043f3-d485-4ffc-ed77-ba626c53eca9"
      },
      "source": [
        "a = set(['apple', 'cherry', 'grape', 'orange', 'banana'])\n",
        "a"
      ],
      "execution_count": 13,
      "outputs": [
        {
          "output_type": "execute_result",
          "data": {
            "text/plain": [
              "{'apple', 'banana', 'cherry', 'grape', 'orange'}"
            ]
          },
          "metadata": {
            "tags": []
          },
          "execution_count": 13
        }
      ]
    },
    {
      "cell_type": "markdown",
      "metadata": {
        "id": "gI-oNepp5WoM"
      },
      "source": [
        "## 26.2 연산\n"
      ]
    },
    {
      "cell_type": "code",
      "metadata": {
        "colab": {
          "base_uri": "https://localhost:8080/"
        },
        "id": "JR8AQ8sF5iL3",
        "outputId": "de9d6f57-c2c3-4f65-8e92-ed710fddd7dc"
      },
      "source": [
        "a = set(range(4))\n",
        "b = set(range(2,6))\n",
        "a, b"
      ],
      "execution_count": 16,
      "outputs": [
        {
          "output_type": "execute_result",
          "data": {
            "text/plain": [
              "({0, 1, 2, 3}, {2, 3, 4, 5})"
            ]
          },
          "metadata": {
            "tags": []
          },
          "execution_count": 16
        }
      ]
    },
    {
      "cell_type": "code",
      "metadata": {
        "colab": {
          "base_uri": "https://localhost:8080/"
        },
        "id": "ER_rMphh5v-z",
        "outputId": "ab761469-fd91-4481-88ca-f042e0310949"
      },
      "source": [
        "# 합집합(union)\n",
        "a | b,  a.union(b), set.union(a, b)"
      ],
      "execution_count": 20,
      "outputs": [
        {
          "output_type": "execute_result",
          "data": {
            "text/plain": [
              "({0, 1, 2, 3, 4, 5}, {0, 1, 2, 3, 4, 5}, {0, 1, 2, 3, 4, 5})"
            ]
          },
          "metadata": {
            "tags": []
          },
          "execution_count": 20
        }
      ]
    },
    {
      "cell_type": "code",
      "metadata": {
        "colab": {
          "base_uri": "https://localhost:8080/"
        },
        "id": "N7O5G0gI58o_",
        "outputId": "ce1c54ef-5743-439b-f852-b2270bd1dfef"
      },
      "source": [
        "# 교집합(intersection)\n",
        "a & b, a.intersection(b), set.intersection(a, b)"
      ],
      "execution_count": 22,
      "outputs": [
        {
          "output_type": "execute_result",
          "data": {
            "text/plain": [
              "({2, 3}, {2, 3}, {2, 3})"
            ]
          },
          "metadata": {
            "tags": []
          },
          "execution_count": 22
        }
      ]
    },
    {
      "cell_type": "code",
      "metadata": {
        "colab": {
          "base_uri": "https://localhost:8080/"
        },
        "id": "DByRWC_N6T2X",
        "outputId": "677174b2-3ae8-4df0-c8d0-3f92a6a6ffb9"
      },
      "source": [
        "# 차집합\n",
        "a - b, a.difference(b), set.difference(a, b)"
      ],
      "execution_count": 25,
      "outputs": [
        {
          "output_type": "execute_result",
          "data": {
            "text/plain": [
              "({0, 1}, {0, 1}, {0, 1})"
            ]
          },
          "metadata": {
            "tags": []
          },
          "execution_count": 25
        }
      ]
    },
    {
      "cell_type": "code",
      "metadata": {
        "colab": {
          "base_uri": "https://localhost:8080/"
        },
        "id": "fJAoiV7W6oMM",
        "outputId": "04f834b3-f9b7-4163-f8aa-0364f2bb2a6c"
      },
      "source": [
        "# 대칭차집합(symmetric difference)\n",
        "a^b,  a.symmetric_difference(b), set.symmetric_difference(a, b)"
      ],
      "execution_count": 26,
      "outputs": [
        {
          "output_type": "execute_result",
          "data": {
            "text/plain": [
              "({0, 1, 4, 5}, {0, 1, 4, 5}, {0, 1, 4, 5})"
            ]
          },
          "metadata": {
            "tags": []
          },
          "execution_count": 26
        }
      ]
    },
    {
      "cell_type": "markdown",
      "metadata": {
        "id": "NErKB5IE7S_g"
      },
      "source": [
        "### 부분집합, 상위집합"
      ]
    },
    {
      "cell_type": "code",
      "metadata": {
        "colab": {
          "base_uri": "https://localhost:8080/"
        },
        "id": "a2aVkFXA66MG",
        "outputId": "a0e05d8c-e909-4284-c7eb-6a9db46ca377"
      },
      "source": [
        "a <= {0, 1, 2, 3}"
      ],
      "execution_count": 27,
      "outputs": [
        {
          "output_type": "execute_result",
          "data": {
            "text/plain": [
              "True"
            ]
          },
          "metadata": {
            "tags": []
          },
          "execution_count": 27
        }
      ]
    },
    {
      "cell_type": "code",
      "metadata": {
        "colab": {
          "base_uri": "https://localhost:8080/"
        },
        "id": "tjGR-iD37iO7",
        "outputId": "750aa876-4988-437a-8d44-a5ecc9171e6f"
      },
      "source": [
        "a.issubset({0,2,1,5,3,4})"
      ],
      "execution_count": 28,
      "outputs": [
        {
          "output_type": "execute_result",
          "data": {
            "text/plain": [
              "True"
            ]
          },
          "metadata": {
            "tags": []
          },
          "execution_count": 28
        }
      ]
    },
    {
      "cell_type": "code",
      "metadata": {
        "colab": {
          "base_uri": "https://localhost:8080/"
        },
        "id": "t5thuQC87oRY",
        "outputId": "308524df-9a63-4547-a349-9ab361a203a0"
      },
      "source": [
        "a >= {1,2,3}\n"
      ],
      "execution_count": 29,
      "outputs": [
        {
          "output_type": "execute_result",
          "data": {
            "text/plain": [
              "True"
            ]
          },
          "metadata": {
            "tags": []
          },
          "execution_count": 29
        }
      ]
    },
    {
      "cell_type": "code",
      "metadata": {
        "colab": {
          "base_uri": "https://localhost:8080/"
        },
        "id": "wOPxNqGX70yw",
        "outputId": "0767b5ac-e89f-44e4-c8d3-da08fa6a5249"
      },
      "source": [
        "a.issuperset({1,3})"
      ],
      "execution_count": 31,
      "outputs": [
        {
          "output_type": "execute_result",
          "data": {
            "text/plain": [
              "True"
            ]
          },
          "metadata": {
            "tags": []
          },
          "execution_count": 31
        }
      ]
    },
    {
      "cell_type": "markdown",
      "metadata": {
        "id": "rXKoey2R7-hu"
      },
      "source": [
        "### 값 비교"
      ]
    },
    {
      "cell_type": "code",
      "metadata": {
        "colab": {
          "base_uri": "https://localhost:8080/"
        },
        "id": "oIXctflz749j",
        "outputId": "ea71b2ea-1b46-436e-fb05-58f8a2f1d56d"
      },
      "source": [
        "a == {3,1,0,2}"
      ],
      "execution_count": 32,
      "outputs": [
        {
          "output_type": "execute_result",
          "data": {
            "text/plain": [
              "True"
            ]
          },
          "metadata": {
            "tags": []
          },
          "execution_count": 32
        }
      ]
    },
    {
      "cell_type": "code",
      "metadata": {
        "colab": {
          "base_uri": "https://localhost:8080/"
        },
        "id": "0Mpq7QtQ8GAb",
        "outputId": "c432ad39-44f3-4bd7-a4be-a4094a16d66c"
      },
      "source": [
        "a.isdisjoint(b)"
      ],
      "execution_count": 33,
      "outputs": [
        {
          "output_type": "execute_result",
          "data": {
            "text/plain": [
              "False"
            ]
          },
          "metadata": {
            "tags": []
          },
          "execution_count": 33
        }
      ]
    },
    {
      "cell_type": "code",
      "metadata": {
        "colab": {
          "base_uri": "https://localhost:8080/"
        },
        "id": "SBpSQE3A8O-W",
        "outputId": "dd69e689-f96c-4e96-d5c9-3f79c162ba15"
      },
      "source": [
        "a.isdisjoint({4,6,5,8,7})"
      ],
      "execution_count": 36,
      "outputs": [
        {
          "output_type": "execute_result",
          "data": {
            "text/plain": [
              "True"
            ]
          },
          "metadata": {
            "tags": []
          },
          "execution_count": 36
        }
      ]
    },
    {
      "cell_type": "markdown",
      "metadata": {
        "id": "DEtq3qaK8vd5"
      },
      "source": [
        "## 26.3 세트 조작"
      ]
    },
    {
      "cell_type": "code",
      "metadata": {
        "colab": {
          "base_uri": "https://localhost:8080/"
        },
        "id": "dApKn_7F8lYA",
        "outputId": "b94e5d2f-b0bf-47ab-f6fb-9fe24b49e976"
      },
      "source": [
        "a = {3,8,0,1,7}\n",
        "a.add(4)\n",
        "a"
      ],
      "execution_count": 48,
      "outputs": [
        {
          "output_type": "execute_result",
          "data": {
            "text/plain": [
              "{0, 1, 3, 4, 7, 8}"
            ]
          },
          "metadata": {
            "tags": []
          },
          "execution_count": 48
        }
      ]
    },
    {
      "cell_type": "code",
      "metadata": {
        "id": "CHRwbmxg83Ah"
      },
      "source": [
        "a.remove(4)"
      ],
      "execution_count": 49,
      "outputs": []
    },
    {
      "cell_type": "code",
      "metadata": {
        "colab": {
          "base_uri": "https://localhost:8080/"
        },
        "id": "umtQlhmo89qO",
        "outputId": "dfc22898-8a81-4b7d-a2a4-230bbfd69308"
      },
      "source": [
        "a"
      ],
      "execution_count": 50,
      "outputs": [
        {
          "output_type": "execute_result",
          "data": {
            "text/plain": [
              "{0, 1, 3, 7, 8}"
            ]
          },
          "metadata": {
            "tags": []
          },
          "execution_count": 50
        }
      ]
    },
    {
      "cell_type": "code",
      "metadata": {
        "colab": {
          "base_uri": "https://localhost:8080/"
        },
        "id": "Y7UWMOa18-ae",
        "outputId": "20e61c03-dd84-40ee-aab5-8698af1e4547"
      },
      "source": [
        "# 임의의 원소 삭제하기\n",
        "a.pop()"
      ],
      "execution_count": 51,
      "outputs": [
        {
          "output_type": "execute_result",
          "data": {
            "text/plain": [
              "0"
            ]
          },
          "metadata": {
            "tags": []
          },
          "execution_count": 51
        }
      ]
    },
    {
      "cell_type": "code",
      "metadata": {
        "colab": {
          "base_uri": "https://localhost:8080/"
        },
        "id": "t2e7Qrl79FHK",
        "outputId": "83f12e79-98d6-4cbd-8a75-d52bf87c304e"
      },
      "source": [
        "a"
      ],
      "execution_count": 42,
      "outputs": [
        {
          "output_type": "execute_result",
          "data": {
            "text/plain": [
              "{1, 2, 3}"
            ]
          },
          "metadata": {
            "tags": []
          },
          "execution_count": 42
        }
      ]
    },
    {
      "cell_type": "code",
      "metadata": {
        "colab": {
          "base_uri": "https://localhost:8080/"
        },
        "id": "GKXcOO3j9Frg",
        "outputId": "f990071e-2c34-4adc-d9d8-6b597b2894d5"
      },
      "source": [
        "len(a)"
      ],
      "execution_count": 43,
      "outputs": [
        {
          "output_type": "execute_result",
          "data": {
            "text/plain": [
              "3"
            ]
          },
          "metadata": {
            "tags": []
          },
          "execution_count": 43
        }
      ]
    }
  ]
}