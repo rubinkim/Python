{
  "nbformat": 4,
  "nbformat_minor": 2,
  "metadata": {
    "colab": {
      "name": "u12_딕셔너리.ipynb",
      "provenance": [],
      "collapsed_sections": []
    },
    "kernelspec": {
      "name": "python3",
      "display_name": "Python 3"
    },
    "language_info": {
      "name": "python"
    }
  },
  "cells": [
    {
      "cell_type": "markdown",
      "source": [
        "# Unit 12. 딕셔너리(Dictionary)"
      ],
      "metadata": {
        "id": "vG1MErk5RkdY"
      }
    },
    {
      "cell_type": "code",
      "execution_count": 1,
      "source": [
        "lux = [490, 334, 550, 18.72]\r\n",
        "lux"
      ],
      "outputs": [
        {
          "output_type": "execute_result",
          "data": {
            "text/plain": [
              "[490, 334, 550, 18.72]"
            ]
          },
          "metadata": {
            "tags": []
          },
          "execution_count": 1
        }
      ],
      "metadata": {
        "colab": {
          "base_uri": "https://localhost:8080/"
        },
        "id": "glOJzcc9ReOg",
        "outputId": "7c390901-873d-49a7-e04f-849b9384320d"
      }
    },
    {
      "cell_type": "code",
      "execution_count": 2,
      "source": [
        "lux = {               # indentation과 관계가 없다\r\n",
        "    'health':490,      # 체력\r\n",
        "    'mana':334,        # 마력\r\n",
        "    'melee':550,       # 사거리\r\n",
        "    'armor':18.72      # 방어력\r\n",
        "}\r\n",
        "lux"
      ],
      "outputs": [
        {
          "output_type": "execute_result",
          "data": {
            "text/plain": [
              "{'armor': 18.72, 'health': 490, 'mana': 334, 'melee': 550}"
            ]
          },
          "metadata": {
            "tags": []
          },
          "execution_count": 2
        }
      ],
      "metadata": {
        "colab": {
          "base_uri": "https://localhost:8080/"
        },
        "id": "jBCMixJlSCTw",
        "outputId": "121ce866-7bab-4c1c-beca-a1a833e0be97"
      }
    },
    {
      "cell_type": "code",
      "execution_count": 3,
      "source": [
        "lux.get('health', 500)"
      ],
      "outputs": [
        {
          "output_type": "execute_result",
          "data": {
            "text/plain": [
              "490"
            ]
          },
          "metadata": {
            "tags": []
          },
          "execution_count": 3
        }
      ],
      "metadata": {
        "colab": {
          "base_uri": "https://localhost:8080/"
        },
        "id": "1oz6J7ehSl2A",
        "outputId": "3c534bf3-78ca-4e0a-e094-5ad1dda8a868"
      }
    },
    {
      "cell_type": "markdown",
      "source": [
        "## 12.1 딕셔너리 생성"
      ],
      "metadata": {
        "id": "PAnjddqnSo0b"
      }
    },
    {
      "cell_type": "code",
      "execution_count": 6,
      "source": [
        "lux = {'health':490, 'mana':334, 'melee':550, 'health':800, 'armor':18.72}\r\n",
        "lux"
      ],
      "outputs": [
        {
          "output_type": "execute_result",
          "data": {
            "text/plain": [
              "{'armor': 18.72, 'health': 800, 'mana': 334, 'melee': 550}"
            ]
          },
          "metadata": {
            "tags": []
          },
          "execution_count": 6
        }
      ],
      "metadata": {
        "colab": {
          "base_uri": "https://localhost:8080/"
        },
        "id": "VpoV3Im2UGNC",
        "outputId": "d38e868d-fa85-4e76-cb1c-a9250c31030a"
      }
    },
    {
      "cell_type": "code",
      "execution_count": 4,
      "source": [
        "a = {}\r\n",
        "b = dict()\r\n",
        "a, b"
      ],
      "outputs": [
        {
          "output_type": "execute_result",
          "data": {
            "text/plain": [
              "({}, {})"
            ]
          },
          "metadata": {
            "tags": []
          },
          "execution_count": 4
        }
      ],
      "metadata": {
        "colab": {
          "base_uri": "https://localhost:8080/"
        },
        "id": "9AVh81_3Tzia",
        "outputId": "459ab348-9c9d-481e-e8f0-3d999ad180d4"
      }
    },
    {
      "cell_type": "code",
      "execution_count": 9,
      "source": [
        "a = set((1,2,3)) # set을 만들때는 {} 사용하지 말고 set()이용해라.\r\n",
        "a"
      ],
      "outputs": [
        {
          "output_type": "execute_result",
          "data": {
            "text/plain": [
              "{1, 2, 3}"
            ]
          },
          "metadata": {
            "tags": []
          },
          "execution_count": 9
        }
      ],
      "metadata": {
        "colab": {
          "base_uri": "https://localhost:8080/"
        },
        "id": "f15b-CmzUDdP",
        "outputId": "ff66df85-2af6-4542-bdd3-097fd2978c28"
      }
    },
    {
      "cell_type": "code",
      "execution_count": 10,
      "source": [
        "a = ['a', 'b', 'c', 'd']\r\n",
        "b = [1,2,3,4]\r\n",
        "zip(a, b)"
      ],
      "outputs": [
        {
          "output_type": "execute_result",
          "data": {
            "text/plain": [
              "<zip at 0x7fb06ae7bb40>"
            ]
          },
          "metadata": {
            "tags": []
          },
          "execution_count": 10
        }
      ],
      "metadata": {
        "colab": {
          "base_uri": "https://localhost:8080/"
        },
        "id": "3BXdcHaIVDIM",
        "outputId": "071beaad-721d-4b7c-f5da-ba7ea4485976"
      }
    },
    {
      "cell_type": "code",
      "execution_count": 11,
      "source": [
        "dict(zip(a, b))"
      ],
      "outputs": [
        {
          "output_type": "execute_result",
          "data": {
            "text/plain": [
              "{'a': 1, 'b': 2, 'c': 3, 'd': 4}"
            ]
          },
          "metadata": {
            "tags": []
          },
          "execution_count": 11
        }
      ],
      "metadata": {
        "colab": {
          "base_uri": "https://localhost:8080/"
        },
        "id": "nXSDltOmVgMn",
        "outputId": "07f4395a-8070-4b20-ff67-4f4eaeef90d9"
      }
    },
    {
      "cell_type": "code",
      "execution_count": 13,
      "source": [
        "lux['mana'], lux.get('mana', None), lux.get('blood_pressure', None)  # lux.mana not allowed, pd.DataFrame에서는 allowed"
      ],
      "outputs": [
        {
          "output_type": "execute_result",
          "data": {
            "text/plain": [
              "(334, 334, None)"
            ]
          },
          "metadata": {
            "tags": []
          },
          "execution_count": 13
        }
      ],
      "metadata": {
        "colab": {
          "base_uri": "https://localhost:8080/"
        },
        "id": "qdT986JRVmk5",
        "outputId": "2638d07b-735d-4a12-e48f-8b5e3d24e958"
      }
    },
    {
      "cell_type": "code",
      "execution_count": 14,
      "source": [
        "lux['new'] = 10\r\n",
        "lux"
      ],
      "outputs": [
        {
          "output_type": "execute_result",
          "data": {
            "text/plain": [
              "{'armor': 18.72, 'health': 800, 'mana': 334, 'melee': 550, 'new': 10}"
            ]
          },
          "metadata": {
            "tags": []
          },
          "execution_count": 14
        }
      ],
      "metadata": {
        "colab": {
          "base_uri": "https://localhost:8080/"
        },
        "id": "DYnx0btCWO6P",
        "outputId": "d5059246-a65f-43b1-ec62-fccaae607a80"
      }
    },
    {
      "cell_type": "code",
      "execution_count": 15,
      "source": [
        "'mana' in lux"
      ],
      "outputs": [
        {
          "output_type": "execute_result",
          "data": {
            "text/plain": [
              "True"
            ]
          },
          "metadata": {
            "tags": []
          },
          "execution_count": 15
        }
      ],
      "metadata": {
        "colab": {
          "base_uri": "https://localhost:8080/"
        },
        "id": "PArZ_ebZXMPc",
        "outputId": "a71d98a9-b575-4b96-a5da-c05b9a8e7e9a"
      }
    },
    {
      "cell_type": "code",
      "execution_count": 17,
      "source": [
        "# 'mana' 항목이 존재하면 기존값 + 100, 없으면 50으로 할당해라.\r\n",
        "d = {}\r\n",
        "e = {'mana':150}\r\n",
        "if 'mana' in e:\r\n",
        "  e['mana'] += 100\r\n",
        "else:\r\n",
        "  e['mana'] = 50\r\n",
        "e"
      ],
      "outputs": [
        {
          "output_type": "execute_result",
          "data": {
            "text/plain": [
              "{'mana': 250}"
            ]
          },
          "metadata": {
            "tags": []
          },
          "execution_count": 17
        }
      ],
      "metadata": {
        "colab": {
          "base_uri": "https://localhost:8080/"
        },
        "id": "jKveW2fFYD6L",
        "outputId": "f708845f-e64e-4d48-9919-5af1f7500897"
      }
    },
    {
      "cell_type": "markdown",
      "source": [
        "### 딕셔너리 키의 갯수"
      ],
      "metadata": {
        "id": "uIoxsZ_nZOda"
      }
    },
    {
      "cell_type": "code",
      "execution_count": 18,
      "source": [
        "len(lux)"
      ],
      "outputs": [
        {
          "output_type": "execute_result",
          "data": {
            "text/plain": [
              "5"
            ]
          },
          "metadata": {
            "tags": []
          },
          "execution_count": 18
        }
      ],
      "metadata": {
        "colab": {
          "base_uri": "https://localhost:8080/"
        },
        "id": "-v3V-6ubYz_t",
        "outputId": "67d33a2e-6c04-444d-f1e3-486683922add"
      }
    },
    {
      "cell_type": "code",
      "execution_count": 19,
      "source": [
        "type(lux), type(lux['armor'])"
      ],
      "outputs": [
        {
          "output_type": "execute_result",
          "data": {
            "text/plain": [
              "(dict, float)"
            ]
          },
          "metadata": {
            "tags": []
          },
          "execution_count": 19
        }
      ],
      "metadata": {
        "colab": {
          "base_uri": "https://localhost:8080/"
        },
        "id": "u9SKu-DJZUXB",
        "outputId": "200444d4-eea5-488c-8b05-a91f8e1bbdb5"
      }
    },
    {
      "cell_type": "code",
      "execution_count": 21,
      "source": [
        "lux.keys(), lux.items() # 딕셔너리를 이용해서 반복문을 쓰려면 sequence가 필요한데, 이두개는 sequence이므로 이걸 이용해서 한다"
      ],
      "outputs": [
        {
          "output_type": "execute_result",
          "data": {
            "text/plain": [
              "(dict_keys(['health', 'mana', 'melee', 'armor', 'new']),\n",
              " dict_items([('health', 800), ('mana', 334), ('melee', 550), ('armor', 18.72), ('new', 10)]))"
            ]
          },
          "metadata": {
            "tags": []
          },
          "execution_count": 21
        }
      ],
      "metadata": {
        "colab": {
          "base_uri": "https://localhost:8080/"
        },
        "id": "XeSGjLFIZ_bj",
        "outputId": "5866fe15-2491-4f7b-e9bc-95b381f44bcb"
      }
    },
    {
      "cell_type": "code",
      "execution_count": 22,
      "source": [
        "for key in lux.keys():\r\n",
        "  print(f'{key} : {lux[key]}')"
      ],
      "outputs": [
        {
          "output_type": "stream",
          "name": "stdout",
          "text": [
            "health : 800\n",
            "mana : 334\n",
            "melee : 550\n",
            "armor : 18.72\n",
            "new : 10\n"
          ]
        }
      ],
      "metadata": {
        "colab": {
          "base_uri": "https://localhost:8080/"
        },
        "id": "xKGdBK-ia4af",
        "outputId": "530dcf2d-27a2-4ddf-a79f-98eb3cd4eab5"
      }
    },
    {
      "cell_type": "code",
      "execution_count": 23,
      "source": [
        "for key, val in lux.items():\r\n",
        "  print(f'{key} : {val}')"
      ],
      "outputs": [
        {
          "output_type": "stream",
          "name": "stdout",
          "text": [
            "health : 800\n",
            "mana : 334\n",
            "melee : 550\n",
            "armor : 18.72\n",
            "new : 10\n"
          ]
        }
      ],
      "metadata": {
        "colab": {
          "base_uri": "https://localhost:8080/"
        },
        "id": "0YVSPw6abKQS",
        "outputId": "154c3060-b043-4292-8e49-5e8c5382165f"
      }
    },
    {
      "cell_type": "markdown",
      "source": [
        "### 질문에 대한 답"
      ],
      "metadata": {
        "id": "foQwXYBEfPyn"
      }
    },
    {
      "cell_type": "code",
      "execution_count": 26,
      "source": [
        "# 'mana' 항목이 존재하면 기존값 + 100, 없으면 50으로 할당해라.\r\n",
        "e = {}\r\n",
        "d = {'mana':150}\r\n",
        "for item in [d,e]:\r\n",
        "  if 'mana' in item:\r\n",
        "    item['mana'] += 100\r\n",
        "  else:\r\n",
        "    item['mana'] = 50\r\n",
        "d, e"
      ],
      "outputs": [
        {
          "output_type": "execute_result",
          "data": {
            "text/plain": [
              "({'mana': 250}, {'mana': 50})"
            ]
          },
          "metadata": {
            "tags": []
          },
          "execution_count": 26
        }
      ],
      "metadata": {
        "colab": {
          "base_uri": "https://localhost:8080/"
        },
        "id": "582W7EPfbSh_",
        "outputId": "3edad4b3-cb20-426f-b6c9-7896940aa17d"
      }
    },
    {
      "cell_type": "code",
      "execution_count": null,
      "source": [],
      "outputs": [],
      "metadata": {}
    }
  ]
}