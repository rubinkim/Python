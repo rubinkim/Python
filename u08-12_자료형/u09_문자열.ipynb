{
  "nbformat": 4,
  "nbformat_minor": 0,
  "metadata": {
    "colab": {
      "name": "u09_문자열.ipynb",
      "provenance": [],
      "collapsed_sections": []
    },
    "kernelspec": {
      "name": "python3",
      "display_name": "Python 3"
    },
    "language_info": {
      "name": "python"
    }
  },
  "cells": [
    {
      "cell_type": "markdown",
      "metadata": {
        "id": "MfpfkSNKb2kL"
      },
      "source": [
        "# Unit 9. 문자열"
      ]
    },
    {
      "cell_type": "code",
      "metadata": {
        "colab": {
          "base_uri": "https://localhost:8080/"
        },
        "id": "zDYEfQzXb7zq",
        "outputId": "1fa94530-dc15-48b0-c77c-c7213495969e"
      },
      "source": [
        "hello = 'Hello, world!'\n",
        "hello2 = \"Hello, world!\" # single quote와 double quote는 같다.\n",
        "hello, hello2"
      ],
      "execution_count": 1,
      "outputs": [
        {
          "output_type": "execute_result",
          "data": {
            "text/plain": [
              "('Hello, world!', 'Hello, world!')"
            ]
          },
          "metadata": {
            "tags": []
          },
          "execution_count": 1
        }
      ]
    },
    {
      "cell_type": "code",
      "metadata": {
        "colab": {
          "base_uri": "https://localhost:8080/",
          "height": 36
        },
        "id": "XMz7FpMXc5YS",
        "outputId": "ad7b5920-ac68-47e1-cf51-a925175dc995"
      },
      "source": [
        "multiline = '''Hello!\n",
        "World!''' # 여러줄 되있는것은 이렇게 한다\n",
        "multiline"
      ],
      "execution_count": 2,
      "outputs": [
        {
          "output_type": "execute_result",
          "data": {
            "application/vnd.google.colaboratory.intrinsic+json": {
              "type": "string"
            },
            "text/plain": [
              "'Hello!\\nWorld!'"
            ]
          },
          "metadata": {
            "tags": []
          },
          "execution_count": 2
        }
      ]
    },
    {
      "cell_type": "code",
      "metadata": {
        "colab": {
          "base_uri": "https://localhost:8080/",
          "height": 36
        },
        "id": "dY7lh8-EdcPP",
        "outputId": "f64f0410-a289-43f3-873c-01fd8ee969bd"
      },
      "source": [
        "multi = 'Hello\\nWorld!'\n",
        "multi"
      ],
      "execution_count": 3,
      "outputs": [
        {
          "output_type": "execute_result",
          "data": {
            "application/vnd.google.colaboratory.intrinsic+json": {
              "type": "string"
            },
            "text/plain": [
              "'Hello\\nWorld!'"
            ]
          },
          "metadata": {
            "tags": []
          },
          "execution_count": 3
        }
      ]
    },
    {
      "cell_type": "code",
      "metadata": {
        "colab": {
          "base_uri": "https://localhost:8080/"
        },
        "id": "l_DxepUKdz0l",
        "outputId": "6606e542-7df0-412c-8e68-5444704b0514"
      },
      "source": [
        "print(multi)"
      ],
      "execution_count": 4,
      "outputs": [
        {
          "output_type": "stream",
          "text": [
            "Hello\n",
            "World!\n"
          ],
          "name": "stdout"
        }
      ]
    },
    {
      "cell_type": "code",
      "metadata": {
        "colab": {
          "base_uri": "https://localhost:8080/",
          "height": 36
        },
        "id": "42GWUh1od2GJ",
        "outputId": "e8c728a4-7fb9-43c7-bfd1-b934c54c0f16"
      },
      "source": [
        "repr(multi)"
      ],
      "execution_count": 5,
      "outputs": [
        {
          "output_type": "execute_result",
          "data": {
            "application/vnd.google.colaboratory.intrinsic+json": {
              "type": "string"
            },
            "text/plain": [
              "\"'Hello\\\\nWorld!'\""
            ]
          },
          "metadata": {
            "tags": []
          },
          "execution_count": 5
        }
      ]
    },
    {
      "cell_type": "code",
      "metadata": {
        "colab": {
          "base_uri": "https://localhost:8080/",
          "height": 36
        },
        "id": "IjUpHRYud6IO",
        "outputId": "493aa0a9-dce4-4200-c46a-afe9eb186d38"
      },
      "source": [
        "s = \"Python isn't difficult.\"\n",
        "s"
      ],
      "execution_count": 6,
      "outputs": [
        {
          "output_type": "execute_result",
          "data": {
            "application/vnd.google.colaboratory.intrinsic+json": {
              "type": "string"
            },
            "text/plain": [
              "\"Python isn't difficult.\""
            ]
          },
          "metadata": {
            "tags": []
          },
          "execution_count": 6
        }
      ]
    },
    {
      "cell_type": "code",
      "metadata": {
        "colab": {
          "base_uri": "https://localhost:8080/",
          "height": 36
        },
        "id": "j-KGtzyXebwN",
        "outputId": "52366c59-f618-48d4-b542-aabe4e9fcb64"
      },
      "source": [
        "s = 'Alice said \"I love you.\"'\n",
        "s"
      ],
      "execution_count": 7,
      "outputs": [
        {
          "output_type": "execute_result",
          "data": {
            "application/vnd.google.colaboratory.intrinsic+json": {
              "type": "string"
            },
            "text/plain": [
              "'Alice said \"I love you.\"'"
            ]
          },
          "metadata": {
            "tags": []
          },
          "execution_count": 7
        }
      ]
    },
    {
      "cell_type": "code",
      "metadata": {
        "colab": {
          "base_uri": "https://localhost:8080/",
          "height": 36
        },
        "id": "OMtVis8aepvH",
        "outputId": "6076bfa7-816c-40e2-9d48-ebd24180be8d"
      },
      "source": [
        "s = 'Python isn\\'t difficult.' # \\를 사용해서 single quote를 escape시킨다\n",
        "s"
      ],
      "execution_count": 8,
      "outputs": [
        {
          "output_type": "execute_result",
          "data": {
            "application/vnd.google.colaboratory.intrinsic+json": {
              "type": "string"
            },
            "text/plain": [
              "\"Python isn't difficult.\""
            ]
          },
          "metadata": {
            "tags": []
          },
          "execution_count": 8
        }
      ]
    },
    {
      "cell_type": "code",
      "metadata": {
        "id": "UR4Alk7ee5UD"
      },
      "source": [
        ""
      ],
      "execution_count": null,
      "outputs": []
    }
  ]
}