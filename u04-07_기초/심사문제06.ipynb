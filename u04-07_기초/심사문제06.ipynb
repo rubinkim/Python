{
  "nbformat": 4,
  "nbformat_minor": 2,
  "metadata": {
    "colab": {
      "name": "심사문제06.ipynb",
      "provenance": [],
      "collapsed_sections": []
    },
    "kernelspec": {
      "name": "python3",
      "display_name": "Python 3.8.10 64-bit ('base': conda)"
    },
    "language_info": {
      "name": "python",
      "version": "3.8.10",
      "mimetype": "text/x-python",
      "codemirror_mode": {
        "name": "ipython",
        "version": 3
      },
      "pygments_lexer": "ipython3",
      "nbconvert_exporter": "python",
      "file_extension": ".py"
    },
    "interpreter": {
      "hash": "4905652b14e4b7eb92899b78ac499a22c488804455b27940a322fd82aaf71031"
    }
  },
  "cells": [
    {
      "cell_type": "markdown",
      "source": [
        "# Unit 6. 심사문제\n",
        "- 표준 입력으로 국어, 영어, 수학, 과학 점수가 입력됩니다.\n",
        "- 평균 점수를 출력하는 프로그램을 만드세요(input에서 안내 문자열은 출력하지 않아야 합니다).\n",
        "- 단, 평균 점수를 출력할 때는 소수점 이하 자리는 버립니다(정수로 출력)."
      ],
      "metadata": {
        "id": "aayWbW8nntCj"
      }
    },
    {
      "cell_type": "markdown",
      "source": [
        "## 1)교과서 방법"
      ],
      "metadata": {
        "id": "6SXUuiwTvpr1"
      }
    },
    {
      "cell_type": "code",
      "execution_count": 4,
      "source": [
        "kor, eng, mat, sci = map(int, input('국어, 영어, 수학, 과학 점수> ').split())\r\n",
        "print(kor, eng, mat, sci)"
      ],
      "outputs": [
        {
          "output_type": "stream",
          "name": "stdout",
          "text": [
            "78 56 90 49\n"
          ]
        }
      ],
      "metadata": {
        "colab": {
          "base_uri": "https://localhost:8080/"
        },
        "id": "jvyTo-uRnii9",
        "outputId": "f6922cd7-7117-4791-f604-201e6001d5e1"
      }
    },
    {
      "cell_type": "code",
      "execution_count": 5,
      "source": [
        "(kor + eng + mat + sci) // 4, (kor + eng + mat + sci) / 4"
      ],
      "outputs": [
        {
          "output_type": "execute_result",
          "data": {
            "text/plain": [
              "(68, 68.25)"
            ]
          },
          "metadata": {},
          "execution_count": 5
        }
      ],
      "metadata": {
        "colab": {
          "base_uri": "https://localhost:8080/"
        },
        "id": "n_OxjmViyr6N",
        "outputId": "8bbcc833-1cfd-4eee-b97a-ae21540dc01e"
      }
    },
    {
      "cell_type": "markdown",
      "source": [
        "## 2) 리스트 이용"
      ],
      "metadata": {
        "id": "7zJDysxoy3kl"
      }
    },
    {
      "cell_type": "code",
      "execution_count": 6,
      "source": [
        "score = list(map(int, input('국어, 영어, 수학, 과학 점수> ').split()))\r\n",
        "score"
      ],
      "outputs": [
        {
          "output_type": "stream",
          "name": "stdout",
          "text": [
            "국어, 영어, 수학, 과학 점수> 99 91 99 89\n"
          ]
        },
        {
          "output_type": "execute_result",
          "data": {
            "text/plain": [
              "[99, 91, 99, 89]"
            ]
          },
          "metadata": {
            "tags": []
          },
          "execution_count": 6
        }
      ],
      "metadata": {
        "colab": {
          "base_uri": "https://localhost:8080/"
        },
        "id": "IEV3MUrJzlCX",
        "outputId": "90f1cbb0-2b36-4b6d-a36f-b4051e246f6b"
      }
    },
    {
      "cell_type": "code",
      "execution_count": 7,
      "source": [
        "sum(score)"
      ],
      "outputs": [
        {
          "output_type": "execute_result",
          "data": {
            "text/plain": [
              "378"
            ]
          },
          "metadata": {
            "tags": []
          },
          "execution_count": 7
        }
      ],
      "metadata": {
        "colab": {
          "base_uri": "https://localhost:8080/"
        },
        "id": "IoTlfSXzzo6B",
        "outputId": "d88b8d15-b34d-4c2c-fe1f-66153d9a0030"
      }
    },
    {
      "cell_type": "code",
      "execution_count": 8,
      "source": [
        "len(score)"
      ],
      "outputs": [
        {
          "output_type": "execute_result",
          "data": {
            "text/plain": [
              "4"
            ]
          },
          "metadata": {
            "tags": []
          },
          "execution_count": 8
        }
      ],
      "metadata": {
        "colab": {
          "base_uri": "https://localhost:8080/"
        },
        "id": "jT32tCrazwkm",
        "outputId": "4f60fd8e-dbd3-4190-f647-915f91a7d1d7"
      }
    },
    {
      "cell_type": "code",
      "execution_count": 9,
      "source": [
        "sum(score) // len(score), sum(score) / len(score)"
      ],
      "outputs": [
        {
          "output_type": "execute_result",
          "data": {
            "text/plain": [
              "(94, 94.5)"
            ]
          },
          "metadata": {
            "tags": []
          },
          "execution_count": 9
        }
      ],
      "metadata": {
        "colab": {
          "base_uri": "https://localhost:8080/"
        },
        "id": "Hwu8UqtNzwup",
        "outputId": "94d3432f-888c-47ce-aca5-4253334a6893"
      }
    },
    {
      "cell_type": "markdown",
      "source": [
        "## 3) Numpy 이용"
      ],
      "metadata": {
        "id": "Kn85msr_z5gG"
      }
    },
    {
      "cell_type": "code",
      "execution_count": 10,
      "source": [
        "import numpy as np\r\n",
        "score = np.array(list(map(int, input('국어, 영어, 수학, 과학 점수> ').split())))\r\n",
        "score"
      ],
      "outputs": [
        {
          "output_type": "stream",
          "name": "stdout",
          "text": [
            "국어, 영어, 수학, 과학 점수> 99 98 100 96\n"
          ]
        },
        {
          "output_type": "execute_result",
          "data": {
            "text/plain": [
              "array([ 99,  98, 100,  96])"
            ]
          },
          "metadata": {
            "tags": []
          },
          "execution_count": 10
        }
      ],
      "metadata": {
        "colab": {
          "base_uri": "https://localhost:8080/"
        },
        "id": "_LkdJvz5z8oY",
        "outputId": "57652f18-d976-4aeb-ac01-b419fdec5b5d"
      }
    },
    {
      "cell_type": "code",
      "execution_count": 11,
      "source": [
        "int(np.mean(score)), np.mean(score)"
      ],
      "outputs": [
        {
          "output_type": "execute_result",
          "data": {
            "text/plain": [
              "(98, 98.25)"
            ]
          },
          "metadata": {
            "tags": []
          },
          "execution_count": 11
        }
      ],
      "metadata": {
        "colab": {
          "base_uri": "https://localhost:8080/"
        },
        "id": "BYk0jSkZ0GJE",
        "outputId": "8d19f530-3b69-4c4d-87be-e4646ac28782"
      }
    },
    {
      "cell_type": "code",
      "execution_count": 12,
      "source": [
        "\"\"\" 표준 입력으로 국어, 영어, 수학, 과학 점수가 입력됩니다.<br>\r\n",
        "평균 점수를 출력하는 프로그램을 만드세요(input에서 안내 문자열은 출력하지 않아야 합니다).<br>\r\n",
        "단, 평균 점수를 출력할 때는 소수점 이하 자리는 버립니다(정수로 출력). \"\"\""
      ],
      "outputs": [
        {
          "output_type": "execute_result",
          "data": {
            "text/plain": [
              "' 표준 입력으로 국어, 영어, 수학, 과학 점수가 입력됩니다.<br>\\n평균 점수를 출력하는 프로그램을 만드세요(input에서 안내 문자열은 출력하지 않아야 합니다).<br>\\n단, 평균 점수를 출력할 때는 소수점 이하 자리는 버립니다(정수로 출력). '"
            ],
            "application/vnd.google.colaboratory.intrinsic+json": {
              "type": "string"
            }
          },
          "metadata": {
            "tags": []
          },
          "execution_count": 12
        }
      ],
      "metadata": {
        "colab": {
          "base_uri": "https://localhost:8080/",
          "height": 54
        },
        "id": "dcVXi9iw0KGz",
        "outputId": "c41f3345-8811-41d8-cd77-00a66427af97"
      }
    },
    {
      "cell_type": "code",
      "execution_count": null,
      "source": [],
      "outputs": [],
      "metadata": {}
    }
  ]
}