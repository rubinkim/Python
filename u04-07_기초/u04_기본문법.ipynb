{
  "nbformat": 4,
  "nbformat_minor": 2,
  "metadata": {
    "colab": {
      "name": "u04_기본문법.ipynb",
      "provenance": [],
      "collapsed_sections": []
    },
    "kernelspec": {
      "name": "python3",
      "display_name": "Python 3.8.10 64-bit ('base': conda)"
    },
    "language_info": {
      "name": "python",
      "version": "3.8.10",
      "mimetype": "text/x-python",
      "codemirror_mode": {
        "name": "ipython",
        "version": 3
      },
      "pygments_lexer": "ipython3",
      "nbconvert_exporter": "python",
      "file_extension": ".py"
    },
    "interpreter": {
      "hash": "4905652b14e4b7eb92899b78ac499a22c488804455b27940a322fd82aaf71031"
    }
  },
  "cells": [
    {
      "cell_type": "code",
      "execution_count": null,
      "source": [],
      "outputs": [],
      "metadata": {
        "id": "iV34mDJSazzf"
      }
    },
    {
      "cell_type": "markdown",
      "source": [
        "# Unit 4. 기본 문법 알아보기"
      ],
      "metadata": {
        "id": "UMXnDwXUa3P1"
      }
    },
    {
      "cell_type": "markdown",
      "source": [
        "## 4.1 세미콜론"
      ],
      "metadata": {
        "id": "fVj7YI8ibJpV"
      }
    },
    {
      "cell_type": "code",
      "execution_count": 1,
      "source": [
        "print('Hello World!')"
      ],
      "outputs": [
        {
          "output_type": "stream",
          "name": "stdout",
          "text": [
            "Hello World!\n"
          ]
        }
      ],
      "metadata": {
        "colab": {
          "base_uri": "https://localhost:8080/"
        },
        "id": "tVYsawkVbAGw",
        "outputId": "b4ba6746-6967-41b2-fff8-f13b8287087e"
      }
    },
    {
      "cell_type": "code",
      "execution_count": 2,
      "source": [
        "print('Hello World'); print('1234')"
      ],
      "outputs": [
        {
          "output_type": "stream",
          "name": "stdout",
          "text": [
            "Hello World\n",
            "1234\n"
          ]
        }
      ],
      "metadata": {
        "colab": {
          "base_uri": "https://localhost:8080/"
        },
        "id": "I_t_cpiObD72",
        "outputId": "a1f93f2a-64e2-49f3-8769-5c612f94bf82"
      }
    },
    {
      "cell_type": "markdown",
      "source": [
        "## 4.2 주석"
      ],
      "metadata": {
        "id": "QCiN7vR5bu-0"
      }
    },
    {
      "cell_type": "markdown",
      "source": [
        "### 4.2.1 한줄 주석"
      ],
      "metadata": {
        "id": "5t2otW9xb4HX"
      }
    },
    {
      "cell_type": "code",
      "execution_count": 3,
      "source": [
        "# Hello, world! 출력\r\n",
        "print('Hello, world!')"
      ],
      "outputs": [
        {
          "output_type": "stream",
          "name": "stdout",
          "text": [
            "Hello, world!\n"
          ]
        }
      ],
      "metadata": {
        "colab": {
          "base_uri": "https://localhost:8080/"
        },
        "id": "T8gOxO5tbh6X",
        "outputId": "af5cff32-e9c0-4dba-888b-8de8465e1dcd"
      }
    },
    {
      "cell_type": "code",
      "execution_count": null,
      "source": [
        "print('Hello, world!')    # comment"
      ],
      "outputs": [
        {
          "output_type": "stream",
          "name": "stdout",
          "text": [
            "Hello, world!\n"
          ]
        }
      ],
      "metadata": {
        "colab": {
          "base_uri": "https://localhost:8080/"
        },
        "id": "EIHXRN4WcIoK",
        "outputId": "d9479e04-a710-44a7-9f51-e955900e1a38"
      }
    },
    {
      "cell_type": "markdown",
      "source": [
        "### 4.2.2 블록 주석"
      ],
      "metadata": {
        "id": "6VsVjIN_eq-x"
      }
    },
    {
      "cell_type": "code",
      "execution_count": null,
      "source": [
        "# 더하기\r\n",
        "# a = 1 + 2\r\n",
        "# print('Hello, world!')"
      ],
      "outputs": [],
      "metadata": {
        "id": "IkUMF4cKcVIf"
      }
    },
    {
      "cell_type": "code",
      "execution_count": null,
      "source": [
        "# 더하기\r\n",
        "'''a = 1 + 2\r\n",
        "# print('Hello, world!')'''"
      ],
      "outputs": [
        {
          "output_type": "execute_result",
          "data": {
            "text/plain": [
              "\"a = 1 + 2\\n# print('Hello, world!')\""
            ],
            "application/vnd.google.colaboratory.intrinsic+json": {
              "type": "string"
            }
          },
          "metadata": {
            "tags": []
          },
          "execution_count": 7
        }
      ],
      "metadata": {
        "colab": {
          "base_uri": "https://localhost:8080/",
          "height": 35
        },
        "id": "AGskn0Xxe9XC",
        "outputId": "765fadd5-8639-4e07-92eb-db957eebca85"
      }
    },
    {
      "cell_type": "code",
      "execution_count": null,
      "source": [
        "\"\"\"\r\n",
        "이 안에 포함된 내용이 블록 주석\"\"\""
      ],
      "outputs": [
        {
          "output_type": "execute_result",
          "data": {
            "text/plain": [
              "'\\n이 안에 포함된 내용이 블록 주석'"
            ],
            "application/vnd.google.colaboratory.intrinsic+json": {
              "type": "string"
            }
          },
          "metadata": {
            "tags": []
          },
          "execution_count": 8
        }
      ],
      "metadata": {
        "colab": {
          "base_uri": "https://localhost:8080/",
          "height": 35
        },
        "id": "ZEQRolVWfMZ3",
        "outputId": "2e73b456-c95c-4b49-89c6-4f9e64db4e1e"
      }
    },
    {
      "cell_type": "markdown",
      "source": [
        "## 4.3 들여쓰기(Indentation)"
      ],
      "metadata": {
        "id": "kE7UcinliXDS"
      }
    },
    {
      "cell_type": "code",
      "execution_count": 3,
      "source": [
        "\"\"\"C 프로그래밍 예\r\n",
        "sum = 0;\r\n",
        "for  (i=1; i<=10; i++){\r\n",
        "    sum += 1;\r\n",
        "  }\r\n",
        "  print(sum)\r\n",
        "   \"\"\""
      ],
      "outputs": [
        {
          "output_type": "execute_result",
          "data": {
            "text/plain": [
              "'C 프로그래밍 예\\nsum = 0;\\nfor  (i=1; i<=10; i++){\\n    sum += 1;\\n  }\\n  print(sum)\\n   '"
            ]
          },
          "metadata": {},
          "execution_count": 3
        }
      ],
      "metadata": {
        "id": "ygdFWzPZfMgK"
      }
    },
    {
      "cell_type": "code",
      "execution_count": 4,
      "source": [
        "# 파이썬 예 : 공백 4개, 탭/백탭(Shift+TAB)\r\n",
        "sum = 0\r\n",
        "for i in range(1,11):\r\n",
        "  sum += 1\r\n",
        "print(sum)"
      ],
      "outputs": [
        {
          "output_type": "stream",
          "name": "stdout",
          "text": [
            "10\n"
          ]
        }
      ],
      "metadata": {
        "colab": {
          "base_uri": "https://localhost:8080/"
        },
        "id": "haatWe6ejG90",
        "outputId": "b44993e0-d0d1-4357-d0e1-cb455bf60d00"
      }
    },
    {
      "cell_type": "code",
      "execution_count": 8,
      "source": [
        "sum = 0\r\n",
        "x = 1\r\n",
        "while x <= 10:\r\n",
        "  sum += 3\r\n",
        "  x += 1\r\n",
        "print(x, sum)"
      ],
      "outputs": [
        {
          "output_type": "stream",
          "name": "stdout",
          "text": [
            "11 30\n"
          ]
        }
      ],
      "metadata": {
        "colab": {
          "base_uri": "https://localhost:8080/"
        },
        "id": "sVyAKJSQ2_ks",
        "outputId": "7e5d5323-b687-4155-cab4-ea9715b9bcf7"
      }
    },
    {
      "cell_type": "markdown",
      "source": [],
      "metadata": {
        "id": "TmMVRDNYe6ri"
      }
    }
  ]
}