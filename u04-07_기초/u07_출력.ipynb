{
  "nbformat": 4,
  "nbformat_minor": 0,
  "metadata": {
    "colab": {
      "name": "u07_출력.ipynb",
      "provenance": [],
      "collapsed_sections": []
    },
    "kernelspec": {
      "name": "python3",
      "display_name": "Python 3"
    },
    "language_info": {
      "name": "python"
    }
  },
  "cells": [
    {
      "cell_type": "markdown",
      "metadata": {
        "id": "KeHZpDLJZtJb"
      },
      "source": [
        ""
      ]
    },
    {
      "cell_type": "markdown",
      "metadata": {
        "id": "4QEGTmZIZ40f"
      },
      "source": [
        "# Unit 7. 출력"
      ]
    },
    {
      "cell_type": "code",
      "metadata": {
        "colab": {
          "base_uri": "https://localhost:8080/"
        },
        "id": "f9k2O-LyZzjj",
        "outputId": "2a44fe21-bde1-49d0-a677-dafb0688eb84"
      },
      "source": [
        "a, b = map(int, input('정수 두개 입력> ').split())\n",
        "a\n",
        "b"
      ],
      "execution_count": 3,
      "outputs": [
        {
          "output_type": "stream",
          "text": [
            "정수 두개 입력> 10 20\n"
          ],
          "name": "stdout"
        },
        {
          "output_type": "execute_result",
          "data": {
            "text/plain": [
              "20"
            ]
          },
          "metadata": {
            "tags": []
          },
          "execution_count": 3
        }
      ]
    },
    {
      "cell_type": "code",
      "metadata": {
        "colab": {
          "base_uri": "https://localhost:8080/"
        },
        "id": "layy5wrNaGXb",
        "outputId": "6f150e7d-365c-4d1c-faca-4a2d2c414e67"
      },
      "source": [
        "a, b = map(int, input('정수 두개 입력> ').split()) # print()를 사용해가\n",
        "print(a)\n",
        "print(b)"
      ],
      "execution_count": 4,
      "outputs": [
        {
          "output_type": "stream",
          "text": [
            "정수 두개 입력> 10 20\n",
            "10\n",
            "20\n"
          ],
          "name": "stdout"
        }
      ]
    },
    {
      "cell_type": "code",
      "metadata": {
        "colab": {
          "base_uri": "https://localhost:8080/"
        },
        "id": "wKSmHb7NaxWq",
        "outputId": "aaf1eaa1-4136-4b5c-fc15-ba5ba0b767e9"
      },
      "source": [
        "print(a, b, sep = ', ') # a, b사이에 들어오는 값이 sep"
      ],
      "execution_count": 6,
      "outputs": [
        {
          "output_type": "stream",
          "text": [
            "10, 20\n"
          ],
          "name": "stdout"
        }
      ]
    },
    {
      "cell_type": "markdown",
      "metadata": {
        "id": "mNI1o2iAbC1Q"
      },
      "source": [
        "## 7.2 줄바꿈 활용"
      ]
    },
    {
      "cell_type": "code",
      "metadata": {
        "colab": {
          "base_uri": "https://localhost:8080/"
        },
        "id": "yZVbth2YaWpw",
        "outputId": "90495c12-6a64-4981-e9d7-6ef4ed3794cd"
      },
      "source": [
        "print(a, b, sep='\\n')"
      ],
      "execution_count": 7,
      "outputs": [
        {
          "output_type": "stream",
          "text": [
            "10\n",
            "20\n"
          ],
          "name": "stdout"
        }
      ]
    },
    {
      "cell_type": "code",
      "metadata": {
        "colab": {
          "base_uri": "https://localhost:8080/"
        },
        "id": "bDiqKix_bQJb",
        "outputId": "253b2a32-b33f-4934-f214-c0e16cb6ddbb"
      },
      "source": [
        "print(a, b, sep='/\\\\') # \\는 하나만 치면 그다음에 나오는 것에 의미를 부여하기 때문에 \\를 표현하고 싶으면 두개의 \\를 연속으로 쳐야한다"
      ],
      "execution_count": 10,
      "outputs": [
        {
          "output_type": "stream",
          "text": [
            "10/\\20\n"
          ],
          "name": "stdout"
        }
      ]
    },
    {
      "cell_type": "code",
      "metadata": {
        "colab": {
          "base_uri": "https://localhost:8080/"
        },
        "id": "ghrxtaiFbl4B",
        "outputId": "fc6f8d0e-4037-4041-967a-32b6658ad26f"
      },
      "source": [
        "print(a, b, end=' ', sep=', ')"
      ],
      "execution_count": 17,
      "outputs": [
        {
          "output_type": "stream",
          "text": [
            "10, 20 "
          ],
          "name": "stdout"
        }
      ]
    },
    {
      "cell_type": "code",
      "metadata": {
        "colab": {
          "base_uri": "https://localhost:8080/"
        },
        "id": "UhKydO4Acgca",
        "outputId": "c5c3afe6-943f-4746-fe78-acd88529e645"
      },
      "source": [
        "for i in range(5):\n",
        "  print(i, end=' ')"
      ],
      "execution_count": 18,
      "outputs": [
        {
          "output_type": "stream",
          "text": [
            "0 1 2 3 4 "
          ],
          "name": "stdout"
        }
      ]
    },
    {
      "cell_type": "code",
      "metadata": {
        "id": "gUDSHfc1c0Zz"
      },
      "source": [
        ""
      ],
      "execution_count": null,
      "outputs": []
    }
  ]
}