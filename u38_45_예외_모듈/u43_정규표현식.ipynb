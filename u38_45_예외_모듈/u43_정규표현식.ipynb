{
  "nbformat": 4,
  "nbformat_minor": 0,
  "metadata": {
    "colab": {
      "name": "u43_정규표현식.ipynb",
      "provenance": [],
      "collapsed_sections": []
    },
    "kernelspec": {
      "name": "python3",
      "display_name": "Python 3"
    },
    "language_info": {
      "name": "python"
    }
  },
  "cells": [
    {
      "cell_type": "markdown",
      "metadata": {
        "id": "_hLUuzH2-60m"
      },
      "source": [
        "# Unit 43 정규 표현식\n"
      ]
    },
    {
      "cell_type": "markdown",
      "metadata": {
        "id": "ZTR2wxRq_EU5"
      },
      "source": [
        "### 문자열 판단"
      ]
    },
    {
      "cell_type": "code",
      "metadata": {
        "colab": {
          "base_uri": "https://localhost:8080/"
        },
        "id": "QxbRQKmm8MWO",
        "outputId": "20aa6a7c-c78b-40b2-fe4c-75cadccd6103"
      },
      "source": [
        "import re\n",
        "re.match('Hello', 'Hello, world!')    # 패턴, 문자열 match는 시작할때 나오느냐 아니냐"
      ],
      "execution_count": 2,
      "outputs": [
        {
          "output_type": "execute_result",
          "data": {
            "text/plain": [
              "<re.Match object; span=(0, 5), match='Hello'>"
            ]
          },
          "metadata": {
            "tags": []
          },
          "execution_count": 2
        }
      ]
    },
    {
      "cell_type": "code",
      "metadata": {
        "colab": {
          "base_uri": "https://localhost:8080/"
        },
        "id": "Ps3ph_r7_Vuu",
        "outputId": "08ccfdae-7126-42dd-a2b6-6f7fd1993e10"
      },
      "source": [
        "z = re.match('Hello', 'Hello, world!')       # ^ : 시작 그리고 [] 안에서는 아니다.  $ :끝\n",
        "if z: \n",
        "    print('Found!')\n",
        "else:\n",
        "    print('Not found.')"
      ],
      "execution_count": 6,
      "outputs": [
        {
          "output_type": "stream",
          "text": [
            "Found!\n"
          ],
          "name": "stdout"
        }
      ]
    },
    {
      "cell_type": "code",
      "metadata": {
        "colab": {
          "base_uri": "https://localhost:8080/"
        },
        "id": "7JCIVohMDFMT",
        "outputId": "44586951-04e3-44c0-b13a-083ebd6725e2"
      },
      "source": [
        "z = re.match('world', 'Hello, world!')       # world는 시작이 아니기 때문에 Not found\n",
        "if z:\n",
        "    print('Found!')\n",
        "else:\n",
        "    print('Not found.')"
      ],
      "execution_count": 8,
      "outputs": [
        {
          "output_type": "stream",
          "text": [
            "Not found.\n"
          ],
          "name": "stdout"
        }
      ]
    },
    {
      "cell_type": "code",
      "metadata": {
        "colab": {
          "base_uri": "https://localhost:8080/"
        },
        "id": "5UeO9tRPDSGk",
        "outputId": "870a7cec-8630-49b9-f424-5c849d1e8ab3"
      },
      "source": [
        "# search()는 모든 문장에서 찾음\n",
        "z = re.search('Hello', 'Hello, world!')      \n",
        "if z: \n",
        "    print('Found!')\n",
        "else:\n",
        "    print('Not found.')"
      ],
      "execution_count": 7,
      "outputs": [
        {
          "output_type": "stream",
          "text": [
            "Found!\n"
          ],
          "name": "stdout"
        }
      ]
    },
    {
      "cell_type": "markdown",
      "metadata": {
        "id": "97kxiV_mDm5I"
      },
      "source": [
        "## 43.2 범위 판단"
      ]
    },
    {
      "cell_type": "code",
      "metadata": {
        "colab": {
          "base_uri": "https://localhost:8080/"
        },
        "id": "YO56NM8TEDIP",
        "outputId": "09f87f89-66e4-454f-809e-c8fa03719803"
      },
      "source": [
        "# 휴대전화 번호판단\n",
        "pattern = '[0-9]{3}-[0-9]{4}-[0-9]{4}' # 옛날 번호 패턴\n",
        "pattern = '01[0-9]-[0-9]{4}-[0-9]{4}'\n",
        "text = '010-1234-5678'\n",
        "if re.match(pattern, text):\n",
        "    print('올바른 휴대전화번호')\n",
        "else:\n",
        "    print('잘못된 휴대전화번호')"
      ],
      "execution_count": 9,
      "outputs": [
        {
          "output_type": "stream",
          "text": [
            "올바른 휴대전화번호\n"
          ],
          "name": "stdout"
        }
      ]
    },
    {
      "cell_type": "code",
      "metadata": {
        "colab": {
          "base_uri": "https://localhost:8080/"
        },
        "id": "X35xS-N4E1Ku",
        "outputId": "b047ac73-bd82-426f-9ae0-d6c0eff65e8f"
      },
      "source": [
        "# 휴대전화 번호판단\n",
        "pattern = '01[0-9]-[0-9]{4}-[0-9]{4}'\n",
        "text = '020-1234-5678'\n",
        "if re.match(pattern, text):\n",
        "    print('올바른 휴대전화번호')\n",
        "else:\n",
        "    print('잘못된 휴대전화번호')"
      ],
      "execution_count": 10,
      "outputs": [
        {
          "output_type": "stream",
          "text": [
            "잘못된 휴대전화번호\n"
          ],
          "name": "stdout"
        }
      ]
    },
    {
      "cell_type": "code",
      "metadata": {
        "colab": {
          "base_uri": "https://localhost:8080/"
        },
        "id": "-ydQUAt6E74r",
        "outputId": "1ea43ff7-e489-4fed-99fe-7131cc6a35f6"
      },
      "source": [
        "# 한글 패턴\n",
        "hangul = '[ㄱ-ㅎㅏ-ㅣ가-힣]+'\n",
        "text = '홍길동'\n",
        "if re.search(hangul, text):\n",
        "    print('한글이 있음')\n",
        "else:\n",
        "    print('한글이 없음')"
      ],
      "execution_count": 14,
      "outputs": [
        {
          "output_type": "stream",
          "text": [
            "한글이 있음\n"
          ],
          "name": "stdout"
        }
      ]
    },
    {
      "cell_type": "code",
      "metadata": {
        "colab": {
          "base_uri": "https://localhost:8080/"
        },
        "id": "GSFn6YwsFymU",
        "outputId": "fd6a1c70-c8c9-448d-86b6-a4e47d1c03d9"
      },
      "source": [
        "# 한글 패턴\n",
        "hangul = '[ㄱ-ㅎㅏ-ㅣ가-힣]+'\n",
        "text = 'hong gil dong'\n",
        "if re.search(hangul, text):\n",
        "    print('한글이 있음')\n",
        "else:\n",
        "    print('한글이 없음')"
      ],
      "execution_count": 13,
      "outputs": [
        {
          "output_type": "stream",
          "text": [
            "한글이 없음\n"
          ],
          "name": "stdout"
        }
      ]
    },
    {
      "cell_type": "markdown",
      "metadata": {
        "id": "xY6jHnU6J0jn"
      },
      "source": [
        "### 이메일 주소 검사하기"
      ]
    },
    {
      "cell_type": "code",
      "metadata": {
        "id": "JWNoEFu4J5NF"
      },
      "source": [
        "p = re.compile('^[a-zA-Z0-9+-_.]+@[a-zA-Z0-9]+\\.[a-zA-Z0-9-.]+$')   # p에 패턴을 저장한다.\n"
      ],
      "execution_count": 33,
      "outputs": []
    },
    {
      "cell_type": "code",
      "metadata": {
        "id": "tdlYu6BPKmoS"
      },
      "source": [
        "emails = ['bkencino2006@gmailcom', '@example.com', 'python@examplr-com']"
      ],
      "execution_count": 34,
      "outputs": []
    },
    {
      "cell_type": "code",
      "metadata": {
        "colab": {
          "base_uri": "https://localhost:8080/"
        },
        "id": "P8V6B8zdKmy0",
        "outputId": "0a6bea17-8795-419d-c3de-6a2e6db11bc7"
      },
      "source": [
        "for email in emails:\n",
        "    print(p.match(email) != None, end=' ')"
      ],
      "execution_count": 35,
      "outputs": [
        {
          "output_type": "stream",
          "text": [
            "False False False "
          ],
          "name": "stdout"
        }
      ]
    },
    {
      "cell_type": "markdown",
      "metadata": {
        "id": "Ks9XRYHLGHZO"
      },
      "source": [
        "## 43.4 문자열 바꾸기"
      ]
    },
    {
      "cell_type": "code",
      "metadata": {
        "colab": {
          "base_uri": "https://localhost:8080/",
          "height": 35
        },
        "id": "E66hIex7F5Xy",
        "outputId": "b5103530-d7b0-45db-95ab-ffce8ba76e4c"
      },
      "source": [
        "# re.sub('패턴', '바꿀 문자열', '문자열')\n",
        "re.sub('apple|orange', 'fruit', 'apple box orange tree')"
      ],
      "execution_count": 15,
      "outputs": [
        {
          "output_type": "execute_result",
          "data": {
            "application/vnd.google.colaboratory.intrinsic+json": {
              "type": "string"
            },
            "text/plain": [
              "'fruit box fruit tree'"
            ]
          },
          "metadata": {
            "tags": []
          },
          "execution_count": 15
        }
      ]
    },
    {
      "cell_type": "code",
      "metadata": {
        "colab": {
          "base_uri": "https://localhost:8080/",
          "height": 35
        },
        "id": "_rVzLmdTGhQ2",
        "outputId": "cb582e2a-7607-4db8-f9b3-9105791ac521"
      },
      "source": [
        "re.sub('[0-9]+', 'n', '1 2 Fizz 4 Buzz Fizz 7 8 Fizz Buzz 11 12')"
      ],
      "execution_count": 18,
      "outputs": [
        {
          "output_type": "execute_result",
          "data": {
            "application/vnd.google.colaboratory.intrinsic+json": {
              "type": "string"
            },
            "text/plain": [
              "'n n Fizz n Buzz Fizz n n Fizz Buzz n n'"
            ]
          },
          "metadata": {
            "tags": []
          },
          "execution_count": 18
        }
      ]
    },
    {
      "cell_type": "code",
      "metadata": {
        "colab": {
          "base_uri": "https://localhost:8080/",
          "height": 35
        },
        "id": "EUZoISCNG59m",
        "outputId": "0ec58e77-f98f-47d7-c5a1-5ef5ea6b2f73"
      },
      "source": [
        "re.sub('[0-9]', 'n', '1 2 Fizz 4 Buzz Fizz 7 8 Fizz Buzz 11 12')"
      ],
      "execution_count": 19,
      "outputs": [
        {
          "output_type": "execute_result",
          "data": {
            "application/vnd.google.colaboratory.intrinsic+json": {
              "type": "string"
            },
            "text/plain": [
              "'n n Fizz n Buzz Fizz n n Fizz Buzz nn nn'"
            ]
          },
          "metadata": {
            "tags": []
          },
          "execution_count": 19
        }
      ]
    },
    {
      "cell_type": "code",
      "metadata": {
        "id": "fmoMTv1oHN68"
      },
      "source": [
        "text = '''\n",
        "문자 클래스는 문자열 일치 다음으로 가장 기본적인 정규 표현식 개념이다. 이는 하나의 작은 일련의 문자열들을 더 큰 집합의 문자열들과 일치시키도록 한다. \n",
        "이를테면, [A-Z]는 알파벳을 대표하며 \\d는 임의의 숫자를 의미할 수 있다. 문자 클래스는 POSIX 수준에 적용한다.\n",
        "[a-Z]와 같은 특정 범위의 문자들을 지정할 때 컴퓨터의 로캘 설정들은 문자 인코딩의 수치적 나열에 따라 내용을 결정한다. 그러한 나열에 따라 수치들을 저장할 \n",
        "수 있으며 그 순서는 abc...zABC...Z, aAbBcC...zZ와 같이 될 수 있다. 그러므로 POSIX 표준은 문자 클래스를 정의하며 이는 설치된 정규 표현식 처리기가 인지한다. 이러한 정의들은 다음의 표를 따른다:\n",
        "'''"
      ],
      "execution_count": 20,
      "outputs": []
    },
    {
      "cell_type": "code",
      "metadata": {
        "colab": {
          "base_uri": "https://localhost:8080/",
          "height": 107
        },
        "id": "dM8KOLEKHtWv",
        "outputId": "1cc998f7-c3d0-4046-8e5b-5c44a496792c"
      },
      "source": [
        "not_hangul = '[^ㄱ-ㅎ ㅏ-ㅣ가-힣 ]' # 맨뒤에 공백이 포함되야 한다\n",
        "re.sub(not_hangul, '', text)"
      ],
      "execution_count": 23,
      "outputs": [
        {
          "output_type": "execute_result",
          "data": {
            "application/vnd.google.colaboratory.intrinsic+json": {
              "type": "string"
            },
            "text/plain": [
              "'문자 클래스는 문자열 일치 다음으로 가장 기본적인 정규 표현식 개념이다 이는 하나의 작은 일련의 문자열들을 더 큰 집합의 문자열들과 일치시키도록 한다 이를테면 는 알파벳을 대표하며 는 임의의 숫자를 의미할 수 있다 문자 클래스는  수준에 적용한다와 같은 특정 범위의 문자들을 지정할 때 컴퓨터의 로캘 설정들은 문자 인코딩의 수치적 나열에 따라 내용을 결정한다 그러한 나열에 따라 수치들을 저장할 수 있으며 그 순서는  와 같이 될 수 있다 그러므로  표준은 문자 클래스를 정의하며 이는 설치된 정규 표현식 처리기가 인지한다 이러한 정의들은 다음의 표를 따른다'"
            ]
          },
          "metadata": {
            "tags": []
          },
          "execution_count": 23
        }
      ]
    },
    {
      "cell_type": "code",
      "metadata": {
        "colab": {
          "base_uri": "https://localhost:8080/",
          "height": 107
        },
        "id": "u2PwZDhTIAAH",
        "outputId": "c855af25-c7e6-4159-85c5-cb5ff61fe702"
      },
      "source": [
        "not_hangul = '[^ㄱ-ㅎ ㅏ-ㅣ가-힣]' \n",
        "re.sub(not_hangul, '', text)"
      ],
      "execution_count": 24,
      "outputs": [
        {
          "output_type": "execute_result",
          "data": {
            "application/vnd.google.colaboratory.intrinsic+json": {
              "type": "string"
            },
            "text/plain": [
              "'문자 클래스는 문자열 일치 다음으로 가장 기본적인 정규 표현식 개념이다 이는 하나의 작은 일련의 문자열들을 더 큰 집합의 문자열들과 일치시키도록 한다 이를테면 는 알파벳을 대표하며 는 임의의 숫자를 의미할 수 있다 문자 클래스는  수준에 적용한다와 같은 특정 범위의 문자들을 지정할 때 컴퓨터의 로캘 설정들은 문자 인코딩의 수치적 나열에 따라 내용을 결정한다 그러한 나열에 따라 수치들을 저장할 수 있으며 그 순서는  와 같이 될 수 있다 그러므로  표준은 문자 클래스를 정의하며 이는 설치된 정규 표현식 처리기가 인지한다 이러한 정의들은 다음의 표를 따른다'"
            ]
          },
          "metadata": {
            "tags": []
          },
          "execution_count": 24
        }
      ]
    },
    {
      "cell_type": "code",
      "metadata": {
        "colab": {
          "base_uri": "https://localhost:8080/",
          "height": 35
        },
        "id": "3jD9dJVpIcKu",
        "outputId": "46752b09-a383-4856-db2a-2f7cb985b885"
      },
      "source": [
        "text = '에밀리블런트 사랑해,, 사랑스러움의 끝ㅠㅠ 40DX로 보면 더 재밋을 듯'\n",
        "text = re.sub(not_hangul, '', text)\n",
        "text"
      ],
      "execution_count": 25,
      "outputs": [
        {
          "output_type": "execute_result",
          "data": {
            "application/vnd.google.colaboratory.intrinsic+json": {
              "type": "string"
            },
            "text/plain": [
              "'에밀리블런트 사랑해 사랑스러움의 끝ㅠㅠ 로 보면 더 재밋을 듯'"
            ]
          },
          "metadata": {
            "tags": []
          },
          "execution_count": 25
        }
      ]
    },
    {
      "cell_type": "code",
      "metadata": {
        "id": "gAWq5sbhJX6w"
      },
      "source": [
        ""
      ],
      "execution_count": null,
      "outputs": []
    }
  ]
}