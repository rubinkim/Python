{
  "nbformat": 4,
  "nbformat_minor": 0,
  "metadata": {
    "colab": {
      "name": "u44_모듈과팩키지.ipynb",
      "provenance": [],
      "collapsed_sections": []
    },
    "kernelspec": {
      "name": "python3",
      "display_name": "Python 3"
    },
    "language_info": {
      "name": "python"
    }
  },
  "cells": [
    {
      "cell_type": "markdown",
      "metadata": {
        "id": "JgJPQHVIfA4J"
      },
      "source": [
        "# Unit 44. 모듈과 팩키지"
      ]
    },
    {
      "cell_type": "markdown",
      "metadata": {
        "id": "teEhwfd5gC8S"
      },
      "source": [
        "## 44.1 import"
      ]
    },
    {
      "cell_type": "code",
      "metadata": {
        "colab": {
          "base_uri": "https://localhost:8080/"
        },
        "id": "vLV_MpiGe3Wg",
        "outputId": "cfc1da14-4593-4790-c81a-ddad9bf740c7"
      },
      "source": [
        "import math\n",
        "print(dir(math))"
      ],
      "execution_count": 1,
      "outputs": [
        {
          "output_type": "stream",
          "text": [
            "['__doc__', '__loader__', '__name__', '__package__', '__spec__', 'acos', 'acosh', 'asin', 'asinh', 'atan', 'atan2', 'atanh', 'ceil', 'copysign', 'cos', 'cosh', 'degrees', 'e', 'erf', 'erfc', 'exp', 'expm1', 'fabs', 'factorial', 'floor', 'fmod', 'frexp', 'fsum', 'gamma', 'gcd', 'hypot', 'inf', 'isclose', 'isfinite', 'isinf', 'isnan', 'ldexp', 'lgamma', 'log', 'log10', 'log1p', 'log2', 'modf', 'nan', 'pi', 'pow', 'radians', 'remainder', 'sin', 'sinh', 'sqrt', 'tan', 'tanh', 'tau', 'trunc']\n"
          ],
          "name": "stdout"
        }
      ]
    },
    {
      "cell_type": "code",
      "metadata": {
        "colab": {
          "base_uri": "https://localhost:8080/"
        },
        "id": "d6tiztQagLvw",
        "outputId": "d75f0991-fc96-4503-bc9a-bfb2b24b8045"
      },
      "source": [
        "math.pi"
      ],
      "execution_count": 2,
      "outputs": [
        {
          "output_type": "execute_result",
          "data": {
            "text/plain": [
              "3.141592653589793"
            ]
          },
          "metadata": {
            "tags": []
          },
          "execution_count": 2
        }
      ]
    },
    {
      "cell_type": "code",
      "metadata": {
        "colab": {
          "base_uri": "https://localhost:8080/"
        },
        "id": "xwpiYt2MgTX1",
        "outputId": "34be5716-fec9-4d6f-b9ef-db0b1e297cf6"
      },
      "source": [
        "math.sqrt(2), math.log2(2), math.log10(2), math.sin(math.pi/2)"
      ],
      "execution_count": 4,
      "outputs": [
        {
          "output_type": "execute_result",
          "data": {
            "text/plain": [
              "(1.4142135623730951, 1.0, 0.3010299956639812, 1.0)"
            ]
          },
          "metadata": {
            "tags": []
          },
          "execution_count": 4
        }
      ]
    },
    {
      "cell_type": "code",
      "metadata": {
        "colab": {
          "base_uri": "https://localhost:8080/"
        },
        "id": "gNwVHMBAgVsX",
        "outputId": "580a2d81-e60e-4113-ff97-fa0da066ee5f"
      },
      "source": [
        "# aliasing\n",
        "import math as m\n",
        "round(m.pi, 4), round(m.log2(2), 4), round(m.sin(m.pi / 2), 4)"
      ],
      "execution_count": 8,
      "outputs": [
        {
          "output_type": "execute_result",
          "data": {
            "text/plain": [
              "(3.1416, 1.0, 1.0)"
            ]
          },
          "metadata": {
            "tags": []
          },
          "execution_count": 8
        }
      ]
    },
    {
      "cell_type": "code",
      "metadata": {
        "colab": {
          "base_uri": "https://localhost:8080/"
        },
        "id": "hDp71c82g7BP",
        "outputId": "460deeb8-9eda-41c0-89a6-b71644fe44e9"
      },
      "source": [
        "# from \n",
        "from math import sqrt, pi, sin\n",
        "round(pi, 4), round(sqrt(2), 4)"
      ],
      "execution_count": 14,
      "outputs": [
        {
          "output_type": "execute_result",
          "data": {
            "text/plain": [
              "(3.1416, 1.4142)"
            ]
          },
          "metadata": {
            "tags": []
          },
          "execution_count": 14
        }
      ]
    },
    {
      "cell_type": "code",
      "metadata": {
        "colab": {
          "base_uri": "https://localhost:8080/"
        },
        "id": "yscDShvehn7e",
        "outputId": "e4e251ae-6ba3-4cbe-a0b7-f4169dcada48"
      },
      "source": [
        "# 모든 것을 가져옴\n",
        "from math import *\n",
        "log2(2), round(log10(2), 4)"
      ],
      "execution_count": 17,
      "outputs": [
        {
          "output_type": "execute_result",
          "data": {
            "text/plain": [
              "(1.0, 0.301)"
            ]
          },
          "metadata": {
            "tags": []
          },
          "execution_count": 17
        }
      ]
    },
    {
      "cell_type": "markdown",
      "metadata": {
        "id": "NggY2L5pi5Ps"
      },
      "source": [
        "## import 패키지"
      ]
    },
    {
      "cell_type": "code",
      "metadata": {
        "colab": {
          "base_uri": "https://localhost:8080/"
        },
        "id": "eg-Q9MKhib1m",
        "outputId": "94eec502-a036-4150-cd1e-ff433de16266"
      },
      "source": [
        "import urllib.request      # urllib는 팩키지이고 request는 모듈이다\n",
        "res = urllib.request.urlopen('http://www.google.co.kr')\n",
        "res.status     # 제대로 연결됐다"
      ],
      "execution_count": 18,
      "outputs": [
        {
          "output_type": "execute_result",
          "data": {
            "text/plain": [
              "200"
            ]
          },
          "metadata": {
            "tags": []
          },
          "execution_count": 18
        }
      ]
    },
    {
      "cell_type": "code",
      "metadata": {
        "colab": {
          "base_uri": "https://localhost:8080/"
        },
        "id": "n69dLHxBjP1D",
        "outputId": "e8bee033-aa55-4f34-e1b4-e5d2592cd338"
      },
      "source": [
        "from urllib.request import urlopen\n",
        "res = urlopen('http://www.google.co.kr')\n",
        "res.status"
      ],
      "execution_count": 20,
      "outputs": [
        {
          "output_type": "execute_result",
          "data": {
            "text/plain": [
              "200"
            ]
          },
          "metadata": {
            "tags": []
          },
          "execution_count": 20
        }
      ]
    },
    {
      "cell_type": "code",
      "metadata": {
        "id": "CcLeEEwVjivI"
      },
      "source": [
        "# Scikit-Learn 패키지\n",
        "from sklearn.tree import DecisionTreeClassifier\n",
        "from sklearn.model_selection import train_test_split, GridSearchCV   # GridSearchCV도 팩키지이다"
      ],
      "execution_count": 21,
      "outputs": []
    },
    {
      "cell_type": "code",
      "metadata": {
        "id": "CiPIwqSlkJcy"
      },
      "source": [
        ""
      ],
      "execution_count": null,
      "outputs": []
    }
  ]
}