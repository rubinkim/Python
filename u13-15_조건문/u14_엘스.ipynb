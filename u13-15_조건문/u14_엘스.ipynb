{
  "nbformat": 4,
  "nbformat_minor": 2,
  "metadata": {
    "colab": {
      "name": "u14_엘스.ipynb",
      "provenance": [],
      "collapsed_sections": []
    },
    "kernelspec": {
      "name": "python3",
      "display_name": "Python 3"
    },
    "language_info": {
      "name": "python"
    }
  },
  "cells": [
    {
      "cell_type": "markdown",
      "source": [
        "# Unit 14. else"
      ],
      "metadata": {
        "id": "zu2H1_Qgl3f0"
      }
    },
    {
      "cell_type": "code",
      "execution_count": 1,
      "source": [
        "x = 5\r\n",
        "if x == 10:\r\n",
        "  print('10입니다.')\r\n",
        "else:\r\n",
        "  print('10이 아닙니다.')"
      ],
      "outputs": [
        {
          "output_type": "stream",
          "name": "stdout",
          "text": [
            "10이 아닙니다.\n"
          ]
        }
      ],
      "metadata": {
        "colab": {
          "base_uri": "https://localhost:8080/"
        },
        "id": "Q67enJxwlvjh",
        "outputId": "8dd9fb0c-b5aa-484c-cd6c-e9c575131c9c"
      }
    },
    {
      "cell_type": "markdown",
      "source": [
        "### 3항 연산자\n",
        "- Java or JS : (조건 ) ? 참일때의 값 : 거짓일때의 값\n",
        "- Python : a = 참일때의 값 if 조건 else 거짓일때의 값"
      ],
      "metadata": {
        "id": "hKp15RSimwbQ"
      }
    },
    {
      "cell_type": "code",
      "execution_count": 2,
      "source": [
        "x = 1\r\n",
        "if x % 2 == 0:\r\n",
        "  y = 'even'\r\n",
        "else:\r\n",
        "  y = 'odd'\r\n",
        "y"
      ],
      "outputs": [
        {
          "output_type": "execute_result",
          "data": {
            "text/plain": [
              "'odd'"
            ],
            "application/vnd.google.colaboratory.intrinsic+json": {
              "type": "string"
            }
          },
          "metadata": {
            "tags": []
          },
          "execution_count": 2
        }
      ],
      "metadata": {
        "colab": {
          "base_uri": "https://localhost:8080/",
          "height": 36
        },
        "id": "1z7b45LImZ_q",
        "outputId": "5e1d59a5-626c-407a-d9d0-627accce05ce"
      }
    },
    {
      "cell_type": "code",
      "execution_count": 4,
      "source": [
        "y = 'even' if x % 2 == 0 else 'odd' # 조건이 참일때의 값과 거짓일떄의 값이 주어진다.\r\n",
        "y"
      ],
      "outputs": [
        {
          "output_type": "execute_result",
          "data": {
            "text/plain": [
              "'odd'"
            ],
            "application/vnd.google.colaboratory.intrinsic+json": {
              "type": "string"
            }
          },
          "metadata": {
            "tags": []
          },
          "execution_count": 4
        }
      ],
      "metadata": {
        "colab": {
          "base_uri": "https://localhost:8080/",
          "height": 36
        },
        "id": "iQ50XqdknDvM",
        "outputId": "497f4644-a2a5-4b2a-839a-a95d78d144f0"
      }
    },
    {
      "cell_type": "code",
      "execution_count": 9,
      "source": [
        "# 90점 이상이면 'A', 80~89:B, 70~79:C, 60~69:D, ~59:F\r\n",
        "score = int(input('점수 입력> '))\r\n",
        "if score >= 90:\r\n",
        "  print('A입니다.')\r\n",
        "elif score >=80:\r\n",
        "  print('B입니다.')\r\n",
        "elif score >=70:\r\n",
        "  print('C입니다.')\r\n",
        "elif score >= 60:\r\n",
        "  print('D입니다.')\r\n",
        "else:\r\n",
        "  print('F입니다.')"
      ],
      "outputs": [
        {
          "output_type": "stream",
          "name": "stdout",
          "text": [
            "점수 입력> 86\n",
            "B입니다.\n"
          ]
        }
      ],
      "metadata": {
        "colab": {
          "base_uri": "https://localhost:8080/"
        },
        "id": "GDwqLEXInM_E",
        "outputId": "07e36199-eb30-4603-95f3-14826ccb3c30"
      }
    },
    {
      "cell_type": "code",
      "execution_count": 16,
      "source": [
        "score = int(input('점수 입력> '))    # 한줄에 다 쓰면 가독성이 떨어진다.\r\n",
        "grade = 'A' if score >= 90 else\\     # \\enter가 그냥 space가 되게 한다\r\n",
        "            'B' if score >= 80 else\\\r\n",
        "                'C' if score >= 70 else\\\r\n",
        "                    'D' if score >= 60 else F \r\n",
        "print(grade)           "
      ],
      "outputs": [
        {
          "output_type": "stream",
          "name": "stdout",
          "text": [
            "점수 입력> 87\n",
            "B\n"
          ]
        }
      ],
      "metadata": {
        "colab": {
          "base_uri": "https://localhost:8080/"
        },
        "id": "EH_6y03MpGRb",
        "outputId": "2335b2ac-9360-4bea-859d-7fb1a0170bf7"
      }
    },
    {
      "cell_type": "markdown",
      "source": [
        "### 조건식에서의 논리연산자"
      ],
      "metadata": {
        "id": "juiaI4ukuliM"
      }
    },
    {
      "cell_type": "code",
      "execution_count": 17,
      "source": [
        "x = 5\r\n",
        "if x > 0 and x < 10:\r\n",
        "  print('10보다 작은 양의 정수입니다.')"
      ],
      "outputs": [],
      "metadata": {
        "id": "RJPxr8V7rVZg"
      }
    },
    {
      "cell_type": "code",
      "execution_count": 18,
      "source": [
        "if 0 < x < 10:\r\n",
        "  print('10보다 작은 양의 정수입니다.')"
      ],
      "outputs": [
        {
          "output_type": "stream",
          "name": "stdout",
          "text": [
            "10보다 작은 양의 정수입니다.\n"
          ]
        }
      ],
      "metadata": {
        "colab": {
          "base_uri": "https://localhost:8080/"
        },
        "id": "Ub0-fiFHu2J-",
        "outputId": "237de47a-6161-4634-931a-93a27caf31f5"
      }
    }
  ]
}