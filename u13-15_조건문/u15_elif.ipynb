{
  "nbformat": 4,
  "nbformat_minor": 0,
  "metadata": {
    "colab": {
      "name": "u15_elif.ipynb",
      "provenance": [],
      "collapsed_sections": []
    },
    "kernelspec": {
      "name": "python3",
      "display_name": "Python 3"
    },
    "language_info": {
      "name": "python"
    }
  },
  "cells": [
    {
      "cell_type": "markdown",
      "metadata": {
        "id": "Qoz_ZgqNn3r8"
      },
      "source": [
        "# Unit 15. elif"
      ]
    },
    {
      "cell_type": "code",
      "metadata": {
        "colab": {
          "base_uri": "https://localhost:8080/"
        },
        "id": "-iHtTnhDnvJi",
        "outputId": "a0d6ef81-cbe8-4c03-816b-67b6e2983a32"
      },
      "source": [
        "x = 20\n",
        "if x == 10:\n",
        "  print('It is 10.')\n",
        "elif x == 20:\n",
        "  print('It is 20.')\n",
        "else:\n",
        "  print('It is neither 10 nor 20.')"
      ],
      "execution_count": 3,
      "outputs": [
        {
          "output_type": "stream",
          "text": [
            "It is 20.\n"
          ],
          "name": "stdout"
        }
      ]
    },
    {
      "cell_type": "code",
      "metadata": {
        "colab": {
          "base_uri": "https://localhost:8080/"
        },
        "id": "BM04ySaJobf8",
        "outputId": "a32b606f-798b-4f1d-80c9-94bf5087f6db"
      },
      "source": [
        "# 숫자 - 입력, 3의 배수면 fizz, 5의 배수면 buzz, 15의 배수면 fizzbuzz\n",
        "# 제일 엄격한 조건을 제일 먼저 위치하게 햔다.\n",
        "x = int(input())\n",
        "\n",
        "if x % 15 == 0:\n",
        "  print('fizzbuzz')\n",
        "elif x % 5 == 0:\n",
        "  print('buzz')\n",
        "elif x % 3 == 0:\n",
        "  print('fizz')\n",
        "else:\n",
        "  print(x)"
      ],
      "execution_count": 10,
      "outputs": [
        {
          "output_type": "stream",
          "text": [
            "30\n",
            "fizzbuzz\n"
          ],
          "name": "stdout"
        }
      ]
    },
    {
      "cell_type": "code",
      "metadata": {
        "colab": {
          "base_uri": "https://localhost:8080/"
        },
        "id": "41-hcFhaq9hw",
        "outputId": "3e6e93ec-f589-45a6-d6ac-428587c3557a"
      },
      "source": [
        "'fizz' * False, 'buzz' * True"
      ],
      "execution_count": 11,
      "outputs": [
        {
          "output_type": "execute_result",
          "data": {
            "text/plain": [
              "('', 'buzz')"
            ]
          },
          "metadata": {
            "tags": []
          },
          "execution_count": 11
        }
      ]
    },
    {
      "cell_type": "code",
      "metadata": {
        "colab": {
          "base_uri": "https://localhost:8080/"
        },
        "id": "ymlWb3RqpaWb",
        "outputId": "b04175c8-ed63-4111-d410-923cb20af8d7"
      },
      "source": [
        "# 위 코디을 한줄로 할 수 있다\n",
        "x = int(input())\n",
        "print(('fizzbuzz' * (x % 15 == 0)) + 'fizz' * (x % 3 == 0) + ('buzz' * (x % 5 == 0))or x)"
      ],
      "execution_count": 14,
      "outputs": [
        {
          "output_type": "stream",
          "text": [
            "30\n",
            "fizzbuzzfizzbuzz\n"
          ],
          "name": "stdout"
        }
      ]
    },
    {
      "cell_type": "code",
      "metadata": {
        "id": "pNPM9zYbrrV1"
      },
      "source": [
        ""
      ],
      "execution_count": null,
      "outputs": []
    }
  ]
}