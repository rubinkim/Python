{
  "nbformat": 4,
  "nbformat_minor": 0,
  "metadata": {
    "colab": {
      "name": "u13_조건문.ipynb",
      "provenance": [],
      "collapsed_sections": []
    },
    "kernelspec": {
      "name": "python3",
      "display_name": "Python 3"
    },
    "language_info": {
      "name": "python"
    }
  },
  "cells": [
    {
      "cell_type": "markdown",
      "metadata": {
        "id": "3ywPbgAogoQ4"
      },
      "source": [
        "# Unit 13. if 조건문"
      ]
    },
    {
      "cell_type": "markdown",
      "metadata": {
        "id": "6gSueciHhdU5"
      },
      "source": [
        "## 13. if 조건문\n",
        "- 결과가 True나 False로 나와야 한다"
      ]
    },
    {
      "cell_type": "code",
      "metadata": {
        "colab": {
          "base_uri": "https://localhost:8080/"
        },
        "id": "YfmOv7bSgjCi",
        "outputId": "3ad86713-8bed-434e-b39c-7bac7b076b10"
      },
      "source": [
        "x = 10\n",
        "if x == 10:\n",
        "  print('It is 10.')"
      ],
      "execution_count": 1,
      "outputs": [
        {
          "output_type": "stream",
          "text": [
            "It is 10.\n"
          ],
          "name": "stdout"
        }
      ]
    },
    {
      "cell_type": "code",
      "metadata": {
        "colab": {
          "base_uri": "https://localhost:8080/"
        },
        "id": "TCbbbrqyh2JU",
        "outputId": "57f0fdc9-53fb-49f6-e77a-25053bb23614"
      },
      "source": [
        "x = 9\n",
        "if x:   # bool(9) == True\n",
        "  print('It is 10.')"
      ],
      "execution_count": 2,
      "outputs": [
        {
          "output_type": "stream",
          "text": [
            "It is 10.\n"
          ],
          "name": "stdout"
        }
      ]
    },
    {
      "cell_type": "markdown",
      "metadata": {
        "id": "W1z2zSMsiy4Q"
      },
      "source": [
        "## 13.2 들여쓰기"
      ]
    },
    {
      "cell_type": "code",
      "metadata": {
        "colab": {
          "base_uri": "https://localhost:8080/"
        },
        "id": "SMuMPVdJiSBM",
        "outputId": "473c0b7e-0248-486e-a02b-c93e49138693"
      },
      "source": [
        "x = 10\n",
        "if x == 10:\n",
        "  print('x 값은')\n",
        "  print('10입니다.')\n",
        "print('언제나 출력됩니다.')"
      ],
      "execution_count": 5,
      "outputs": [
        {
          "output_type": "stream",
          "text": [
            "x 값은\n",
            "10입니다.\n",
            "언제나 출력됩니다.\n"
          ],
          "name": "stdout"
        }
      ]
    },
    {
      "cell_type": "code",
      "metadata": {
        "colab": {
          "base_uri": "https://localhost:8080/"
        },
        "id": "0_LTsBCNjllo",
        "outputId": "9d5f93b7-3f1d-4bcc-f7fb-1a71e6511413"
      },
      "source": [
        "x = 9\n",
        "if x == 10:\n",
        "  print('x 값은')\n",
        "  print('10입니다.')\n",
        "print('언제나 출력됩니다.')"
      ],
      "execution_count": 6,
      "outputs": [
        {
          "output_type": "stream",
          "text": [
            "언제나 출력됩니다.\n"
          ],
          "name": "stdout"
        }
      ]
    },
    {
      "cell_type": "markdown",
      "metadata": {
        "id": "7LwFOtSBj6_6"
      },
      "source": [
        "## 13.3 중첩 if 조건문"
      ]
    },
    {
      "cell_type": "code",
      "metadata": {
        "colab": {
          "base_uri": "https://localhost:8080/"
        },
        "id": "sKy8_AfhjpVS",
        "outputId": "f764f6e9-781b-4ba5-8538-af72dc1911a1"
      },
      "source": [
        "x = 15\n",
        "if x > 10:\n",
        "  print('10보다 큰 숫자입니다.')\n",
        "  if x == 15:\n",
        "    print('15입니다.')\n",
        "  if x == 20:\n",
        "    print('20입니다.')"
      ],
      "execution_count": 7,
      "outputs": [
        {
          "output_type": "stream",
          "text": [
            "10보다 큰 숫자입니다.\n",
            "15입니다.\n"
          ],
          "name": "stdout"
        }
      ]
    },
    {
      "cell_type": "code",
      "metadata": {
        "colab": {
          "base_uri": "https://localhost:8080/"
        },
        "id": "-3bxQCzCkbfw",
        "outputId": "56b4d25d-6dca-4752-9e39-a5d566bea22e"
      },
      "source": [
        "x = int(input('정수를 입력하세요> '))\n",
        "if x > 10:\n",
        "  print('10보다 큰 숫자입니다.')\n",
        "  if x == 15:\n",
        "    print('15입니다.')\n",
        "  if x == 20:\n",
        "    print('20입니다.')"
      ],
      "execution_count": 8,
      "outputs": [
        {
          "output_type": "stream",
          "text": [
            "정수를 입력하세요> 20\n",
            "10보다 큰 숫자입니다.\n",
            "20입니다.\n"
          ],
          "name": "stdout"
        }
      ]
    },
    {
      "cell_type": "code",
      "metadata": {
        "id": "UwX9x1telBb1"
      },
      "source": [
        ""
      ],
      "execution_count": null,
      "outputs": []
    }
  ]
}